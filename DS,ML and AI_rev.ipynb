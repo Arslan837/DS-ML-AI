{
 "cells": [
  {
   "cell_type": "code",
   "execution_count": 1,
   "id": "7d793873-c14c-4b09-83bc-c81733729d8c",
   "metadata": {},
   "outputs": [],
   "source": [
    "import pandas as pd"
   ]
  },
  {
   "cell_type": "code",
   "execution_count": 4,
   "id": "934d0cd6-5a76-472c-ac6d-9fa9a4c75300",
   "metadata": {},
   "outputs": [],
   "source": [
    "phone_csv = pd.read_csv('phone_data.txt')"
   ]
  },
  {
   "cell_type": "code",
   "execution_count": 4,
   "id": "c8d34012-bd7a-483e-b3fc-ac97d7aef992",
   "metadata": {},
   "outputs": [
    {
     "data": {
      "text/html": [
       "<div>\n",
       "<style scoped>\n",
       "    .dataframe tbody tr th:only-of-type {\n",
       "        vertical-align: middle;\n",
       "    }\n",
       "\n",
       "    .dataframe tbody tr th {\n",
       "        vertical-align: top;\n",
       "    }\n",
       "\n",
       "    .dataframe thead th {\n",
       "        text-align: right;\n",
       "    }\n",
       "</style>\n",
       "<table border=\"1\" class=\"dataframe\">\n",
       "  <thead>\n",
       "    <tr style=\"text-align: right;\">\n",
       "      <th></th>\n",
       "      <th>Comapnay</th>\n",
       "      <th>model</th>\n",
       "      <th>memory(kb)</th>\n",
       "      <th>imei</th>\n",
       "      <th>price</th>\n",
       "    </tr>\n",
       "  </thead>\n",
       "  <tbody>\n",
       "    <tr>\n",
       "      <th>0</th>\n",
       "      <td>Samsung</td>\n",
       "      <td>A11</td>\n",
       "      <td>203322</td>\n",
       "      <td>454523</td>\n",
       "      <td>700$</td>\n",
       "    </tr>\n",
       "    <tr>\n",
       "      <th>1</th>\n",
       "      <td>Samsung</td>\n",
       "      <td>A12</td>\n",
       "      <td>432354</td>\n",
       "      <td>233234</td>\n",
       "      <td>600$</td>\n",
       "    </tr>\n",
       "    <tr>\n",
       "      <th>2</th>\n",
       "      <td>Motorola</td>\n",
       "      <td>edge+</td>\n",
       "      <td>234323</td>\n",
       "      <td>23454</td>\n",
       "      <td>700$</td>\n",
       "    </tr>\n",
       "    <tr>\n",
       "      <th>3</th>\n",
       "      <td>vivo</td>\n",
       "      <td>Y20</td>\n",
       "      <td>234334</td>\n",
       "      <td>234323</td>\n",
       "      <td>20$</td>\n",
       "    </tr>\n",
       "    <tr>\n",
       "      <th>4</th>\n",
       "      <td>Iphone</td>\n",
       "      <td>15promax</td>\n",
       "      <td>234567</td>\n",
       "      <td>233445</td>\n",
       "      <td>1500$</td>\n",
       "    </tr>\n",
       "  </tbody>\n",
       "</table>\n",
       "</div>"
      ],
      "text/plain": [
       "   Comapnay     model  memory(kb)    imei  price\n",
       "0   Samsung       A11      203322  454523   700$\n",
       "1   Samsung       A12      432354  233234   600$\n",
       "2  Motorola     edge+      234323   23454   700$\n",
       "3      vivo       Y20      234334  234323    20$\n",
       "4    Iphone  15promax      234567  233445  1500$"
      ]
     },
     "execution_count": 4,
     "metadata": {},
     "output_type": "execute_result"
    }
   ],
   "source": [
    "phone_csv"
   ]
  },
  {
   "cell_type": "code",
   "execution_count": 5,
   "id": "150ebbc5-1776-443a-a77c-cd3fa7c207be",
   "metadata": {},
   "outputs": [
    {
     "data": {
      "text/plain": [
       "Comapnay      object\n",
       "model         object\n",
       "memory(kb)     int64\n",
       "imei           int64\n",
       "price         object\n",
       "dtype: object"
      ]
     },
     "execution_count": 5,
     "metadata": {},
     "output_type": "execute_result"
    }
   ],
   "source": [
    "# this is use to check the data types of all the columns\n",
    "phone_csv.dtypes"
   ]
  },
  {
   "cell_type": "code",
   "execution_count": 6,
   "id": "6e067750-8148-4691-9eee-08150e0443a7",
   "metadata": {},
   "outputs": [
    {
     "data": {
      "text/plain": [
       "Index(['Comapnay', 'model', 'memory(kb)', 'imei', 'price'], dtype='object')"
      ]
     },
     "execution_count": 6,
     "metadata": {},
     "output_type": "execute_result"
    }
   ],
   "source": [
    "# this is use to check the all columns of the dataframe\n",
    "phone_csv.columns"
   ]
  },
  {
   "cell_type": "code",
   "execution_count": 7,
   "id": "2f4943e6-07b9-4219-8a8f-a8200cd3c91b",
   "metadata": {},
   "outputs": [
    {
     "data": {
      "text/html": [
       "<div>\n",
       "<style scoped>\n",
       "    .dataframe tbody tr th:only-of-type {\n",
       "        vertical-align: middle;\n",
       "    }\n",
       "\n",
       "    .dataframe tbody tr th {\n",
       "        vertical-align: top;\n",
       "    }\n",
       "\n",
       "    .dataframe thead th {\n",
       "        text-align: right;\n",
       "    }\n",
       "</style>\n",
       "<table border=\"1\" class=\"dataframe\">\n",
       "  <thead>\n",
       "    <tr style=\"text-align: right;\">\n",
       "      <th></th>\n",
       "      <th>memory(kb)</th>\n",
       "      <th>imei</th>\n",
       "    </tr>\n",
       "  </thead>\n",
       "  <tbody>\n",
       "    <tr>\n",
       "      <th>count</th>\n",
       "      <td>5.000000</td>\n",
       "      <td>5.000000</td>\n",
       "    </tr>\n",
       "    <tr>\n",
       "      <th>mean</th>\n",
       "      <td>267780.000000</td>\n",
       "      <td>235795.800000</td>\n",
       "    </tr>\n",
       "    <tr>\n",
       "      <th>std</th>\n",
       "      <td>92979.223988</td>\n",
       "      <td>152434.318861</td>\n",
       "    </tr>\n",
       "    <tr>\n",
       "      <th>min</th>\n",
       "      <td>203322.000000</td>\n",
       "      <td>23454.000000</td>\n",
       "    </tr>\n",
       "    <tr>\n",
       "      <th>25%</th>\n",
       "      <td>234323.000000</td>\n",
       "      <td>233234.000000</td>\n",
       "    </tr>\n",
       "    <tr>\n",
       "      <th>50%</th>\n",
       "      <td>234334.000000</td>\n",
       "      <td>233445.000000</td>\n",
       "    </tr>\n",
       "    <tr>\n",
       "      <th>75%</th>\n",
       "      <td>234567.000000</td>\n",
       "      <td>234323.000000</td>\n",
       "    </tr>\n",
       "    <tr>\n",
       "      <th>max</th>\n",
       "      <td>432354.000000</td>\n",
       "      <td>454523.000000</td>\n",
       "    </tr>\n",
       "  </tbody>\n",
       "</table>\n",
       "</div>"
      ],
      "text/plain": [
       "          memory(kb)           imei\n",
       "count       5.000000       5.000000\n",
       "mean   267780.000000  235795.800000\n",
       "std     92979.223988  152434.318861\n",
       "min    203322.000000   23454.000000\n",
       "25%    234323.000000  233234.000000\n",
       "50%    234334.000000  233445.000000\n",
       "75%    234567.000000  234323.000000\n",
       "max    432354.000000  454523.000000"
      ]
     },
     "execution_count": 7,
     "metadata": {},
     "output_type": "execute_result"
    }
   ],
   "source": [
    "# this is use to describe the data \n",
    "phone_csv.describe()"
   ]
  },
  {
   "cell_type": "code",
   "execution_count": 8,
   "id": "be921bae-a95a-4ce5-be67-ad6d29aeaef8",
   "metadata": {},
   "outputs": [
    {
     "name": "stdout",
     "output_type": "stream",
     "text": [
      "<class 'pandas.core.frame.DataFrame'>\n",
      "RangeIndex: 5 entries, 0 to 4\n",
      "Data columns (total 5 columns):\n",
      " #   Column      Non-Null Count  Dtype \n",
      "---  ------      --------------  ----- \n",
      " 0   Comapnay    5 non-null      object\n",
      " 1   model       5 non-null      object\n",
      " 2   memory(kb)  5 non-null      int64 \n",
      " 3   imei        5 non-null      int64 \n",
      " 4   price       5 non-null      object\n",
      "dtypes: int64(2), object(3)\n",
      "memory usage: 328.0+ bytes\n"
     ]
    }
   ],
   "source": [
    "# this is use  to take the much more info of the dataframe\n",
    "phone_csv.info()"
   ]
  },
  {
   "cell_type": "code",
   "execution_count": 9,
   "id": "28c225fb-5e0c-41e1-9849-aa43d57dd1f8",
   "metadata": {},
   "outputs": [
    {
     "data": {
      "text/plain": [
       "RangeIndex(start=0, stop=5, step=1)"
      ]
     },
     "execution_count": 9,
     "metadata": {},
     "output_type": "execute_result"
    }
   ],
   "source": [
    "# this is use to find the index of the dataframe\n",
    "phone_csv.index"
   ]
  },
  {
   "cell_type": "code",
   "execution_count": 12,
   "id": "72154d41-758b-4cd6-a79f-44b70223c4f5",
   "metadata": {},
   "outputs": [
    {
     "data": {
      "text/plain": [
       "235795.8"
      ]
     },
     "execution_count": 12,
     "metadata": {},
     "output_type": "execute_result"
    }
   ],
   "source": [
    "# this is how to access the values and can apply further operations on it\n",
    "phone_csv['imei'].mean()\n",
    "# this is how we can check the mean of int values in the dataframe"
   ]
  },
  {
   "cell_type": "code",
   "execution_count": 13,
   "id": "77959cf3-6be4-481c-9b07-c3dcfc892aa3",
   "metadata": {},
   "outputs": [
    {
     "data": {
      "text/plain": [
       "1178979"
      ]
     },
     "execution_count": 13,
     "metadata": {},
     "output_type": "execute_result"
    }
   ],
   "source": [
    "# this is how to access first columns and then applying function according ot data\n",
    "phone_csv['imei'].sum()"
   ]
  },
  {
   "cell_type": "code",
   "execution_count": 13,
   "id": "63e7e575-577e-412f-aa90-8149e84abdc6",
   "metadata": {},
   "outputs": [],
   "source": [
    "Sales_info = pd.read_csv('Groceries_Sales_data.csv')"
   ]
  },
  {
   "cell_type": "code",
   "execution_count": 15,
   "id": "f377d6de-a5b9-4bf7-bd89-863673774d2a",
   "metadata": {},
   "outputs": [],
   "source": [
    "#let's do one more practice by doing this task "
   ]
  },
  {
   "cell_type": "code",
   "execution_count": 16,
   "id": "864082bf-e703-4035-b277-c354bacbca50",
   "metadata": {},
   "outputs": [],
   "source": [
    "# This is our today tasks we will complete with pandas "
   ]
  },
  {
   "cell_type": "code",
   "execution_count": null,
   "id": "6396f57f-9b34-4b36-b8f3-9d7b4effd9d7",
   "metadata": {},
   "outputs": [],
   "source": [
    "# Load the data into a Pandas DataFrame.\n",
    "# Explore the basic information about the dataset, such as the number of rows, columns, data types, and missing values.\n",
    "# Calculate the total sales amount for each product.\n",
    "# Find the top 5 products with the highest sales.\n",
    "# Calculate the average sales amount per month.\n",
    "# Identify the month with the highest total sales.\n",
    "# Create a new column that represents the profit margin for each transaction. Profit margin is calculated as (profit / revenue) * 100.\n",
    "# Filter the dataset to include only transactions with a profit margin greater than 20%.\n",
    "# Plot a bar chart to visualize the total sales for each product.\n",
    "# Bonus: Perform any additional analysis or visualization that you find interesting."
   ]
  },
  {
   "cell_type": "code",
   "execution_count": 14,
   "id": "5288cbf5-a54c-49f7-be78-92434600dcc7",
   "metadata": {},
   "outputs": [
    {
     "data": {
      "text/html": [
       "<div>\n",
       "<style scoped>\n",
       "    .dataframe tbody tr th:only-of-type {\n",
       "        vertical-align: middle;\n",
       "    }\n",
       "\n",
       "    .dataframe tbody tr th {\n",
       "        vertical-align: top;\n",
       "    }\n",
       "\n",
       "    .dataframe thead th {\n",
       "        text-align: right;\n",
       "    }\n",
       "</style>\n",
       "<table border=\"1\" class=\"dataframe\">\n",
       "  <thead>\n",
       "    <tr style=\"text-align: right;\">\n",
       "      <th></th>\n",
       "      <th>Date</th>\n",
       "      <th>Sales</th>\n",
       "    </tr>\n",
       "  </thead>\n",
       "  <tbody>\n",
       "    <tr>\n",
       "      <th>0</th>\n",
       "      <td>2018/02/01</td>\n",
       "      <td>21199.0</td>\n",
       "    </tr>\n",
       "    <tr>\n",
       "      <th>1</th>\n",
       "      <td>2018/02/02</td>\n",
       "      <td>10634.0</td>\n",
       "    </tr>\n",
       "    <tr>\n",
       "      <th>2</th>\n",
       "      <td>2018/02/03</td>\n",
       "      <td>7966.0</td>\n",
       "    </tr>\n",
       "    <tr>\n",
       "      <th>3</th>\n",
       "      <td>2018/02/04</td>\n",
       "      <td>1353.0</td>\n",
       "    </tr>\n",
       "    <tr>\n",
       "      <th>4</th>\n",
       "      <td>2018/02/05</td>\n",
       "      <td>9497.0</td>\n",
       "    </tr>\n",
       "    <tr>\n",
       "      <th>...</th>\n",
       "      <td>...</td>\n",
       "      <td>...</td>\n",
       "    </tr>\n",
       "    <tr>\n",
       "      <th>751</th>\n",
       "      <td>2020/02/22</td>\n",
       "      <td>18723.1</td>\n",
       "    </tr>\n",
       "    <tr>\n",
       "      <th>752</th>\n",
       "      <td>2020/02/23</td>\n",
       "      <td>4274.9</td>\n",
       "    </tr>\n",
       "    <tr>\n",
       "      <th>753</th>\n",
       "      <td>2020/02/24</td>\n",
       "      <td>45805.7</td>\n",
       "    </tr>\n",
       "    <tr>\n",
       "      <th>754</th>\n",
       "      <td>2020/02/25</td>\n",
       "      <td>35566.3</td>\n",
       "    </tr>\n",
       "    <tr>\n",
       "      <th>755</th>\n",
       "      <td>2020/02/26</td>\n",
       "      <td>46703.0</td>\n",
       "    </tr>\n",
       "  </tbody>\n",
       "</table>\n",
       "<p>756 rows × 2 columns</p>\n",
       "</div>"
      ],
      "text/plain": [
       "           Date    Sales\n",
       "0    2018/02/01  21199.0\n",
       "1    2018/02/02  10634.0\n",
       "2    2018/02/03   7966.0\n",
       "3    2018/02/04   1353.0\n",
       "4    2018/02/05   9497.0\n",
       "..          ...      ...\n",
       "751  2020/02/22  18723.1\n",
       "752  2020/02/23   4274.9\n",
       "753  2020/02/24  45805.7\n",
       "754  2020/02/25  35566.3\n",
       "755  2020/02/26  46703.0\n",
       "\n",
       "[756 rows x 2 columns]"
      ]
     },
     "execution_count": 14,
     "metadata": {},
     "output_type": "execute_result"
    }
   ],
   "source": [
    "Sales_info"
   ]
  },
  {
   "cell_type": "code",
   "execution_count": 17,
   "id": "78e2ee25-7cd2-4d78-a4f4-2b092218a591",
   "metadata": {},
   "outputs": [],
   "source": [
    "# 1 task has completed to read a file "
   ]
  },
  {
   "cell_type": "code",
   "execution_count": 18,
   "id": "fe839f26-24f3-4b20-9919-3b85a50c920a",
   "metadata": {},
   "outputs": [],
   "source": [
    "# 2nd task is to tell how many rows coloumns and dataypes and missing values \n",
    "# as we got 756 rows and 2 columns"
   ]
  },
  {
   "cell_type": "code",
   "execution_count": 19,
   "id": "ec3acd85-1b28-41bc-b30d-eb78e8befaa5",
   "metadata": {},
   "outputs": [
    {
     "data": {
      "text/plain": [
       "Date      object\n",
       "Sales    float64\n",
       "dtype: object"
      ]
     },
     "execution_count": 19,
     "metadata": {},
     "output_type": "execute_result"
    }
   ],
   "source": [
    "# next to check dtypes of the columns let's see \n",
    "Sales_info.dtypes"
   ]
  },
  {
   "cell_type": "markdown",
   "id": "e71565b0-87b0-4fff-9e4d-7619ef24e0e8",
   "metadata": {},
   "source": [
    "Here how we checked datatypes one is float and one is object "
   ]
  },
  {
   "cell_type": "code",
   "execution_count": 20,
   "id": "c7a7daae-babe-4d7f-b4ef-43532ebbc4fc",
   "metadata": {},
   "outputs": [],
   "source": [
    "# next to check missing values missing values it will show automatically where missing values \n",
    "# pandas show NaN there so in this dataframe here is now missing values "
   ]
  },
  {
   "cell_type": "code",
   "execution_count": 22,
   "id": "a27a0d1e-999b-4c13-8b56-37eb29584f0e",
   "metadata": {},
   "outputs": [
    {
     "data": {
      "text/plain": [
       "15466529.600000001"
      ]
     },
     "execution_count": 22,
     "metadata": {},
     "output_type": "execute_result"
    }
   ],
   "source": [
    "# let's check the total sale of the day by using sum funciton let's see \n",
    "Sales_info['Sales'].sum()"
   ]
  },
  {
   "cell_type": "markdown",
   "id": "74655aac-71c7-44e4-bf65-04f01dc36127",
   "metadata": {},
   "source": [
    "Here is the total sale of the day of each product by taking the sum of the all "
   ]
  },
  {
   "cell_type": "code",
   "execution_count": 33,
   "id": "5899fee3-66f7-491b-bd3f-6033744716d6",
   "metadata": {},
   "outputs": [
    {
     "data": {
      "text/html": [
       "<div>\n",
       "<style scoped>\n",
       "    .dataframe tbody tr th:only-of-type {\n",
       "        vertical-align: middle;\n",
       "    }\n",
       "\n",
       "    .dataframe tbody tr th {\n",
       "        vertical-align: top;\n",
       "    }\n",
       "\n",
       "    .dataframe thead th {\n",
       "        text-align: right;\n",
       "    }\n",
       "</style>\n",
       "<table border=\"1\" class=\"dataframe\">\n",
       "  <thead>\n",
       "    <tr style=\"text-align: right;\">\n",
       "      <th></th>\n",
       "      <th>Date</th>\n",
       "      <th>Sales</th>\n",
       "    </tr>\n",
       "  </thead>\n",
       "  <tbody>\n",
       "    <tr>\n",
       "      <th>147</th>\n",
       "      <td>2018/06/28</td>\n",
       "      <td>74489.5</td>\n",
       "    </tr>\n",
       "    <tr>\n",
       "      <th>239</th>\n",
       "      <td>2018/09/28</td>\n",
       "      <td>83179.2</td>\n",
       "    </tr>\n",
       "    <tr>\n",
       "      <th>417</th>\n",
       "      <td>2019/03/25</td>\n",
       "      <td>75407.0</td>\n",
       "    </tr>\n",
       "    <tr>\n",
       "      <th>543</th>\n",
       "      <td>2019/07/29</td>\n",
       "      <td>76956.8</td>\n",
       "    </tr>\n",
       "    <tr>\n",
       "      <th>571</th>\n",
       "      <td>2019/08/26</td>\n",
       "      <td>76855.4</td>\n",
       "    </tr>\n",
       "  </tbody>\n",
       "</table>\n",
       "</div>"
      ],
      "text/plain": [
       "           Date    Sales\n",
       "147  2018/06/28  74489.5\n",
       "239  2018/09/28  83179.2\n",
       "417  2019/03/25  75407.0\n",
       "543  2019/07/29  76956.8\n",
       "571  2019/08/26  76855.4"
      ]
     },
     "execution_count": 33,
     "metadata": {},
     "output_type": "execute_result"
    }
   ],
   "source": [
    "Sales_info[Sales_info['Sales'] > 74048.5 ]"
   ]
  },
  {
   "cell_type": "markdown",
   "id": "5c6bbe45-4947-4ff9-8704-97b13b429236",
   "metadata": {},
   "source": [
    "This is how we have checked first five highest values in the dataframe but this is not  valid\n",
    "Practice there will be something else "
   ]
  },
  {
   "cell_type": "code",
   "execution_count": 35,
   "id": "33d03cc5-0153-4eaf-9a42-d47af4df2bc4",
   "metadata": {},
   "outputs": [
    {
     "data": {
      "text/html": [
       "<div>\n",
       "<style scoped>\n",
       "    .dataframe tbody tr th:only-of-type {\n",
       "        vertical-align: middle;\n",
       "    }\n",
       "\n",
       "    .dataframe tbody tr th {\n",
       "        vertical-align: top;\n",
       "    }\n",
       "\n",
       "    .dataframe thead th {\n",
       "        text-align: right;\n",
       "    }\n",
       "</style>\n",
       "<table border=\"1\" class=\"dataframe\">\n",
       "  <thead>\n",
       "    <tr style=\"text-align: right;\">\n",
       "      <th></th>\n",
       "      <th>Date</th>\n",
       "      <th>Sales</th>\n",
       "    </tr>\n",
       "  </thead>\n",
       "  <tbody>\n",
       "    <tr>\n",
       "      <th>239</th>\n",
       "      <td>2018/09/28</td>\n",
       "      <td>83179.2</td>\n",
       "    </tr>\n",
       "    <tr>\n",
       "      <th>543</th>\n",
       "      <td>2019/07/29</td>\n",
       "      <td>76956.8</td>\n",
       "    </tr>\n",
       "    <tr>\n",
       "      <th>571</th>\n",
       "      <td>2019/08/26</td>\n",
       "      <td>76855.4</td>\n",
       "    </tr>\n",
       "    <tr>\n",
       "      <th>417</th>\n",
       "      <td>2019/03/25</td>\n",
       "      <td>75407.0</td>\n",
       "    </tr>\n",
       "    <tr>\n",
       "      <th>147</th>\n",
       "      <td>2018/06/28</td>\n",
       "      <td>74489.5</td>\n",
       "    </tr>\n",
       "  </tbody>\n",
       "</table>\n",
       "</div>"
      ],
      "text/plain": [
       "           Date    Sales\n",
       "239  2018/09/28  83179.2\n",
       "543  2019/07/29  76956.8\n",
       "571  2019/08/26  76855.4\n",
       "417  2019/03/25  75407.0\n",
       "147  2018/06/28  74489.5"
      ]
     },
     "execution_count": 35,
     "metadata": {},
     "output_type": "execute_result"
    }
   ],
   "source": [
    "Sales_info.nlargest(5,'Sales')"
   ]
  },
  {
   "cell_type": "markdown",
   "id": "049d4afe-f618-4208-8593-b7c3fdf67e3c",
   "metadata": {},
   "source": [
    " this is the standard practice to check the first five high values in the dataframe "
   ]
  },
  {
   "cell_type": "code",
   "execution_count": 37,
   "id": "38abb566-c505-45fd-bb9c-220a5f3758a5",
   "metadata": {},
   "outputs": [
    {
     "data": {
      "text/plain": [
       "<Axes: >"
      ]
     },
     "execution_count": 37,
     "metadata": {},
     "output_type": "execute_result"
    },
    {
     "data": {
      "image/png": "[encoded data removed]",
      "text/plain": [
       "<Figure size 640x480 with 1 Axes>"
      ]
     },
     "metadata": {},
     "output_type": "display_data"
    }
   ],
   "source": [
    "Sales_info['Sales'].plot()"
   ]
  },
  {
   "cell_type": "markdown",
   "id": "6f04d259-496b-4604-ad13-d573eef80e8f",
   "metadata": {},
   "source": [
    "SO here is our average sale which is from 40 thousand to 60 thousand "
   ]
  },
  {
   "cell_type": "code",
   "execution_count": 46,
   "id": "eef534bf-fe82-45c4-a423-716fb7c6ef80",
   "metadata": {},
   "outputs": [
    {
     "data": {
      "text/html": [
       "<div>\n",
       "<style scoped>\n",
       "    .dataframe tbody tr th:only-of-type {\n",
       "        vertical-align: middle;\n",
       "    }\n",
       "\n",
       "    .dataframe tbody tr th {\n",
       "        vertical-align: top;\n",
       "    }\n",
       "\n",
       "    .dataframe thead th {\n",
       "        text-align: right;\n",
       "    }\n",
       "</style>\n",
       "<table border=\"1\" class=\"dataframe\">\n",
       "  <thead>\n",
       "    <tr style=\"text-align: right;\">\n",
       "      <th></th>\n",
       "      <th>Date</th>\n",
       "      <th>Sales</th>\n",
       "    </tr>\n",
       "  </thead>\n",
       "  <tbody>\n",
       "    <tr>\n",
       "      <th>22</th>\n",
       "      <td>2018/02/23</td>\n",
       "      <td>50480.9</td>\n",
       "    </tr>\n",
       "    <tr>\n",
       "      <th>26</th>\n",
       "      <td>2018/02/27</td>\n",
       "      <td>49382.8</td>\n",
       "    </tr>\n",
       "    <tr>\n",
       "      <th>53</th>\n",
       "      <td>2018/03/26</td>\n",
       "      <td>41275.2</td>\n",
       "    </tr>\n",
       "    <tr>\n",
       "      <th>54</th>\n",
       "      <td>2018/03/27</td>\n",
       "      <td>46658.8</td>\n",
       "    </tr>\n",
       "    <tr>\n",
       "      <th>55</th>\n",
       "      <td>2018/03/28</td>\n",
       "      <td>43621.4</td>\n",
       "    </tr>\n",
       "    <tr>\n",
       "      <th>...</th>\n",
       "      <td>...</td>\n",
       "      <td>...</td>\n",
       "    </tr>\n",
       "    <tr>\n",
       "      <th>725</th>\n",
       "      <td>2020/01/27</td>\n",
       "      <td>41210.2</td>\n",
       "    </tr>\n",
       "    <tr>\n",
       "      <th>726</th>\n",
       "      <td>2020/01/28</td>\n",
       "      <td>48276.2</td>\n",
       "    </tr>\n",
       "    <tr>\n",
       "      <th>727</th>\n",
       "      <td>2020/01/29</td>\n",
       "      <td>43421.1</td>\n",
       "    </tr>\n",
       "    <tr>\n",
       "      <th>753</th>\n",
       "      <td>2020/02/24</td>\n",
       "      <td>45805.7</td>\n",
       "    </tr>\n",
       "    <tr>\n",
       "      <th>755</th>\n",
       "      <td>2020/02/26</td>\n",
       "      <td>46703.0</td>\n",
       "    </tr>\n",
       "  </tbody>\n",
       "</table>\n",
       "<p>90 rows × 2 columns</p>\n",
       "</div>"
      ],
      "text/plain": [
       "           Date    Sales\n",
       "22   2018/02/23  50480.9\n",
       "26   2018/02/27  49382.8\n",
       "53   2018/03/26  41275.2\n",
       "54   2018/03/27  46658.8\n",
       "55   2018/03/28  43621.4\n",
       "..          ...      ...\n",
       "725  2020/01/27  41210.2\n",
       "726  2020/01/28  48276.2\n",
       "727  2020/01/29  43421.1\n",
       "753  2020/02/24  45805.7\n",
       "755  2020/02/26  46703.0\n",
       "\n",
       "[90 rows x 2 columns]"
      ]
     },
     "execution_count": 46,
     "metadata": {},
     "output_type": "execute_result"
    }
   ],
   "source": [
    "#let's see the which month have the most Sales let' see as we know we have the average of sales \n",
    "# our dataframe so we can get like this \n",
    "Sales_info[(Sales_info['Sales'] > 40000) & (Sales_info['Sales'] < 60000)] "
   ]
  },
  {
   "cell_type": "markdown",
   "id": "0cc62bb2-4a79-4068-b1b8-b910cdc8e1ae",
   "metadata": {},
   "source": [
    "this is how we have checked the average saled of the month "
   ]
  },
  {
   "cell_type": "code",
   "execution_count": 51,
   "id": "ed94e298-ac4a-4fee-9523-7b57afb35ad7",
   "metadata": {},
   "outputs": [],
   "source": [
    "# let's check the profit of the sales let's suppose the buying is the 20000 so what will be \n",
    "# the profit for each sale let's do it\n",
    "Buying = 20000\n",
    "profit =  Sales_info['Sales'] - Buying"
   ]
  },
  {
   "cell_type": "code",
   "execution_count": 52,
   "id": "23bbed40-03db-4cc5-9ab1-8c591215ee04",
   "metadata": {},
   "outputs": [],
   "source": [
    "Sales_info['profit'] = profit"
   ]
  },
  {
   "cell_type": "code",
   "execution_count": 54,
   "id": "346c4430-0d19-4326-9478-af52844fbe0f",
   "metadata": {},
   "outputs": [
    {
     "data": {
      "text/html": [
       "<div>\n",
       "<style scoped>\n",
       "    .dataframe tbody tr th:only-of-type {\n",
       "        vertical-align: middle;\n",
       "    }\n",
       "\n",
       "    .dataframe tbody tr th {\n",
       "        vertical-align: top;\n",
       "    }\n",
       "\n",
       "    .dataframe thead th {\n",
       "        text-align: right;\n",
       "    }\n",
       "</style>\n",
       "<table border=\"1\" class=\"dataframe\">\n",
       "  <thead>\n",
       "    <tr style=\"text-align: right;\">\n",
       "      <th></th>\n",
       "      <th>Date</th>\n",
       "      <th>Sales</th>\n",
       "      <th>profit</th>\n",
       "    </tr>\n",
       "  </thead>\n",
       "  <tbody>\n",
       "    <tr>\n",
       "      <th>0</th>\n",
       "      <td>2018/02/01</td>\n",
       "      <td>21199.0</td>\n",
       "      <td>1199.0</td>\n",
       "    </tr>\n",
       "    <tr>\n",
       "      <th>1</th>\n",
       "      <td>2018/02/02</td>\n",
       "      <td>10634.0</td>\n",
       "      <td>-9366.0</td>\n",
       "    </tr>\n",
       "    <tr>\n",
       "      <th>2</th>\n",
       "      <td>2018/02/03</td>\n",
       "      <td>7966.0</td>\n",
       "      <td>-12034.0</td>\n",
       "    </tr>\n",
       "    <tr>\n",
       "      <th>3</th>\n",
       "      <td>2018/02/04</td>\n",
       "      <td>1353.0</td>\n",
       "      <td>-18647.0</td>\n",
       "    </tr>\n",
       "    <tr>\n",
       "      <th>4</th>\n",
       "      <td>2018/02/05</td>\n",
       "      <td>9497.0</td>\n",
       "      <td>-10503.0</td>\n",
       "    </tr>\n",
       "    <tr>\n",
       "      <th>...</th>\n",
       "      <td>...</td>\n",
       "      <td>...</td>\n",
       "      <td>...</td>\n",
       "    </tr>\n",
       "    <tr>\n",
       "      <th>751</th>\n",
       "      <td>2020/02/22</td>\n",
       "      <td>18723.1</td>\n",
       "      <td>-1276.9</td>\n",
       "    </tr>\n",
       "    <tr>\n",
       "      <th>752</th>\n",
       "      <td>2020/02/23</td>\n",
       "      <td>4274.9</td>\n",
       "      <td>-15725.1</td>\n",
       "    </tr>\n",
       "    <tr>\n",
       "      <th>753</th>\n",
       "      <td>2020/02/24</td>\n",
       "      <td>45805.7</td>\n",
       "      <td>25805.7</td>\n",
       "    </tr>\n",
       "    <tr>\n",
       "      <th>754</th>\n",
       "      <td>2020/02/25</td>\n",
       "      <td>35566.3</td>\n",
       "      <td>15566.3</td>\n",
       "    </tr>\n",
       "    <tr>\n",
       "      <th>755</th>\n",
       "      <td>2020/02/26</td>\n",
       "      <td>46703.0</td>\n",
       "      <td>26703.0</td>\n",
       "    </tr>\n",
       "  </tbody>\n",
       "</table>\n",
       "<p>756 rows × 3 columns</p>\n",
       "</div>"
      ],
      "text/plain": [
       "           Date    Sales   profit\n",
       "0    2018/02/01  21199.0   1199.0\n",
       "1    2018/02/02  10634.0  -9366.0\n",
       "2    2018/02/03   7966.0 -12034.0\n",
       "3    2018/02/04   1353.0 -18647.0\n",
       "4    2018/02/05   9497.0 -10503.0\n",
       "..          ...      ...      ...\n",
       "751  2020/02/22  18723.1  -1276.9\n",
       "752  2020/02/23   4274.9 -15725.1\n",
       "753  2020/02/24  45805.7  25805.7\n",
       "754  2020/02/25  35566.3  15566.3\n",
       "755  2020/02/26  46703.0  26703.0\n",
       "\n",
       "[756 rows x 3 columns]"
      ]
     },
     "execution_count": 54,
     "metadata": {},
     "output_type": "execute_result"
    }
   ],
   "source": [
    "Sales_info"
   ]
  },
  {
   "cell_type": "code",
   "execution_count": 55,
   "id": "e2f23863-3170-4c3a-80e8-28a45d07e93a",
   "metadata": {},
   "outputs": [],
   "source": [
    "Buying = 20000\n",
    "profit =  Sales_info['Sales'] - Buying"
   ]
  },
  {
   "cell_type": "code",
   "execution_count": 56,
   "id": "3d5f460e-ac2b-4923-99bf-da4574b55686",
   "metadata": {},
   "outputs": [],
   "source": [
    "Sales_info['profit'] = profit"
   ]
  },
  {
   "cell_type": "code",
   "execution_count": 57,
   "id": "f5037c5c-d379-49b1-9a69-da06cf8a34ca",
   "metadata": {},
   "outputs": [
    {
     "data": {
      "text/html": [
       "<div>\n",
       "<style scoped>\n",
       "    .dataframe tbody tr th:only-of-type {\n",
       "        vertical-align: middle;\n",
       "    }\n",
       "\n",
       "    .dataframe tbody tr th {\n",
       "        vertical-align: top;\n",
       "    }\n",
       "\n",
       "    .dataframe thead th {\n",
       "        text-align: right;\n",
       "    }\n",
       "</style>\n",
       "<table border=\"1\" class=\"dataframe\">\n",
       "  <thead>\n",
       "    <tr style=\"text-align: right;\">\n",
       "      <th></th>\n",
       "      <th>Date</th>\n",
       "      <th>Sales</th>\n",
       "      <th>profit</th>\n",
       "    </tr>\n",
       "  </thead>\n",
       "  <tbody>\n",
       "    <tr>\n",
       "      <th>0</th>\n",
       "      <td>2018/02/01</td>\n",
       "      <td>21199.0</td>\n",
       "      <td>1199.0</td>\n",
       "    </tr>\n",
       "    <tr>\n",
       "      <th>1</th>\n",
       "      <td>2018/02/02</td>\n",
       "      <td>10634.0</td>\n",
       "      <td>-9366.0</td>\n",
       "    </tr>\n",
       "    <tr>\n",
       "      <th>2</th>\n",
       "      <td>2018/02/03</td>\n",
       "      <td>7966.0</td>\n",
       "      <td>-12034.0</td>\n",
       "    </tr>\n",
       "    <tr>\n",
       "      <th>3</th>\n",
       "      <td>2018/02/04</td>\n",
       "      <td>1353.0</td>\n",
       "      <td>-18647.0</td>\n",
       "    </tr>\n",
       "    <tr>\n",
       "      <th>4</th>\n",
       "      <td>2018/02/05</td>\n",
       "      <td>9497.0</td>\n",
       "      <td>-10503.0</td>\n",
       "    </tr>\n",
       "    <tr>\n",
       "      <th>...</th>\n",
       "      <td>...</td>\n",
       "      <td>...</td>\n",
       "      <td>...</td>\n",
       "    </tr>\n",
       "    <tr>\n",
       "      <th>751</th>\n",
       "      <td>2020/02/22</td>\n",
       "      <td>18723.1</td>\n",
       "      <td>-1276.9</td>\n",
       "    </tr>\n",
       "    <tr>\n",
       "      <th>752</th>\n",
       "      <td>2020/02/23</td>\n",
       "      <td>4274.9</td>\n",
       "      <td>-15725.1</td>\n",
       "    </tr>\n",
       "    <tr>\n",
       "      <th>753</th>\n",
       "      <td>2020/02/24</td>\n",
       "      <td>45805.7</td>\n",
       "      <td>25805.7</td>\n",
       "    </tr>\n",
       "    <tr>\n",
       "      <th>754</th>\n",
       "      <td>2020/02/25</td>\n",
       "      <td>35566.3</td>\n",
       "      <td>15566.3</td>\n",
       "    </tr>\n",
       "    <tr>\n",
       "      <th>755</th>\n",
       "      <td>2020/02/26</td>\n",
       "      <td>46703.0</td>\n",
       "      <td>26703.0</td>\n",
       "    </tr>\n",
       "  </tbody>\n",
       "</table>\n",
       "<p>756 rows × 3 columns</p>\n",
       "</div>"
      ],
      "text/plain": [
       "           Date    Sales   profit\n",
       "0    2018/02/01  21199.0   1199.0\n",
       "1    2018/02/02  10634.0  -9366.0\n",
       "2    2018/02/03   7966.0 -12034.0\n",
       "3    2018/02/04   1353.0 -18647.0\n",
       "4    2018/02/05   9497.0 -10503.0\n",
       "..          ...      ...      ...\n",
       "751  2020/02/22  18723.1  -1276.9\n",
       "752  2020/02/23   4274.9 -15725.1\n",
       "753  2020/02/24  45805.7  25805.7\n",
       "754  2020/02/25  35566.3  15566.3\n",
       "755  2020/02/26  46703.0  26703.0\n",
       "\n",
       "[756 rows x 3 columns]"
      ]
     },
     "execution_count": 57,
     "metadata": {},
     "output_type": "execute_result"
    }
   ],
   "source": [
    "Sales_info"
   ]
  },
  {
   "cell_type": "markdown",
   "id": "20df301a-e454-4147-a8d5-204ff6130c19",
   "metadata": {},
   "source": [
    "This is just the example of the profit with creating the profit column "
   ]
  },
  {
   "cell_type": "code",
   "execution_count": 2,
   "id": "4f77fe6d-2d9b-4cf4-95af-ff6053b8bd49",
   "metadata": {},
   "outputs": [],
   "source": [
    "# this is below lectures about the pandas so let's see these with doing pracitice\n",
    " # 3: Data Frames\n",
    " # 11 Min\n",
    " # 4: How to Import Data\n",
    " # 12 Min\n",
    " # 5: Describing Data\n",
    " # 8 Min\n",
    " # 6: Data Selection\n",
    " # 15 Min\n",
    " # 7: Data Selection 2\n",
    " # 15 Min\n",
    " # 8: Changing Data\n",
    " # 12 Min\n",
    " # 9: Add Remove Data\n",
    " # 13 Min\n",
    " # 10: Manipulating Data"
   ]
  },
  {
   "cell_type": "markdown",
   "id": "5d7ca9d2-ffba-415a-a51b-08b8393c5b9a",
   "metadata": {},
   "source": [
    "# 1 let's see first dataframes "
   ]
  },
  {
   "cell_type": "code",
   "execution_count": 6,
   "id": "ccfb12cf-fc5e-4d9f-b77a-56a901ae4ce5",
   "metadata": {},
   "outputs": [],
   "source": [
    "series_data = pd.Series([1,2,3])"
   ]
  },
  {
   "cell_type": "code",
   "execution_count": 7,
   "id": "1d767a58-8d44-4044-9b00-d83e0317e5ba",
   "metadata": {},
   "outputs": [
    {
     "data": {
      "text/plain": [
       "0    1\n",
       "1    2\n",
       "2    3\n",
       "dtype: int64"
      ]
     },
     "execution_count": 7,
     "metadata": {},
     "output_type": "execute_result"
    }
   ],
   "source": [
    "series_data"
   ]
  },
  {
   "cell_type": "code",
   "execution_count": 8,
   "id": "60dbe00e-70ee-49d0-892e-317858d861ba",
   "metadata": {},
   "outputs": [],
   "source": [
    "electronic = pd.Series(['samsung','iphone','LG','oneplus'])"
   ]
  },
  {
   "cell_type": "code",
   "execution_count": 11,
   "id": "2cc89fcc-a831-4480-b767-9614998d1e3b",
   "metadata": {},
   "outputs": [
    {
     "data": {
      "text/plain": [
       "0    samsung\n",
       "1     iphone\n",
       "2         LG\n",
       "3    oneplus\n",
       "dtype: object"
      ]
     },
     "execution_count": 11,
     "metadata": {},
     "output_type": "execute_result"
    }
   ],
   "source": [
    "electronic"
   ]
  },
  {
   "cell_type": "code",
   "execution_count": 12,
   "id": "741123e8-4dbb-4c72-ad8c-ce6681341e7f",
   "metadata": {},
   "outputs": [
    {
     "data": {
      "text/plain": [
       "0      bag\n",
       "1      pen\n",
       "2    books\n",
       "3    shoes\n",
       "dtype: object"
      ]
     },
     "execution_count": 12,
     "metadata": {},
     "output_type": "execute_result"
    }
   ],
   "source": [
    "item = pd.Series(['bag','pen','books','shoes'])\n",
    "item"
   ]
  },
  {
   "cell_type": "code",
   "execution_count": 14,
   "id": "44496367-0f8d-4d09-afc9-d9845bf3a5f3",
   "metadata": {},
   "outputs": [],
   "source": [
    "Data_frame = pd.DataFrame({'electronic':electronic,'items':item})"
   ]
  },
  {
   "cell_type": "code",
   "execution_count": 15,
   "id": "30357f89-ece6-4b75-a59c-014bd4999422",
   "metadata": {},
   "outputs": [
    {
     "data": {
      "text/html": [
       "<div>\n",
       "<style scoped>\n",
       "    .dataframe tbody tr th:only-of-type {\n",
       "        vertical-align: middle;\n",
       "    }\n",
       "\n",
       "    .dataframe tbody tr th {\n",
       "        vertical-align: top;\n",
       "    }\n",
       "\n",
       "    .dataframe thead th {\n",
       "        text-align: right;\n",
       "    }\n",
       "</style>\n",
       "<table border=\"1\" class=\"dataframe\">\n",
       "  <thead>\n",
       "    <tr style=\"text-align: right;\">\n",
       "      <th></th>\n",
       "      <th>electronic</th>\n",
       "      <th>items</th>\n",
       "    </tr>\n",
       "  </thead>\n",
       "  <tbody>\n",
       "    <tr>\n",
       "      <th>0</th>\n",
       "      <td>samsung</td>\n",
       "      <td>bag</td>\n",
       "    </tr>\n",
       "    <tr>\n",
       "      <th>1</th>\n",
       "      <td>iphone</td>\n",
       "      <td>pen</td>\n",
       "    </tr>\n",
       "    <tr>\n",
       "      <th>2</th>\n",
       "      <td>LG</td>\n",
       "      <td>books</td>\n",
       "    </tr>\n",
       "    <tr>\n",
       "      <th>3</th>\n",
       "      <td>oneplus</td>\n",
       "      <td>shoes</td>\n",
       "    </tr>\n",
       "  </tbody>\n",
       "</table>\n",
       "</div>"
      ],
      "text/plain": [
       "  electronic  items\n",
       "0    samsung    bag\n",
       "1     iphone    pen\n",
       "2         LG  books\n",
       "3    oneplus  shoes"
      ]
     },
     "execution_count": 15,
     "metadata": {},
     "output_type": "execute_result"
    }
   ],
   "source": [
    "Data_frame"
   ]
  },
  {
   "cell_type": "code",
   "execution_count": 16,
   "id": "862b3270-7797-4586-bd84-3783ea590ee0",
   "metadata": {},
   "outputs": [],
   "source": [
    "# this was all about the dataframe and and series series is one dimension data and the data created \n",
    "# dataframe is called 2-dimension data which is called dataframe "
   ]
  },
  {
   "cell_type": "markdown",
   "id": "fb57280b-9c25-4665-875f-da3223ad4204",
   "metadata": {},
   "source": [
    "# # how to import data "
   ]
  },
  {
   "cell_type": "code",
   "execution_count": 18,
   "id": "65802046-817a-400d-b1c0-df1503b7d1a6",
   "metadata": {},
   "outputs": [],
   "source": [
    "\n",
    "# in this lecture we will learn how to import and export data "
   ]
  },
  {
   "cell_type": "code",
   "execution_count": 19,
   "id": "f452a957-d050-454e-a6cd-56d395772b74",
   "metadata": {},
   "outputs": [],
   "source": [
    "# to read any csv file we have to load that file in the home of notebook then we can \n",
    "# read by using this command let's see "
   ]
  },
  {
   "cell_type": "code",
   "execution_count": 6,
   "id": "781a3589-6e92-4804-aaf3-ba28c4fa5eac",
   "metadata": {},
   "outputs": [],
   "source": [
    "phones = pd.read_csv('phone_data.txt')"
   ]
  },
  {
   "cell_type": "code",
   "execution_count": 4,
   "id": "468ab17b-28be-456d-93ad-1c659397f862",
   "metadata": {},
   "outputs": [
    {
     "data": {
      "text/html": [
       "<div>\n",
       "<style scoped>\n",
       "    .dataframe tbody tr th:only-of-type {\n",
       "        vertical-align: middle;\n",
       "    }\n",
       "\n",
       "    .dataframe tbody tr th {\n",
       "        vertical-align: top;\n",
       "    }\n",
       "\n",
       "    .dataframe thead th {\n",
       "        text-align: right;\n",
       "    }\n",
       "</style>\n",
       "<table border=\"1\" class=\"dataframe\">\n",
       "  <thead>\n",
       "    <tr style=\"text-align: right;\">\n",
       "      <th></th>\n",
       "      <th>Comapnay</th>\n",
       "      <th>model</th>\n",
       "      <th>memory(kb)</th>\n",
       "      <th>imei</th>\n",
       "      <th>price</th>\n",
       "    </tr>\n",
       "  </thead>\n",
       "  <tbody>\n",
       "    <tr>\n",
       "      <th>0</th>\n",
       "      <td>Samsung</td>\n",
       "      <td>A11</td>\n",
       "      <td>203322</td>\n",
       "      <td>454523</td>\n",
       "      <td>700$</td>\n",
       "    </tr>\n",
       "    <tr>\n",
       "      <th>1</th>\n",
       "      <td>Samsung</td>\n",
       "      <td>A12</td>\n",
       "      <td>432354</td>\n",
       "      <td>233234</td>\n",
       "      <td>600$</td>\n",
       "    </tr>\n",
       "    <tr>\n",
       "      <th>2</th>\n",
       "      <td>Motorola</td>\n",
       "      <td>edge+</td>\n",
       "      <td>234323</td>\n",
       "      <td>23454</td>\n",
       "      <td>700$</td>\n",
       "    </tr>\n",
       "    <tr>\n",
       "      <th>3</th>\n",
       "      <td>vivo</td>\n",
       "      <td>Y20</td>\n",
       "      <td>234334</td>\n",
       "      <td>234323</td>\n",
       "      <td>20$</td>\n",
       "    </tr>\n",
       "    <tr>\n",
       "      <th>4</th>\n",
       "      <td>Iphone</td>\n",
       "      <td>15promax</td>\n",
       "      <td>234567</td>\n",
       "      <td>233445</td>\n",
       "      <td>1500$</td>\n",
       "    </tr>\n",
       "  </tbody>\n",
       "</table>\n",
       "</div>"
      ],
      "text/plain": [
       "   Comapnay     model  memory(kb)    imei  price\n",
       "0   Samsung       A11      203322  454523   700$\n",
       "1   Samsung       A12      432354  233234   600$\n",
       "2  Motorola     edge+      234323   23454   700$\n",
       "3      vivo       Y20      234334  234323    20$\n",
       "4    Iphone  15promax      234567  233445  1500$"
      ]
     },
     "execution_count": 4,
     "metadata": {},
     "output_type": "execute_result"
    }
   ],
   "source": [
    "phones"
   ]
  },
  {
   "cell_type": "markdown",
   "id": "d11f2a6f-813e-4e73-ade1-9083a9332411",
   "metadata": {},
   "source": [
    "This is how we can read a file now let's see how to export data "
   ]
  },
  {
   "cell_type": "code",
   "execution_count": 22,
   "id": "f990ab85-4e60-4ff0-a924-bde81ffa4d5a",
   "metadata": {},
   "outputs": [],
   "source": [
    "# this will be the format \n",
    "# variable.to_csv('file_newname.csv') let's do it\n",
    "phones.to_csv('phones_new.csv')"
   ]
  },
  {
   "cell_type": "code",
   "execution_count": 23,
   "id": "fad4bc04-2188-4ce6-8611-ae2e601e259e",
   "metadata": {},
   "outputs": [],
   "source": [
    "# this is the way to export the file on the home of the notebook now we can again read it "
   ]
  },
  {
   "cell_type": "code",
   "execution_count": 24,
   "id": "11e252af-dc0e-4d37-8d2a-ed2e78432315",
   "metadata": {},
   "outputs": [],
   "source": [
    "phones_new = pd.read_csv('phones_new.csv')"
   ]
  },
  {
   "cell_type": "code",
   "execution_count": 25,
   "id": "81f553e0-c9e6-4e6f-a206-2d2543b48c15",
   "metadata": {},
   "outputs": [
    {
     "data": {
      "text/html": [
       "<div>\n",
       "<style scoped>\n",
       "    .dataframe tbody tr th:only-of-type {\n",
       "        vertical-align: middle;\n",
       "    }\n",
       "\n",
       "    .dataframe tbody tr th {\n",
       "        vertical-align: top;\n",
       "    }\n",
       "\n",
       "    .dataframe thead th {\n",
       "        text-align: right;\n",
       "    }\n",
       "</style>\n",
       "<table border=\"1\" class=\"dataframe\">\n",
       "  <thead>\n",
       "    <tr style=\"text-align: right;\">\n",
       "      <th></th>\n",
       "      <th>Unnamed: 0</th>\n",
       "      <th>Comapnay</th>\n",
       "      <th>model</th>\n",
       "      <th>memory(kb)</th>\n",
       "      <th>imei</th>\n",
       "      <th>price</th>\n",
       "    </tr>\n",
       "  </thead>\n",
       "  <tbody>\n",
       "    <tr>\n",
       "      <th>0</th>\n",
       "      <td>0</td>\n",
       "      <td>Samsung</td>\n",
       "      <td>A11</td>\n",
       "      <td>203322</td>\n",
       "      <td>454523</td>\n",
       "      <td>700$</td>\n",
       "    </tr>\n",
       "    <tr>\n",
       "      <th>1</th>\n",
       "      <td>1</td>\n",
       "      <td>Samsung</td>\n",
       "      <td>A12</td>\n",
       "      <td>432354</td>\n",
       "      <td>233234</td>\n",
       "      <td>600$</td>\n",
       "    </tr>\n",
       "    <tr>\n",
       "      <th>2</th>\n",
       "      <td>2</td>\n",
       "      <td>Motorola</td>\n",
       "      <td>edge+</td>\n",
       "      <td>234323</td>\n",
       "      <td>23454</td>\n",
       "      <td>700$</td>\n",
       "    </tr>\n",
       "    <tr>\n",
       "      <th>3</th>\n",
       "      <td>3</td>\n",
       "      <td>vivo</td>\n",
       "      <td>Y20</td>\n",
       "      <td>234334</td>\n",
       "      <td>234323</td>\n",
       "      <td>20$</td>\n",
       "    </tr>\n",
       "    <tr>\n",
       "      <th>4</th>\n",
       "      <td>4</td>\n",
       "      <td>Iphone</td>\n",
       "      <td>15promax</td>\n",
       "      <td>234567</td>\n",
       "      <td>233445</td>\n",
       "      <td>1500$</td>\n",
       "    </tr>\n",
       "  </tbody>\n",
       "</table>\n",
       "</div>"
      ],
      "text/plain": [
       "   Unnamed: 0  Comapnay     model  memory(kb)    imei  price\n",
       "0           0   Samsung       A11      203322  454523   700$\n",
       "1           1   Samsung       A12      432354  233234   600$\n",
       "2           2  Motorola     edge+      234323   23454   700$\n",
       "3           3      vivo       Y20      234334  234323    20$\n",
       "4           4    Iphone  15promax      234567  233445  1500$"
      ]
     },
     "execution_count": 25,
     "metadata": {},
     "output_type": "execute_result"
    }
   ],
   "source": [
    "phones_new"
   ]
  },
  {
   "cell_type": "code",
   "execution_count": 26,
   "id": "3e9e22ad-bce9-4b29-a1bf-cc1e1eacefbb",
   "metadata": {},
   "outputs": [],
   "source": [
    "# this is here we got an problem when we will create the csv file it will generate the automatically the\n",
    "# one extra index column which we can avoid by doing like this "
   ]
  },
  {
   "cell_type": "code",
   "execution_count": 7,
   "id": "73126f46-02e9-446f-b0e6-444244366ed7",
   "metadata": {},
   "outputs": [],
   "source": [
    "phones.to_csv('phones_modi.csv',index=True) # here is the way to avoid the extra inedex"
   ]
  },
  {
   "cell_type": "markdown",
   "id": "8230ae59-827d-469e-b3ec-bc3269adcce5",
   "metadata": {},
   "source": [
    "# # Describing Data"
   ]
  },
  {
   "cell_type": "code",
   "execution_count": 9,
   "id": "327df255-ace8-4f3f-84a0-6f85ca7272bf",
   "metadata": {},
   "outputs": [],
   "source": [
    "\n",
    "# in this we have learned these methods so we will apply on it and check \n",
    "# 1.dtypes : for checking the datatypes of the dataframe\n",
    "# 2.coloumns : this is use to check the column names in the dataframe \n",
    "# 2.index : for checking the index start and end point and stepsize\n",
    "# 3.describe : it is applicable only on the int and it will describe the function on int for e:g mean etc\n",
    "# 4.info : for checking the information of the data \n",
    "# 5.accessing keys and applying the function on it \n",
    "# 6.mean : this is use to find the mean of int type column \n",
    "# let's try this all one by one"
   ]
  },
  {
   "cell_type": "code",
   "execution_count": 10,
   "id": "fe9cd1a0-92dd-44dd-bce4-16c7bd5d5260",
   "metadata": {},
   "outputs": [
    {
     "data": {
      "text/html": [
       "<div>\n",
       "<style scoped>\n",
       "    .dataframe tbody tr th:only-of-type {\n",
       "        vertical-align: middle;\n",
       "    }\n",
       "\n",
       "    .dataframe tbody tr th {\n",
       "        vertical-align: top;\n",
       "    }\n",
       "\n",
       "    .dataframe thead th {\n",
       "        text-align: right;\n",
       "    }\n",
       "</style>\n",
       "<table border=\"1\" class=\"dataframe\">\n",
       "  <thead>\n",
       "    <tr style=\"text-align: right;\">\n",
       "      <th></th>\n",
       "      <th>Comapnay</th>\n",
       "      <th>model</th>\n",
       "      <th>memory(kb)</th>\n",
       "      <th>imei</th>\n",
       "      <th>price</th>\n",
       "    </tr>\n",
       "  </thead>\n",
       "  <tbody>\n",
       "    <tr>\n",
       "      <th>0</th>\n",
       "      <td>Samsung</td>\n",
       "      <td>A11</td>\n",
       "      <td>203322</td>\n",
       "      <td>454523</td>\n",
       "      <td>700$</td>\n",
       "    </tr>\n",
       "    <tr>\n",
       "      <th>1</th>\n",
       "      <td>Samsung</td>\n",
       "      <td>A12</td>\n",
       "      <td>432354</td>\n",
       "      <td>233234</td>\n",
       "      <td>600$</td>\n",
       "    </tr>\n",
       "    <tr>\n",
       "      <th>2</th>\n",
       "      <td>Motorola</td>\n",
       "      <td>edge+</td>\n",
       "      <td>234323</td>\n",
       "      <td>23454</td>\n",
       "      <td>700$</td>\n",
       "    </tr>\n",
       "    <tr>\n",
       "      <th>3</th>\n",
       "      <td>vivo</td>\n",
       "      <td>Y20</td>\n",
       "      <td>234334</td>\n",
       "      <td>234323</td>\n",
       "      <td>20$</td>\n",
       "    </tr>\n",
       "    <tr>\n",
       "      <th>4</th>\n",
       "      <td>Iphone</td>\n",
       "      <td>15promax</td>\n",
       "      <td>234567</td>\n",
       "      <td>233445</td>\n",
       "      <td>1500$</td>\n",
       "    </tr>\n",
       "  </tbody>\n",
       "</table>\n",
       "</div>"
      ],
      "text/plain": [
       "   Comapnay     model  memory(kb)    imei  price\n",
       "0   Samsung       A11      203322  454523   700$\n",
       "1   Samsung       A12      432354  233234   600$\n",
       "2  Motorola     edge+      234323   23454   700$\n",
       "3      vivo       Y20      234334  234323    20$\n",
       "4    Iphone  15promax      234567  233445  1500$"
      ]
     },
     "execution_count": 10,
     "metadata": {},
     "output_type": "execute_result"
    }
   ],
   "source": [
    "phones"
   ]
  },
  {
   "cell_type": "code",
   "execution_count": 11,
   "id": "1e26be53-2e25-4156-b344-71752fa9d969",
   "metadata": {},
   "outputs": [
    {
     "data": {
      "text/plain": [
       "Comapnay      object\n",
       "model         object\n",
       "memory(kb)     int64\n",
       "imei           int64\n",
       "price         object\n",
       "dtype: object"
      ]
     },
     "execution_count": 11,
     "metadata": {},
     "output_type": "execute_result"
    }
   ],
   "source": [
    "phones.dtypes"
   ]
  },
  {
   "cell_type": "markdown",
   "id": "60538fee-b59d-4b41-a4f4-fe9256392273",
   "metadata": {},
   "source": [
    "This is how it's telling the datatypes of the dataframe "
   ]
  },
  {
   "cell_type": "code",
   "execution_count": 17,
   "id": "e0a8191e-684c-45c8-aae2-b8e0252a680d",
   "metadata": {},
   "outputs": [
    {
     "data": {
      "text/plain": [
       "Index(['Comapnay', 'model', 'memory(kb)', 'imei', 'price'], dtype='object')"
      ]
     },
     "execution_count": 17,
     "metadata": {},
     "output_type": "execute_result"
    }
   ],
   "source": [
    "phones.columns"
   ]
  },
  {
   "cell_type": "markdown",
   "id": "a8921fad-6c73-4114-86d3-77482ec2fd1e",
   "metadata": {},
   "source": [
    "This is how we can check the columns names of the dataframe "
   ]
  },
  {
   "cell_type": "code",
   "execution_count": 18,
   "id": "352691b9-b92a-46c6-ba46-54cf9f297a5c",
   "metadata": {},
   "outputs": [
    {
     "data": {
      "text/plain": [
       "RangeIndex(start=0, stop=5, step=1)"
      ]
     },
     "execution_count": 18,
     "metadata": {},
     "output_type": "execute_result"
    }
   ],
   "source": [
    "phones.index"
   ]
  },
  {
   "cell_type": "markdown",
   "id": "bd333176-dd07-47a7-a27f-1c1cc172af44",
   "metadata": {},
   "source": [
    "This is how we can check the index of the dataframes from row 1 to row end"
   ]
  },
  {
   "cell_type": "code",
   "execution_count": 19,
   "id": "1d0901fa-7b7c-4190-be45-7d4756f510eb",
   "metadata": {},
   "outputs": [
    {
     "data": {
      "text/html": [
       "<div>\n",
       "<style scoped>\n",
       "    .dataframe tbody tr th:only-of-type {\n",
       "        vertical-align: middle;\n",
       "    }\n",
       "\n",
       "    .dataframe tbody tr th {\n",
       "        vertical-align: top;\n",
       "    }\n",
       "\n",
       "    .dataframe thead th {\n",
       "        text-align: right;\n",
       "    }\n",
       "</style>\n",
       "<table border=\"1\" class=\"dataframe\">\n",
       "  <thead>\n",
       "    <tr style=\"text-align: right;\">\n",
       "      <th></th>\n",
       "      <th>memory(kb)</th>\n",
       "      <th>imei</th>\n",
       "    </tr>\n",
       "  </thead>\n",
       "  <tbody>\n",
       "    <tr>\n",
       "      <th>count</th>\n",
       "      <td>5.000000</td>\n",
       "      <td>5.000000</td>\n",
       "    </tr>\n",
       "    <tr>\n",
       "      <th>mean</th>\n",
       "      <td>267780.000000</td>\n",
       "      <td>235795.800000</td>\n",
       "    </tr>\n",
       "    <tr>\n",
       "      <th>std</th>\n",
       "      <td>92979.223988</td>\n",
       "      <td>152434.318861</td>\n",
       "    </tr>\n",
       "    <tr>\n",
       "      <th>min</th>\n",
       "      <td>203322.000000</td>\n",
       "      <td>23454.000000</td>\n",
       "    </tr>\n",
       "    <tr>\n",
       "      <th>25%</th>\n",
       "      <td>234323.000000</td>\n",
       "      <td>233234.000000</td>\n",
       "    </tr>\n",
       "    <tr>\n",
       "      <th>50%</th>\n",
       "      <td>234334.000000</td>\n",
       "      <td>233445.000000</td>\n",
       "    </tr>\n",
       "    <tr>\n",
       "      <th>75%</th>\n",
       "      <td>234567.000000</td>\n",
       "      <td>234323.000000</td>\n",
       "    </tr>\n",
       "    <tr>\n",
       "      <th>max</th>\n",
       "      <td>432354.000000</td>\n",
       "      <td>454523.000000</td>\n",
       "    </tr>\n",
       "  </tbody>\n",
       "</table>\n",
       "</div>"
      ],
      "text/plain": [
       "          memory(kb)           imei\n",
       "count       5.000000       5.000000\n",
       "mean   267780.000000  235795.800000\n",
       "std     92979.223988  152434.318861\n",
       "min    203322.000000   23454.000000\n",
       "25%    234323.000000  233234.000000\n",
       "50%    234334.000000  233445.000000\n",
       "75%    234567.000000  234323.000000\n",
       "max    432354.000000  454523.000000"
      ]
     },
     "execution_count": 19,
     "metadata": {},
     "output_type": "execute_result"
    }
   ],
   "source": [
    "phones.describe()"
   ]
  },
  {
   "cell_type": "markdown",
   "id": "e6183d55-d020-4db1-985b-5f05041b9f09",
   "metadata": {},
   "source": [
    "This is how we can check the describe function to describe the values of the int \n",
    "Here we are seeing one more difference we used paranthesis with the describe function \n",
    "this is the difference between attribute and function with paranthesis is function without\n",
    "paranthesis is attribute "
   ]
  },
  {
   "cell_type": "code",
   "execution_count": 20,
   "id": "476c971c-d6fc-4371-9a0a-550c5d5b92ef",
   "metadata": {},
   "outputs": [
    {
     "name": "stdout",
     "output_type": "stream",
     "text": [
      "<class 'pandas.core.frame.DataFrame'>\n",
      "RangeIndex: 5 entries, 0 to 4\n",
      "Data columns (total 5 columns):\n",
      " #   Column      Non-Null Count  Dtype \n",
      "---  ------      --------------  ----- \n",
      " 0   Comapnay    5 non-null      object\n",
      " 1   model       5 non-null      object\n",
      " 2   memory(kb)  5 non-null      int64 \n",
      " 3   imei        5 non-null      int64 \n",
      " 4   price       5 non-null      object\n",
      "dtypes: int64(2), object(3)\n",
      "memory usage: 328.0+ bytes\n"
     ]
    }
   ],
   "source": [
    "phones.info()"
   ]
  },
  {
   "cell_type": "markdown",
   "id": "9704350b-c170-420d-a3f4-48e09ef2693e",
   "metadata": {},
   "source": [
    "here how we are checking the information of the dataframe each and everything"
   ]
  },
  {
   "cell_type": "code",
   "execution_count": 22,
   "id": "42f83344-d556-4145-bbfc-822e93ccfa35",
   "metadata": {},
   "outputs": [],
   "source": [
    "# Now we will use mean function which is applicable only on the int type column let's see "
   ]
  },
  {
   "cell_type": "code",
   "execution_count": 23,
   "id": "86ac1576-c5e6-4b43-b93a-a3e307ca3266",
   "metadata": {},
   "outputs": [
    {
     "data": {
      "text/plain": [
       "267780.0"
      ]
     },
     "execution_count": 23,
     "metadata": {},
     "output_type": "execute_result"
    }
   ],
   "source": [
    "phones['memory(kb)'].mean()"
   ]
  },
  {
   "cell_type": "markdown",
   "id": "f7c1a99a-d0a8-4cc8-a8c2-b3c6626ff2a1",
   "metadata": {},
   "source": [
    "like this we can access first the specific column and then we can find the mean of inttypes \n",
    "data columns "
   ]
  },
  {
   "cell_type": "code",
   "execution_count": 24,
   "id": "f13aeb03-0ade-46b7-8df9-2f4f81e51ae0",
   "metadata": {},
   "outputs": [],
   "source": [
    "# we can apply more further functions on it by accessing the specific \n",
    "# columns and apply function according to the datatype "
   ]
  },
  {
   "cell_type": "code",
   "execution_count": 25,
   "id": "832977a8-bf36-4c53-9fa0-70823d12fb76",
   "metadata": {},
   "outputs": [
    {
     "data": {
      "text/plain": [
       "1178979"
      ]
     },
     "execution_count": 25,
     "metadata": {},
     "output_type": "execute_result"
    }
   ],
   "source": [
    "phones['imei'].sum()"
   ]
  },
  {
   "cell_type": "markdown",
   "id": "3c09ece6-59a5-4fa4-bd55-2f209621962b",
   "metadata": {},
   "source": [
    "This is how we can apply further function by accessing the column and according to the dtype of \n",
    " the column"
   ]
  },
  {
   "cell_type": "markdown",
   "id": "ea6ab73d-fde6-44a7-964b-b325d07319ae",
   "metadata": {},
   "source": [
    "# Data Selection"
   ]
  },
  {
   "cell_type": "code",
   "execution_count": 26,
   "id": "6a65925d-91be-46f3-a9da-3876e10d1ec4",
   "metadata": {},
   "outputs": [],
   "source": [
    "# in this lecture we will apply these below function and take output accrodingly\n",
    "# 1.head() : this is use to show first five values from top to bottom but it can take an argument \n",
    "            # int to show according the argument\n",
    "# 2.tail() : # this is similar to the head but it's shows bottom to top and can show by taking argument\n",
    "# 3.loc() : this is use to access the rows by index we can give index manually as well\n",
    "# 4.iloc() : this is use to access the rows by the exact location where it is \n",
    "            # and possible slicing with this \n",
    "# And one thing more we can access the specific data in the column by using condition let's see"
   ]
  },
  {
   "cell_type": "code",
   "execution_count": 27,
   "id": "e7934e54-fb95-486a-9007-66fa4cc6b8fc",
   "metadata": {},
   "outputs": [
    {
     "data": {
      "text/html": [
       "<div>\n",
       "<style scoped>\n",
       "    .dataframe tbody tr th:only-of-type {\n",
       "        vertical-align: middle;\n",
       "    }\n",
       "\n",
       "    .dataframe tbody tr th {\n",
       "        vertical-align: top;\n",
       "    }\n",
       "\n",
       "    .dataframe thead th {\n",
       "        text-align: right;\n",
       "    }\n",
       "</style>\n",
       "<table border=\"1\" class=\"dataframe\">\n",
       "  <thead>\n",
       "    <tr style=\"text-align: right;\">\n",
       "      <th></th>\n",
       "      <th>Comapnay</th>\n",
       "      <th>model</th>\n",
       "      <th>memory(kb)</th>\n",
       "      <th>imei</th>\n",
       "      <th>price</th>\n",
       "    </tr>\n",
       "  </thead>\n",
       "  <tbody>\n",
       "    <tr>\n",
       "      <th>0</th>\n",
       "      <td>Samsung</td>\n",
       "      <td>A11</td>\n",
       "      <td>203322</td>\n",
       "      <td>454523</td>\n",
       "      <td>700$</td>\n",
       "    </tr>\n",
       "    <tr>\n",
       "      <th>1</th>\n",
       "      <td>Samsung</td>\n",
       "      <td>A12</td>\n",
       "      <td>432354</td>\n",
       "      <td>233234</td>\n",
       "      <td>600$</td>\n",
       "    </tr>\n",
       "    <tr>\n",
       "      <th>2</th>\n",
       "      <td>Motorola</td>\n",
       "      <td>edge+</td>\n",
       "      <td>234323</td>\n",
       "      <td>23454</td>\n",
       "      <td>700$</td>\n",
       "    </tr>\n",
       "    <tr>\n",
       "      <th>3</th>\n",
       "      <td>vivo</td>\n",
       "      <td>Y20</td>\n",
       "      <td>234334</td>\n",
       "      <td>234323</td>\n",
       "      <td>20$</td>\n",
       "    </tr>\n",
       "    <tr>\n",
       "      <th>4</th>\n",
       "      <td>Iphone</td>\n",
       "      <td>15promax</td>\n",
       "      <td>234567</td>\n",
       "      <td>233445</td>\n",
       "      <td>1500$</td>\n",
       "    </tr>\n",
       "  </tbody>\n",
       "</table>\n",
       "</div>"
      ],
      "text/plain": [
       "   Comapnay     model  memory(kb)    imei  price\n",
       "0   Samsung       A11      203322  454523   700$\n",
       "1   Samsung       A12      432354  233234   600$\n",
       "2  Motorola     edge+      234323   23454   700$\n",
       "3      vivo       Y20      234334  234323    20$\n",
       "4    Iphone  15promax      234567  233445  1500$"
      ]
     },
     "execution_count": 27,
     "metadata": {},
     "output_type": "execute_result"
    }
   ],
   "source": [
    "phones.head()"
   ]
  },
  {
   "cell_type": "markdown",
   "id": "f146578c-df63-4094-8779-f547331290ce",
   "metadata": {},
   "source": [
    "Like this it will show the first five rows by default "
   ]
  },
  {
   "cell_type": "code",
   "execution_count": 28,
   "id": "7e113083-8c55-453e-afcf-37b02d632e7d",
   "metadata": {},
   "outputs": [
    {
     "data": {
      "text/html": [
       "<div>\n",
       "<style scoped>\n",
       "    .dataframe tbody tr th:only-of-type {\n",
       "        vertical-align: middle;\n",
       "    }\n",
       "\n",
       "    .dataframe tbody tr th {\n",
       "        vertical-align: top;\n",
       "    }\n",
       "\n",
       "    .dataframe thead th {\n",
       "        text-align: right;\n",
       "    }\n",
       "</style>\n",
       "<table border=\"1\" class=\"dataframe\">\n",
       "  <thead>\n",
       "    <tr style=\"text-align: right;\">\n",
       "      <th></th>\n",
       "      <th>Comapnay</th>\n",
       "      <th>model</th>\n",
       "      <th>memory(kb)</th>\n",
       "      <th>imei</th>\n",
       "      <th>price</th>\n",
       "    </tr>\n",
       "  </thead>\n",
       "  <tbody>\n",
       "    <tr>\n",
       "      <th>0</th>\n",
       "      <td>Samsung</td>\n",
       "      <td>A11</td>\n",
       "      <td>203322</td>\n",
       "      <td>454523</td>\n",
       "      <td>700$</td>\n",
       "    </tr>\n",
       "    <tr>\n",
       "      <th>1</th>\n",
       "      <td>Samsung</td>\n",
       "      <td>A12</td>\n",
       "      <td>432354</td>\n",
       "      <td>233234</td>\n",
       "      <td>600$</td>\n",
       "    </tr>\n",
       "    <tr>\n",
       "      <th>2</th>\n",
       "      <td>Motorola</td>\n",
       "      <td>edge+</td>\n",
       "      <td>234323</td>\n",
       "      <td>23454</td>\n",
       "      <td>700$</td>\n",
       "    </tr>\n",
       "  </tbody>\n",
       "</table>\n",
       "</div>"
      ],
      "text/plain": [
       "   Comapnay  model  memory(kb)    imei price\n",
       "0   Samsung    A11      203322  454523  700$\n",
       "1   Samsung    A12      432354  233234  600$\n",
       "2  Motorola  edge+      234323   23454  700$"
      ]
     },
     "execution_count": 28,
     "metadata": {},
     "output_type": "execute_result"
    }
   ],
   "source": [
    "phones.head(3)"
   ]
  },
  {
   "cell_type": "markdown",
   "id": "0c1c2381-cfdf-418c-81ac-1aec3381d592",
   "metadata": {},
   "source": [
    "like this is how we can give argument and can access accordingly"
   ]
  },
  {
   "cell_type": "code",
   "execution_count": 29,
   "id": "bff5a649-a030-40c0-b4c8-feebc0162f2f",
   "metadata": {},
   "outputs": [
    {
     "data": {
      "text/html": [
       "<div>\n",
       "<style scoped>\n",
       "    .dataframe tbody tr th:only-of-type {\n",
       "        vertical-align: middle;\n",
       "    }\n",
       "\n",
       "    .dataframe tbody tr th {\n",
       "        vertical-align: top;\n",
       "    }\n",
       "\n",
       "    .dataframe thead th {\n",
       "        text-align: right;\n",
       "    }\n",
       "</style>\n",
       "<table border=\"1\" class=\"dataframe\">\n",
       "  <thead>\n",
       "    <tr style=\"text-align: right;\">\n",
       "      <th></th>\n",
       "      <th>Comapnay</th>\n",
       "      <th>model</th>\n",
       "      <th>memory(kb)</th>\n",
       "      <th>imei</th>\n",
       "      <th>price</th>\n",
       "    </tr>\n",
       "  </thead>\n",
       "  <tbody>\n",
       "    <tr>\n",
       "      <th>0</th>\n",
       "      <td>Samsung</td>\n",
       "      <td>A11</td>\n",
       "      <td>203322</td>\n",
       "      <td>454523</td>\n",
       "      <td>700$</td>\n",
       "    </tr>\n",
       "    <tr>\n",
       "      <th>1</th>\n",
       "      <td>Samsung</td>\n",
       "      <td>A12</td>\n",
       "      <td>432354</td>\n",
       "      <td>233234</td>\n",
       "      <td>600$</td>\n",
       "    </tr>\n",
       "    <tr>\n",
       "      <th>2</th>\n",
       "      <td>Motorola</td>\n",
       "      <td>edge+</td>\n",
       "      <td>234323</td>\n",
       "      <td>23454</td>\n",
       "      <td>700$</td>\n",
       "    </tr>\n",
       "    <tr>\n",
       "      <th>3</th>\n",
       "      <td>vivo</td>\n",
       "      <td>Y20</td>\n",
       "      <td>234334</td>\n",
       "      <td>234323</td>\n",
       "      <td>20$</td>\n",
       "    </tr>\n",
       "    <tr>\n",
       "      <th>4</th>\n",
       "      <td>Iphone</td>\n",
       "      <td>15promax</td>\n",
       "      <td>234567</td>\n",
       "      <td>233445</td>\n",
       "      <td>1500$</td>\n",
       "    </tr>\n",
       "  </tbody>\n",
       "</table>\n",
       "</div>"
      ],
      "text/plain": [
       "   Comapnay     model  memory(kb)    imei  price\n",
       "0   Samsung       A11      203322  454523   700$\n",
       "1   Samsung       A12      432354  233234   600$\n",
       "2  Motorola     edge+      234323   23454   700$\n",
       "3      vivo       Y20      234334  234323    20$\n",
       "4    Iphone  15promax      234567  233445  1500$"
      ]
     },
     "execution_count": 29,
     "metadata": {},
     "output_type": "execute_result"
    }
   ],
   "source": [
    "phones.tail()"
   ]
  },
  {
   "cell_type": "markdown",
   "id": "26f45d58-2815-4761-a077-e24295f8a8f3",
   "metadata": {},
   "source": [
    "it will access the last five values from bottom to top"
   ]
  },
  {
   "cell_type": "code",
   "execution_count": 30,
   "id": "df242342-f00e-4604-b2fc-52ea70bbbb74",
   "metadata": {},
   "outputs": [
    {
     "data": {
      "text/html": [
       "<div>\n",
       "<style scoped>\n",
       "    .dataframe tbody tr th:only-of-type {\n",
       "        vertical-align: middle;\n",
       "    }\n",
       "\n",
       "    .dataframe tbody tr th {\n",
       "        vertical-align: top;\n",
       "    }\n",
       "\n",
       "    .dataframe thead th {\n",
       "        text-align: right;\n",
       "    }\n",
       "</style>\n",
       "<table border=\"1\" class=\"dataframe\">\n",
       "  <thead>\n",
       "    <tr style=\"text-align: right;\">\n",
       "      <th></th>\n",
       "      <th>Comapnay</th>\n",
       "      <th>model</th>\n",
       "      <th>memory(kb)</th>\n",
       "      <th>imei</th>\n",
       "      <th>price</th>\n",
       "    </tr>\n",
       "  </thead>\n",
       "  <tbody>\n",
       "    <tr>\n",
       "      <th>2</th>\n",
       "      <td>Motorola</td>\n",
       "      <td>edge+</td>\n",
       "      <td>234323</td>\n",
       "      <td>23454</td>\n",
       "      <td>700$</td>\n",
       "    </tr>\n",
       "    <tr>\n",
       "      <th>3</th>\n",
       "      <td>vivo</td>\n",
       "      <td>Y20</td>\n",
       "      <td>234334</td>\n",
       "      <td>234323</td>\n",
       "      <td>20$</td>\n",
       "    </tr>\n",
       "    <tr>\n",
       "      <th>4</th>\n",
       "      <td>Iphone</td>\n",
       "      <td>15promax</td>\n",
       "      <td>234567</td>\n",
       "      <td>233445</td>\n",
       "      <td>1500$</td>\n",
       "    </tr>\n",
       "  </tbody>\n",
       "</table>\n",
       "</div>"
      ],
      "text/plain": [
       "   Comapnay     model  memory(kb)    imei  price\n",
       "2  Motorola     edge+      234323   23454   700$\n",
       "3      vivo       Y20      234334  234323    20$\n",
       "4    Iphone  15promax      234567  233445  1500$"
      ]
     },
     "execution_count": 30,
     "metadata": {},
     "output_type": "execute_result"
    }
   ],
   "source": [
    "phones.tail(3)"
   ]
  },
  {
   "cell_type": "markdown",
   "id": "4310c568-eb11-4aa9-85ef-4640ed9ae7a1",
   "metadata": {},
   "source": [
    "this is how we can access specific rows only"
   ]
  },
  {
   "cell_type": "code",
   "execution_count": 32,
   "id": "f1d156a9-66e3-47d9-9dbb-4cdec3d38375",
   "metadata": {},
   "outputs": [
    {
     "data": {
      "text/plain": [
       "Comapnay      Samsung\n",
       "model             A12\n",
       "memory(kb)     432354\n",
       "imei           233234\n",
       "price            600$\n",
       "Name: 1, dtype: object"
      ]
     },
     "execution_count": 32,
     "metadata": {},
     "output_type": "execute_result"
    }
   ],
   "source": [
    "phones.loc[1]"
   ]
  },
  {
   "cell_type": "code",
   "execution_count": 33,
   "id": "22c7da4f-d002-45e9-a7f1-e093ddf6231a",
   "metadata": {},
   "outputs": [],
   "source": [
    "# this is how we can access by index and we can set index manually let's see one example of it"
   ]
  },
  {
   "cell_type": "code",
   "execution_count": 34,
   "id": "dea44340-8cc2-4885-b291-1e9a8794b640",
   "metadata": {},
   "outputs": [],
   "source": [
    "electronics = pd.Series(['iphone','samsung','LG','vivo'],index=(2,3,5,6))"
   ]
  },
  {
   "cell_type": "code",
   "execution_count": 35,
   "id": "8546068c-b096-459e-abff-4b9843f61ac4",
   "metadata": {},
   "outputs": [
    {
     "data": {
      "text/plain": [
       "2     iphone\n",
       "3    samsung\n",
       "5         LG\n",
       "6       vivo\n",
       "dtype: object"
      ]
     },
     "execution_count": 35,
     "metadata": {},
     "output_type": "execute_result"
    }
   ],
   "source": [
    "electronics"
   ]
  },
  {
   "cell_type": "markdown",
   "id": "a32a2dc2-41ad-4d2b-b1b8-54be2e0096a3",
   "metadata": {},
   "source": [
    "This is how we can set the manual index and can access with index by using he loc[] function"
   ]
  },
  {
   "cell_type": "code",
   "execution_count": 36,
   "id": "8c87a521-4b55-417c-8ac3-bf4140533055",
   "metadata": {},
   "outputs": [
    {
     "data": {
      "text/plain": [
       "'vivo'"
      ]
     },
     "execution_count": 36,
     "metadata": {},
     "output_type": "execute_result"
    }
   ],
   "source": [
    "electronics.loc[6]"
   ]
  },
  {
   "cell_type": "markdown",
   "id": "ae7c8213-128c-4b29-b27a-1060d77401f3",
   "metadata": {},
   "source": [
    "here we can see at six manual index there was vivo so it's gave the value (vivo)"
   ]
  },
  {
   "cell_type": "code",
   "execution_count": 37,
   "id": "54bd54cf-433e-4c50-986c-f90da8b5e183",
   "metadata": {},
   "outputs": [],
   "source": [
    "# now let's access by exact location with iloc function "
   ]
  },
  {
   "cell_type": "code",
   "execution_count": 39,
   "id": "a1255547-7da2-447b-9cb9-e6dc45e0d888",
   "metadata": {},
   "outputs": [
    {
     "data": {
      "text/plain": [
       "'vivo'"
      ]
     },
     "execution_count": 39,
     "metadata": {},
     "output_type": "execute_result"
    }
   ],
   "source": [
    "electronics.iloc[3]"
   ]
  },
  {
   "cell_type": "markdown",
   "id": "5cb2c528-188a-48c0-b075-9b1192cdda3e",
   "metadata": {},
   "source": [
    "here we can see it's also showing the vivi but with different argument \n",
    "cuz iloc is use to locate the exact location of the data no matter what the index is "
   ]
  },
  {
   "cell_type": "code",
   "execution_count": 40,
   "id": "9d65c55e-9405-4f16-a9d5-10515c84a489",
   "metadata": {},
   "outputs": [
    {
     "data": {
      "text/html": [
       "<div>\n",
       "<style scoped>\n",
       "    .dataframe tbody tr th:only-of-type {\n",
       "        vertical-align: middle;\n",
       "    }\n",
       "\n",
       "    .dataframe tbody tr th {\n",
       "        vertical-align: top;\n",
       "    }\n",
       "\n",
       "    .dataframe thead th {\n",
       "        text-align: right;\n",
       "    }\n",
       "</style>\n",
       "<table border=\"1\" class=\"dataframe\">\n",
       "  <thead>\n",
       "    <tr style=\"text-align: right;\">\n",
       "      <th></th>\n",
       "      <th>Comapnay</th>\n",
       "      <th>model</th>\n",
       "      <th>memory(kb)</th>\n",
       "      <th>imei</th>\n",
       "      <th>price</th>\n",
       "    </tr>\n",
       "  </thead>\n",
       "  <tbody>\n",
       "    <tr>\n",
       "      <th>0</th>\n",
       "      <td>Samsung</td>\n",
       "      <td>A11</td>\n",
       "      <td>203322</td>\n",
       "      <td>454523</td>\n",
       "      <td>700$</td>\n",
       "    </tr>\n",
       "    <tr>\n",
       "      <th>1</th>\n",
       "      <td>Samsung</td>\n",
       "      <td>A12</td>\n",
       "      <td>432354</td>\n",
       "      <td>233234</td>\n",
       "      <td>600$</td>\n",
       "    </tr>\n",
       "    <tr>\n",
       "      <th>2</th>\n",
       "      <td>Motorola</td>\n",
       "      <td>edge+</td>\n",
       "      <td>234323</td>\n",
       "      <td>23454</td>\n",
       "      <td>700$</td>\n",
       "    </tr>\n",
       "  </tbody>\n",
       "</table>\n",
       "</div>"
      ],
      "text/plain": [
       "   Comapnay  model  memory(kb)    imei price\n",
       "0   Samsung    A11      203322  454523  700$\n",
       "1   Samsung    A12      432354  233234  600$\n",
       "2  Motorola  edge+      234323   23454  700$"
      ]
     },
     "execution_count": 40,
     "metadata": {},
     "output_type": "execute_result"
    }
   ],
   "source": [
    "# we can do also slicing of rows with .iloc func let's see\n",
    "phones.iloc[:3]"
   ]
  },
  {
   "cell_type": "markdown",
   "id": "a1deeeed-782e-4e04-872d-1544e7543112",
   "metadata": {},
   "source": [
    "here we can see it's start point is zero and end point was 3 so it showed the result\n"
   ]
  },
  {
   "cell_type": "markdown",
   "id": "5a529165-2486-4ddf-b386-a4309d785f99",
   "metadata": {},
   "source": [
    "we can take the similar work as head by iloc "
   ]
  },
  {
   "cell_type": "markdown",
   "id": "a4db031b-4519-4991-9779-bbc66b3dce08",
   "metadata": {},
   "source": [
    "Like this = iloc[start_point,end_point,step_size]"
   ]
  },
  {
   "cell_type": "code",
   "execution_count": 43,
   "id": "0ec330f2-e970-4cfe-a3fa-35329022a666",
   "metadata": {},
   "outputs": [
    {
     "data": {
      "text/plain": [
       "0    454523\n",
       "1    233234\n",
       "2     23454\n",
       "3    234323\n",
       "4    233445\n",
       "Name: imei, dtype: int64"
      ]
     },
     "execution_count": 43,
     "metadata": {},
     "output_type": "execute_result"
    }
   ],
   "source": [
    "# here is another way to access the column from the dataframe let's see\n",
    "phones.imei"
   ]
  },
  {
   "cell_type": "markdown",
   "id": "16c46e01-f4cb-4ced-9409-08ae77dc11df",
   "metadata": {},
   "source": [
    "like this we can accesss the column but if the column name with paranthesis it will give error\n",
    "and if the column name has space betweeen it so it will give error so that type \n",
    "of column we have to access the 2nd way "
   ]
  },
  {
   "cell_type": "code",
   "execution_count": 44,
   "id": "2aaad0f1-9550-4ee8-9f22-2dc6d6dc0f47",
   "metadata": {},
   "outputs": [
    {
     "data": {
      "text/plain": [
       "0    203322\n",
       "1    432354\n",
       "2    234323\n",
       "3    234334\n",
       "4    234567\n",
       "Name: memory(kb), dtype: int64"
      ]
     },
     "execution_count": 44,
     "metadata": {},
     "output_type": "execute_result"
    }
   ],
   "source": [
    "phones['memory(kb)'] # like this "
   ]
  },
  {
   "cell_type": "code",
   "execution_count": 45,
   "id": "47eabfcd-72cf-4f16-9545-d8fe23b57f67",
   "metadata": {},
   "outputs": [],
   "source": [
    "# let's access the specific data types of the column with applyin the condition on it"
   ]
  },
  {
   "cell_type": "code",
   "execution_count": 48,
   "id": "b81533f9-72c6-430f-8065-20e9ec23aa31",
   "metadata": {},
   "outputs": [
    {
     "data": {
      "text/html": [
       "<div>\n",
       "<style scoped>\n",
       "    .dataframe tbody tr th:only-of-type {\n",
       "        vertical-align: middle;\n",
       "    }\n",
       "\n",
       "    .dataframe tbody tr th {\n",
       "        vertical-align: top;\n",
       "    }\n",
       "\n",
       "    .dataframe thead th {\n",
       "        text-align: right;\n",
       "    }\n",
       "</style>\n",
       "<table border=\"1\" class=\"dataframe\">\n",
       "  <thead>\n",
       "    <tr style=\"text-align: right;\">\n",
       "      <th></th>\n",
       "      <th>Comapnay</th>\n",
       "      <th>model</th>\n",
       "      <th>memory(kb)</th>\n",
       "      <th>imei</th>\n",
       "      <th>price</th>\n",
       "    </tr>\n",
       "  </thead>\n",
       "  <tbody>\n",
       "    <tr>\n",
       "      <th>0</th>\n",
       "      <td>Samsung</td>\n",
       "      <td>A11</td>\n",
       "      <td>203322</td>\n",
       "      <td>454523</td>\n",
       "      <td>700$</td>\n",
       "    </tr>\n",
       "    <tr>\n",
       "      <th>1</th>\n",
       "      <td>Samsung</td>\n",
       "      <td>A12</td>\n",
       "      <td>432354</td>\n",
       "      <td>233234</td>\n",
       "      <td>600$</td>\n",
       "    </tr>\n",
       "  </tbody>\n",
       "</table>\n",
       "</div>"
      ],
      "text/plain": [
       "  Comapnay model  memory(kb)    imei price\n",
       "0  Samsung   A11      203322  454523  700$\n",
       "1  Samsung   A12      432354  233234  600$"
      ]
     },
     "execution_count": 48,
     "metadata": {},
     "output_type": "execute_result"
    }
   ],
   "source": [
    "phones[phones['Comapnay'] == 'Samsung']"
   ]
  },
  {
   "cell_type": "markdown",
   "id": "2d115f75-c9f4-4dbf-9b7c-4bbb484cc03d",
   "metadata": {},
   "source": [
    "This is how we have applied the condition to show only those rows which have samsung in their \n",
    "data like this = variable[variable['column_name'] condition ]"
   ]
  },
  {
   "cell_type": "code",
   "execution_count": 49,
   "id": "1a433712-a567-44e9-8d94-d7895dcd4b75",
   "metadata": {},
   "outputs": [],
   "source": [
    "# but we are seeing here is a problem that if we will apply condition on the price \n",
    "# it wil give error because the price in neither int or string so due dollar sign with it\n",
    "# so first we will convert it into string then remove the dollar sign and then change it into \n",
    "# float "
   ]
  },
  {
   "cell_type": "markdown",
   "id": "c015ca12-5514-4b78-bb17-0f3223c11db3",
   "metadata": {},
   "source": [
    "# Data Selection 2"
   ]
  },
  {
   "cell_type": "code",
   "execution_count": 50,
   "id": "a20f4684-c149-4ac0-8c9c-292fdeb2b83d",
   "metadata": {},
   "outputs": [],
   "source": [
    "# in this we will apply these below functions on the dataframe \n",
    "# 1.crosstab() : to compare all the columns each other \n",
    "# 2.groupby() : to comapare on specific column with others \n",
    "# 3.plot() : to plot the values of the int column \n",
    "# 4.hist() : to plot the values of the specific int column to check how much it's spread\n",
    "# 5. changing the price object dtypes into float to do ploting on it cause ploting is only possible on the int"
   ]
  },
  {
   "cell_type": "code",
   "execution_count": 53,
   "id": "2d1edf36-a895-4cf7-b5ae-2c0885ab168a",
   "metadata": {},
   "outputs": [
    {
     "data": {
      "text/html": [
       "<div>\n",
       "<style scoped>\n",
       "    .dataframe tbody tr th:only-of-type {\n",
       "        vertical-align: middle;\n",
       "    }\n",
       "\n",
       "    .dataframe tbody tr th {\n",
       "        vertical-align: top;\n",
       "    }\n",
       "\n",
       "    .dataframe thead th {\n",
       "        text-align: right;\n",
       "    }\n",
       "</style>\n",
       "<table border=\"1\" class=\"dataframe\">\n",
       "  <thead>\n",
       "    <tr style=\"text-align: right;\">\n",
       "      <th>memory(kb)</th>\n",
       "      <th>203322</th>\n",
       "      <th>234323</th>\n",
       "      <th>234334</th>\n",
       "      <th>234567</th>\n",
       "      <th>432354</th>\n",
       "    </tr>\n",
       "    <tr>\n",
       "      <th>imei</th>\n",
       "      <th></th>\n",
       "      <th></th>\n",
       "      <th></th>\n",
       "      <th></th>\n",
       "      <th></th>\n",
       "    </tr>\n",
       "  </thead>\n",
       "  <tbody>\n",
       "    <tr>\n",
       "      <th>23454</th>\n",
       "      <td>0</td>\n",
       "      <td>1</td>\n",
       "      <td>0</td>\n",
       "      <td>0</td>\n",
       "      <td>0</td>\n",
       "    </tr>\n",
       "    <tr>\n",
       "      <th>233234</th>\n",
       "      <td>0</td>\n",
       "      <td>0</td>\n",
       "      <td>0</td>\n",
       "      <td>0</td>\n",
       "      <td>1</td>\n",
       "    </tr>\n",
       "    <tr>\n",
       "      <th>233445</th>\n",
       "      <td>0</td>\n",
       "      <td>0</td>\n",
       "      <td>0</td>\n",
       "      <td>1</td>\n",
       "      <td>0</td>\n",
       "    </tr>\n",
       "    <tr>\n",
       "      <th>234323</th>\n",
       "      <td>0</td>\n",
       "      <td>0</td>\n",
       "      <td>1</td>\n",
       "      <td>0</td>\n",
       "      <td>0</td>\n",
       "    </tr>\n",
       "    <tr>\n",
       "      <th>454523</th>\n",
       "      <td>1</td>\n",
       "      <td>0</td>\n",
       "      <td>0</td>\n",
       "      <td>0</td>\n",
       "      <td>0</td>\n",
       "    </tr>\n",
       "  </tbody>\n",
       "</table>\n",
       "</div>"
      ],
      "text/plain": [
       "memory(kb)  203322  234323  234334  234567  432354\n",
       "imei                                              \n",
       "23454            0       1       0       0       0\n",
       "233234           0       0       0       0       1\n",
       "233445           0       0       0       1       0\n",
       "234323           0       0       1       0       0\n",
       "454523           1       0       0       0       0"
      ]
     },
     "execution_count": 53,
     "metadata": {},
     "output_type": "execute_result"
    }
   ],
   "source": [
    "# here we have to do it by using pd not on the dataframe\n",
    "pd.crosstab(phones['imei'],phones['memory(kb)'])"
   ]
  },
  {
   "cell_type": "markdown",
   "id": "aed330aa-9a2d-4677-a4cc-996b980c4116",
   "metadata": {},
   "source": [
    "here how it's showing the comparison of the two columns "
   ]
  },
  {
   "cell_type": "code",
   "execution_count": 61,
   "id": "cc9e85f4-174f-4bb6-9b6b-8f98553ef16a",
   "metadata": {},
   "outputs": [],
   "source": [
    "# but here we don't need to use the pd we have to use variable name"
   ]
  },
  {
   "cell_type": "code",
   "execution_count": 62,
   "id": "26e96434-05ca-4413-9da9-5a00f38509f6",
   "metadata": {},
   "outputs": [],
   "source": [
    "# groupby function only applicable to int type columns compare only intype columns "
   ]
  },
  {
   "cell_type": "code",
   "execution_count": 63,
   "id": "bf1fffb3-c9e6-49ec-9201-dbab297dd6ec",
   "metadata": {},
   "outputs": [
    {
     "data": {
      "text/plain": [
       "<Axes: >"
      ]
     },
     "execution_count": 63,
     "metadata": {},
     "output_type": "execute_result"
    },
    {
     "data": {
      "image/png": "[encoded data removed]",
      "text/plain": [
       "<Figure size 640x480 with 1 Axes>"
      ]
     },
     "metadata": {},
     "output_type": "display_data"
    }
   ],
   "source": [
    "phones['imei'].plot()"
   ]
  },
  {
   "cell_type": "markdown",
   "id": "9e0b4186-5b23-4692-9bca-b33a2ed860c1",
   "metadata": {},
   "source": [
    "this is how we can plot the data of the only int type columns "
   ]
  },
  {
   "cell_type": "code",
   "execution_count": 64,
   "id": "fc894589-de17-4613-8c0e-c66614156a83",
   "metadata": {},
   "outputs": [
    {
     "data": {
      "text/plain": [
       "<Axes: >"
      ]
     },
     "execution_count": 64,
     "metadata": {},
     "output_type": "execute_result"
    },
    {
     "data": {
      "image/png": "[encoded data removed]",
      "text/plain": [
       "<Figure size 640x480 with 1 Axes>"
      ]
     },
     "metadata": {},
     "output_type": "display_data"
    }
   ],
   "source": [
    "phones['imei'].hist()"
   ]
  },
  {
   "cell_type": "markdown",
   "id": "b3cd233e-e250-498d-8364-a6887d2d7886",
   "metadata": {},
   "source": [
    "this is how we can plot the data to check how much our data spreaded "
   ]
  },
  {
   "cell_type": "code",
   "execution_count": 65,
   "id": "87f2cd7a-79c6-4e46-a658-a53aaf7b0c93",
   "metadata": {},
   "outputs": [],
   "source": [
    "# if we want to apply this on the price which is object it will give error cuz it's only applicable on the int\n",
    "# so let's first convert price into int "
   ]
  },
  {
   "cell_type": "code",
   "execution_count": 68,
   "id": "99d604e2-c29e-4ed4-ba42-0a5d9d43cb8d",
   "metadata": {},
   "outputs": [],
   "source": [
    "# this how we can convert first it into string then replace the dollar sign with empty spcae instring \n",
    "#then we convert it into int \n",
    "phones['price'] = phones['price'].str.replace('$','').astype(int)\n",
    "# i want to add here one more thing that if we want to clean the int values by removing all other \n",
    "# things with the int values so we can do it like this \n",
    "# phones['price'] = phones['price].str.replace('^\\d','',regex=True).astype(int) like this "
   ]
  },
  {
   "cell_type": "code",
   "execution_count": 69,
   "id": "9af50b46-a8d7-454f-932b-12c61f74cc93",
   "metadata": {},
   "outputs": [
    {
     "data": {
      "text/html": [
       "<div>\n",
       "<style scoped>\n",
       "    .dataframe tbody tr th:only-of-type {\n",
       "        vertical-align: middle;\n",
       "    }\n",
       "\n",
       "    .dataframe tbody tr th {\n",
       "        vertical-align: top;\n",
       "    }\n",
       "\n",
       "    .dataframe thead th {\n",
       "        text-align: right;\n",
       "    }\n",
       "</style>\n",
       "<table border=\"1\" class=\"dataframe\">\n",
       "  <thead>\n",
       "    <tr style=\"text-align: right;\">\n",
       "      <th></th>\n",
       "      <th>Comapnay</th>\n",
       "      <th>model</th>\n",
       "      <th>memory(kb)</th>\n",
       "      <th>imei</th>\n",
       "      <th>price</th>\n",
       "    </tr>\n",
       "  </thead>\n",
       "  <tbody>\n",
       "    <tr>\n",
       "      <th>0</th>\n",
       "      <td>Samsung</td>\n",
       "      <td>A11</td>\n",
       "      <td>203322</td>\n",
       "      <td>454523</td>\n",
       "      <td>700</td>\n",
       "    </tr>\n",
       "    <tr>\n",
       "      <th>1</th>\n",
       "      <td>Samsung</td>\n",
       "      <td>A12</td>\n",
       "      <td>432354</td>\n",
       "      <td>233234</td>\n",
       "      <td>600</td>\n",
       "    </tr>\n",
       "    <tr>\n",
       "      <th>2</th>\n",
       "      <td>Motorola</td>\n",
       "      <td>edge+</td>\n",
       "      <td>234323</td>\n",
       "      <td>23454</td>\n",
       "      <td>700</td>\n",
       "    </tr>\n",
       "    <tr>\n",
       "      <th>3</th>\n",
       "      <td>vivo</td>\n",
       "      <td>Y20</td>\n",
       "      <td>234334</td>\n",
       "      <td>234323</td>\n",
       "      <td>20</td>\n",
       "    </tr>\n",
       "    <tr>\n",
       "      <th>4</th>\n",
       "      <td>Iphone</td>\n",
       "      <td>15promax</td>\n",
       "      <td>234567</td>\n",
       "      <td>233445</td>\n",
       "      <td>1500</td>\n",
       "    </tr>\n",
       "  </tbody>\n",
       "</table>\n",
       "</div>"
      ],
      "text/plain": [
       "   Comapnay     model  memory(kb)    imei  price\n",
       "0   Samsung       A11      203322  454523    700\n",
       "1   Samsung       A12      432354  233234    600\n",
       "2  Motorola     edge+      234323   23454    700\n",
       "3      vivo       Y20      234334  234323     20\n",
       "4    Iphone  15promax      234567  233445   1500"
      ]
     },
     "execution_count": 69,
     "metadata": {},
     "output_type": "execute_result"
    }
   ],
   "source": [
    "phones"
   ]
  },
  {
   "cell_type": "markdown",
   "id": "61ed30a6-fb40-4383-8cf3-462e381012bd",
   "metadata": {},
   "source": [
    "Now we can see it's converted the price into int let's see check "
   ]
  },
  {
   "cell_type": "code",
   "execution_count": 70,
   "id": "d041045b-3d95-45e9-88e7-d4552b0e44a8",
   "metadata": {},
   "outputs": [
    {
     "data": {
      "text/plain": [
       "dtype('int32')"
      ]
     },
     "execution_count": 70,
     "metadata": {},
     "output_type": "execute_result"
    }
   ],
   "source": [
    "phones['price'].dtype"
   ]
  },
  {
   "cell_type": "markdown",
   "id": "3cb5bacf-9eef-462b-a490-e281a6d62353",
   "metadata": {},
   "source": [
    "as we can see it's showing the int so now we can do ploting on it "
   ]
  },
  {
   "cell_type": "code",
   "execution_count": 71,
   "id": "7d1f4a6f-cc3d-4374-a1d1-497968cab844",
   "metadata": {},
   "outputs": [
    {
     "data": {
      "text/plain": [
       "<Axes: >"
      ]
     },
     "execution_count": 71,
     "metadata": {},
     "output_type": "execute_result"
    },
    {
     "data": {
      "image/png": "[encoded data removed]",
      "text/plain": [
       "<Figure size 640x480 with 1 Axes>"
      ]
     },
     "metadata": {},
     "output_type": "display_data"
    }
   ],
   "source": [
    "phones['price'].hist()"
   ]
  },
  {
   "cell_type": "markdown",
   "id": "c72ea6b2-8216-432b-a50a-7c3672a71d19",
   "metadata": {},
   "source": [
    "Great!"
   ]
  },
  {
   "cell_type": "markdown",
   "id": "f558c3b7-cbed-4270-8de4-20aa5d07b5cc",
   "metadata": {},
   "source": [
    "# Changing data"
   ]
  },
  {
   "cell_type": "code",
   "execution_count": 2,
   "id": "a76cc9ba-b16b-40ae-b7a8-959d16addcf4",
   "metadata": {},
   "outputs": [],
   "source": [
    "# in this lecture we will learn below concepts\n",
    "# first to make the all character into lower of a column which is holding the string values \n",
    "# second fillna() : this function we will use to fill the empty values in the dataframe like in \n",
    "                   # in our data if there is empty space if we will read the missing data file \n",
    "                    # it will show NaN inplace empty spaces and we will fill with fillna and \n",
    "                    # the with the possible value\n",
    "# third dropna() : this function is use you remove the all empty  values from the dataframe \n",
    "# let's start"
   ]
  },
  {
   "cell_type": "code",
   "execution_count": 8,
   "id": "8fa91358-aa65-4efd-840b-5d51c3b8bc51",
   "metadata": {},
   "outputs": [
    {
     "data": {
      "text/plain": [
       "0     samsung\n",
       "1     samsung\n",
       "2    motorola\n",
       "3        vivo\n",
       "4      iphone\n",
       "Name: Comapnay, dtype: object"
      ]
     },
     "execution_count": 8,
     "metadata": {},
     "output_type": "execute_result"
    }
   ],
   "source": [
    "# to changing strings into lower case \n",
    "phones['Comapnay'].str.lower()"
   ]
  },
  {
   "cell_type": "markdown",
   "id": "86147ba6-68d9-4f80-ae80-88100c8e0dab",
   "metadata": {},
   "source": [
    "This is how it's turning all the string values into the lower case "
   ]
  },
  {
   "cell_type": "code",
   "execution_count": 9,
   "id": "dd873ad0-93f1-402f-b7d4-f15163e63235",
   "metadata": {},
   "outputs": [
    {
     "data": {
      "text/plain": [
       "0     SAMSUNG\n",
       "1     SAMSUNG\n",
       "2    MOTOROLA\n",
       "3        VIVO\n",
       "4      IPHONE\n",
       "Name: Comapnay, dtype: object"
      ]
     },
     "execution_count": 9,
     "metadata": {},
     "output_type": "execute_result"
    }
   ],
   "source": [
    "phones['Comapnay'].str.upper()"
   ]
  },
  {
   "cell_type": "code",
   "execution_count": 10,
   "id": "b365351b-76e0-4318-b4bd-c8025905894f",
   "metadata": {},
   "outputs": [],
   "source": [
    "# now let's see the fillna function to fill the empty values "
   ]
  },
  {
   "cell_type": "code",
   "execution_count": 11,
   "id": "7a4c6dbb-c2f4-4497-813b-1c01ac249ef6",
   "metadata": {},
   "outputs": [],
   "source": [
    "missed_data = pd.read_csv('Phone_missing_csv.csv')"
   ]
  },
  {
   "cell_type": "code",
   "execution_count": 12,
   "id": "9dfc9e1c-a907-4847-8c5b-81b1401c7802",
   "metadata": {},
   "outputs": [
    {
     "data": {
      "text/html": [
       "<div>\n",
       "<style scoped>\n",
       "    .dataframe tbody tr th:only-of-type {\n",
       "        vertical-align: middle;\n",
       "    }\n",
       "\n",
       "    .dataframe tbody tr th {\n",
       "        vertical-align: top;\n",
       "    }\n",
       "\n",
       "    .dataframe thead th {\n",
       "        text-align: right;\n",
       "    }\n",
       "</style>\n",
       "<table border=\"1\" class=\"dataframe\">\n",
       "  <thead>\n",
       "    <tr style=\"text-align: right;\">\n",
       "      <th></th>\n",
       "      <th>Comapnay</th>\n",
       "      <th>model</th>\n",
       "      <th>memory(kb)</th>\n",
       "      <th>imei</th>\n",
       "      <th>price</th>\n",
       "    </tr>\n",
       "  </thead>\n",
       "  <tbody>\n",
       "    <tr>\n",
       "      <th>0</th>\n",
       "      <td>Samsung</td>\n",
       "      <td>A11</td>\n",
       "      <td>203322.0</td>\n",
       "      <td>454523.0</td>\n",
       "      <td>700$</td>\n",
       "    </tr>\n",
       "    <tr>\n",
       "      <th>1</th>\n",
       "      <td>Samsung</td>\n",
       "      <td>A12</td>\n",
       "      <td>432354.0</td>\n",
       "      <td>233234.0</td>\n",
       "      <td>600$</td>\n",
       "    </tr>\n",
       "    <tr>\n",
       "      <th>2</th>\n",
       "      <td>Motorola</td>\n",
       "      <td>NaN</td>\n",
       "      <td>NaN</td>\n",
       "      <td>NaN</td>\n",
       "      <td>700$</td>\n",
       "    </tr>\n",
       "    <tr>\n",
       "      <th>3</th>\n",
       "      <td>vivo</td>\n",
       "      <td>Y20</td>\n",
       "      <td>234334.0</td>\n",
       "      <td>234323.0</td>\n",
       "      <td>20$</td>\n",
       "    </tr>\n",
       "    <tr>\n",
       "      <th>4</th>\n",
       "      <td>Iphone</td>\n",
       "      <td>15promax</td>\n",
       "      <td>234567.0</td>\n",
       "      <td>233445.0</td>\n",
       "      <td>1500$</td>\n",
       "    </tr>\n",
       "    <tr>\n",
       "      <th>5</th>\n",
       "      <td>Samsung</td>\n",
       "      <td>A11</td>\n",
       "      <td>203322.0</td>\n",
       "      <td>454523.0</td>\n",
       "      <td>700$</td>\n",
       "    </tr>\n",
       "    <tr>\n",
       "      <th>6</th>\n",
       "      <td>Samsung</td>\n",
       "      <td>A12</td>\n",
       "      <td>432354.0</td>\n",
       "      <td>233234.0</td>\n",
       "      <td>NaN</td>\n",
       "    </tr>\n",
       "    <tr>\n",
       "      <th>7</th>\n",
       "      <td>Motorola</td>\n",
       "      <td>edge+</td>\n",
       "      <td>234323.0</td>\n",
       "      <td>23454.0</td>\n",
       "      <td>700$</td>\n",
       "    </tr>\n",
       "    <tr>\n",
       "      <th>8</th>\n",
       "      <td>NaN</td>\n",
       "      <td>Y20</td>\n",
       "      <td>234334.0</td>\n",
       "      <td>234323.0</td>\n",
       "      <td>20$</td>\n",
       "    </tr>\n",
       "    <tr>\n",
       "      <th>9</th>\n",
       "      <td>Iphone</td>\n",
       "      <td>15promax</td>\n",
       "      <td>234567.0</td>\n",
       "      <td>233445.0</td>\n",
       "      <td>1500$</td>\n",
       "    </tr>\n",
       "    <tr>\n",
       "      <th>10</th>\n",
       "      <td>Samsung</td>\n",
       "      <td>NaN</td>\n",
       "      <td>NaN</td>\n",
       "      <td>NaN</td>\n",
       "      <td>700$</td>\n",
       "    </tr>\n",
       "    <tr>\n",
       "      <th>11</th>\n",
       "      <td>Samsung</td>\n",
       "      <td>A12</td>\n",
       "      <td>432354.0</td>\n",
       "      <td>233234.0</td>\n",
       "      <td>600$</td>\n",
       "    </tr>\n",
       "    <tr>\n",
       "      <th>12</th>\n",
       "      <td>NaN</td>\n",
       "      <td>edge+</td>\n",
       "      <td>234323.0</td>\n",
       "      <td>23454.0</td>\n",
       "      <td>NaN</td>\n",
       "    </tr>\n",
       "    <tr>\n",
       "      <th>13</th>\n",
       "      <td>vivo</td>\n",
       "      <td>Y20</td>\n",
       "      <td>234334.0</td>\n",
       "      <td>234323.0</td>\n",
       "      <td>20$</td>\n",
       "    </tr>\n",
       "    <tr>\n",
       "      <th>14</th>\n",
       "      <td>Iphone</td>\n",
       "      <td>15promax</td>\n",
       "      <td>234567.0</td>\n",
       "      <td>233445.0</td>\n",
       "      <td>1500$</td>\n",
       "    </tr>\n",
       "  </tbody>\n",
       "</table>\n",
       "</div>"
      ],
      "text/plain": [
       "    Comapnay     model  memory(kb)      imei  price\n",
       "0    Samsung       A11    203322.0  454523.0   700$\n",
       "1    Samsung       A12    432354.0  233234.0   600$\n",
       "2   Motorola       NaN         NaN       NaN   700$\n",
       "3       vivo       Y20    234334.0  234323.0    20$\n",
       "4     Iphone  15promax    234567.0  233445.0  1500$\n",
       "5    Samsung       A11    203322.0  454523.0   700$\n",
       "6    Samsung       A12    432354.0  233234.0    NaN\n",
       "7   Motorola     edge+    234323.0   23454.0   700$\n",
       "8        NaN       Y20    234334.0  234323.0    20$\n",
       "9     Iphone  15promax    234567.0  233445.0  1500$\n",
       "10   Samsung       NaN         NaN       NaN   700$\n",
       "11   Samsung       A12    432354.0  233234.0   600$\n",
       "12       NaN     edge+    234323.0   23454.0    NaN\n",
       "13      vivo       Y20    234334.0  234323.0    20$\n",
       "14    Iphone  15promax    234567.0  233445.0  1500$"
      ]
     },
     "execution_count": 12,
     "metadata": {},
     "output_type": "execute_result"
    }
   ],
   "source": [
    "missed_data"
   ]
  },
  {
   "cell_type": "markdown",
   "id": "80d45bce-df68-4f4e-b4de-0fa5815117ba",
   "metadata": {},
   "source": [
    "here we can see it's showing NaN where is nothing value empty values "
   ]
  },
  {
   "cell_type": "code",
   "execution_count": 13,
   "id": "b3a02210-e60b-4c5f-9ed2-966e30ec5db4",
   "metadata": {},
   "outputs": [],
   "source": [
    "# let's fill the values of the imei so we have to put the nearer value in the dataframe \n",
    "# so here we will put the mean value of the imei let's see"
   ]
  },
  {
   "cell_type": "code",
   "execution_count": 14,
   "id": "825e033b-55bd-4cd6-95cb-830f8977a3e4",
   "metadata": {},
   "outputs": [
    {
     "data": {
      "text/plain": [
       "235304.61538461538"
      ]
     },
     "execution_count": 14,
     "metadata": {},
     "output_type": "execute_result"
    }
   ],
   "source": [
    "missed_data['imei'].mean()"
   ]
  },
  {
   "cell_type": "code",
   "execution_count": 16,
   "id": "fb7de63f-908b-4a9f-8320-e35777148109",
   "metadata": {},
   "outputs": [
    {
     "data": {
      "text/plain": [
       "0     454523.000000\n",
       "1     233234.000000\n",
       "2     235304.615385\n",
       "3     234323.000000\n",
       "4     233445.000000\n",
       "5     454523.000000\n",
       "6     233234.000000\n",
       "7      23454.000000\n",
       "8     234323.000000\n",
       "9     233445.000000\n",
       "10    235304.615385\n",
       "11    233234.000000\n",
       "12     23454.000000\n",
       "13    234323.000000\n",
       "14    233445.000000\n",
       "Name: imei, dtype: float64"
      ]
     },
     "execution_count": 16,
     "metadata": {},
     "output_type": "execute_result"
    }
   ],
   "source": [
    "missed_data['imei'].fillna(missed_data['imei'].mean())"
   ]
  },
  {
   "cell_type": "code",
   "execution_count": 17,
   "id": "6fc7a689-35b9-48f8-8680-ef5803b5f20b",
   "metadata": {},
   "outputs": [],
   "source": [
    "# this is how we have filled the value in the imei column but here is a problem  if we \n",
    "# recall the phones it will again show the empty space so avoid that problem we will use \n",
    "# inplace True either we will assign it to the same column again "
   ]
  },
  {
   "cell_type": "code",
   "execution_count": 20,
   "id": "35fc1279-fa88-4865-95cf-0afdaf48bdf0",
   "metadata": {},
   "outputs": [
    {
     "data": {
      "text/html": [
       "<div>\n",
       "<style scoped>\n",
       "    .dataframe tbody tr th:only-of-type {\n",
       "        vertical-align: middle;\n",
       "    }\n",
       "\n",
       "    .dataframe tbody tr th {\n",
       "        vertical-align: top;\n",
       "    }\n",
       "\n",
       "    .dataframe thead th {\n",
       "        text-align: right;\n",
       "    }\n",
       "</style>\n",
       "<table border=\"1\" class=\"dataframe\">\n",
       "  <thead>\n",
       "    <tr style=\"text-align: right;\">\n",
       "      <th></th>\n",
       "      <th>Comapnay</th>\n",
       "      <th>model</th>\n",
       "      <th>memory(kb)</th>\n",
       "      <th>imei</th>\n",
       "      <th>price</th>\n",
       "    </tr>\n",
       "  </thead>\n",
       "  <tbody>\n",
       "    <tr>\n",
       "      <th>0</th>\n",
       "      <td>Samsung</td>\n",
       "      <td>A11</td>\n",
       "      <td>203322.0</td>\n",
       "      <td>454523.0</td>\n",
       "      <td>700$</td>\n",
       "    </tr>\n",
       "    <tr>\n",
       "      <th>1</th>\n",
       "      <td>Samsung</td>\n",
       "      <td>A12</td>\n",
       "      <td>432354.0</td>\n",
       "      <td>233234.0</td>\n",
       "      <td>600$</td>\n",
       "    </tr>\n",
       "    <tr>\n",
       "      <th>2</th>\n",
       "      <td>Motorola</td>\n",
       "      <td>NaN</td>\n",
       "      <td>NaN</td>\n",
       "      <td>NaN</td>\n",
       "      <td>700$</td>\n",
       "    </tr>\n",
       "    <tr>\n",
       "      <th>3</th>\n",
       "      <td>vivo</td>\n",
       "      <td>Y20</td>\n",
       "      <td>234334.0</td>\n",
       "      <td>234323.0</td>\n",
       "      <td>20$</td>\n",
       "    </tr>\n",
       "    <tr>\n",
       "      <th>4</th>\n",
       "      <td>Iphone</td>\n",
       "      <td>15promax</td>\n",
       "      <td>234567.0</td>\n",
       "      <td>233445.0</td>\n",
       "      <td>1500$</td>\n",
       "    </tr>\n",
       "    <tr>\n",
       "      <th>5</th>\n",
       "      <td>Samsung</td>\n",
       "      <td>A11</td>\n",
       "      <td>203322.0</td>\n",
       "      <td>454523.0</td>\n",
       "      <td>700$</td>\n",
       "    </tr>\n",
       "    <tr>\n",
       "      <th>6</th>\n",
       "      <td>Samsung</td>\n",
       "      <td>A12</td>\n",
       "      <td>432354.0</td>\n",
       "      <td>233234.0</td>\n",
       "      <td>NaN</td>\n",
       "    </tr>\n",
       "    <tr>\n",
       "      <th>7</th>\n",
       "      <td>Motorola</td>\n",
       "      <td>edge+</td>\n",
       "      <td>234323.0</td>\n",
       "      <td>23454.0</td>\n",
       "      <td>700$</td>\n",
       "    </tr>\n",
       "    <tr>\n",
       "      <th>8</th>\n",
       "      <td>NaN</td>\n",
       "      <td>Y20</td>\n",
       "      <td>234334.0</td>\n",
       "      <td>234323.0</td>\n",
       "      <td>20$</td>\n",
       "    </tr>\n",
       "    <tr>\n",
       "      <th>9</th>\n",
       "      <td>Iphone</td>\n",
       "      <td>15promax</td>\n",
       "      <td>234567.0</td>\n",
       "      <td>233445.0</td>\n",
       "      <td>1500$</td>\n",
       "    </tr>\n",
       "    <tr>\n",
       "      <th>10</th>\n",
       "      <td>Samsung</td>\n",
       "      <td>NaN</td>\n",
       "      <td>NaN</td>\n",
       "      <td>NaN</td>\n",
       "      <td>700$</td>\n",
       "    </tr>\n",
       "    <tr>\n",
       "      <th>11</th>\n",
       "      <td>Samsung</td>\n",
       "      <td>A12</td>\n",
       "      <td>432354.0</td>\n",
       "      <td>233234.0</td>\n",
       "      <td>600$</td>\n",
       "    </tr>\n",
       "    <tr>\n",
       "      <th>12</th>\n",
       "      <td>NaN</td>\n",
       "      <td>edge+</td>\n",
       "      <td>234323.0</td>\n",
       "      <td>23454.0</td>\n",
       "      <td>NaN</td>\n",
       "    </tr>\n",
       "    <tr>\n",
       "      <th>13</th>\n",
       "      <td>vivo</td>\n",
       "      <td>Y20</td>\n",
       "      <td>234334.0</td>\n",
       "      <td>234323.0</td>\n",
       "      <td>20$</td>\n",
       "    </tr>\n",
       "    <tr>\n",
       "      <th>14</th>\n",
       "      <td>Iphone</td>\n",
       "      <td>15promax</td>\n",
       "      <td>234567.0</td>\n",
       "      <td>233445.0</td>\n",
       "      <td>1500$</td>\n",
       "    </tr>\n",
       "  </tbody>\n",
       "</table>\n",
       "</div>"
      ],
      "text/plain": [
       "    Comapnay     model  memory(kb)      imei  price\n",
       "0    Samsung       A11    203322.0  454523.0   700$\n",
       "1    Samsung       A12    432354.0  233234.0   600$\n",
       "2   Motorola       NaN         NaN       NaN   700$\n",
       "3       vivo       Y20    234334.0  234323.0    20$\n",
       "4     Iphone  15promax    234567.0  233445.0  1500$\n",
       "5    Samsung       A11    203322.0  454523.0   700$\n",
       "6    Samsung       A12    432354.0  233234.0    NaN\n",
       "7   Motorola     edge+    234323.0   23454.0   700$\n",
       "8        NaN       Y20    234334.0  234323.0    20$\n",
       "9     Iphone  15promax    234567.0  233445.0  1500$\n",
       "10   Samsung       NaN         NaN       NaN   700$\n",
       "11   Samsung       A12    432354.0  233234.0   600$\n",
       "12       NaN     edge+    234323.0   23454.0    NaN\n",
       "13      vivo       Y20    234334.0  234323.0    20$\n",
       "14    Iphone  15promax    234567.0  233445.0  1500$"
      ]
     },
     "execution_count": 20,
     "metadata": {},
     "output_type": "execute_result"
    }
   ],
   "source": [
    "missed_data"
   ]
  },
  {
   "cell_type": "code",
   "execution_count": null,
   "id": "fb8d3928-aa29-4fe4-a99f-79c721638cd1",
   "metadata": {},
   "outputs": [],
   "source": [
    "# so if we want to change the data permanent we have to do like this either reassign it to the same column \n",
    "missed_data['imei'].fillna(missed_data['imei'].mean(),inplace=True)\n",
    "# i will not run this cause once the values changed in the dataframe it wil be permanent so to need old\n",
    "# data we have to read file again "
   ]
  },
  {
   "cell_type": "code",
   "execution_count": 21,
   "id": "69395a11-7b37-49e8-832d-e33571da45e0",
   "metadata": {},
   "outputs": [],
   "source": [
    "# let's see dropna() to remove all the missing values in the data in this we will show the \n",
    "# permanent change in the data "
   ]
  },
  {
   "cell_type": "code",
   "execution_count": 22,
   "id": "3d6855eb-ea8d-4714-ad91-b2dd6eccf642",
   "metadata": {},
   "outputs": [],
   "source": [
    "missed_data.dropna(inplace=True) # in this we have to use also inplace True to make permanent \n",
    "# changes in the dataframe either we have to reassign it to the whole dataframe "
   ]
  },
  {
   "cell_type": "code",
   "execution_count": 23,
   "id": "12d34087-7770-4297-8c00-dc43a748367d",
   "metadata": {},
   "outputs": [
    {
     "data": {
      "text/html": [
       "<div>\n",
       "<style scoped>\n",
       "    .dataframe tbody tr th:only-of-type {\n",
       "        vertical-align: middle;\n",
       "    }\n",
       "\n",
       "    .dataframe tbody tr th {\n",
       "        vertical-align: top;\n",
       "    }\n",
       "\n",
       "    .dataframe thead th {\n",
       "        text-align: right;\n",
       "    }\n",
       "</style>\n",
       "<table border=\"1\" class=\"dataframe\">\n",
       "  <thead>\n",
       "    <tr style=\"text-align: right;\">\n",
       "      <th></th>\n",
       "      <th>Comapnay</th>\n",
       "      <th>model</th>\n",
       "      <th>memory(kb)</th>\n",
       "      <th>imei</th>\n",
       "      <th>price</th>\n",
       "    </tr>\n",
       "  </thead>\n",
       "  <tbody>\n",
       "    <tr>\n",
       "      <th>0</th>\n",
       "      <td>Samsung</td>\n",
       "      <td>A11</td>\n",
       "      <td>203322.0</td>\n",
       "      <td>454523.0</td>\n",
       "      <td>700$</td>\n",
       "    </tr>\n",
       "    <tr>\n",
       "      <th>1</th>\n",
       "      <td>Samsung</td>\n",
       "      <td>A12</td>\n",
       "      <td>432354.0</td>\n",
       "      <td>233234.0</td>\n",
       "      <td>600$</td>\n",
       "    </tr>\n",
       "    <tr>\n",
       "      <th>3</th>\n",
       "      <td>vivo</td>\n",
       "      <td>Y20</td>\n",
       "      <td>234334.0</td>\n",
       "      <td>234323.0</td>\n",
       "      <td>20$</td>\n",
       "    </tr>\n",
       "    <tr>\n",
       "      <th>4</th>\n",
       "      <td>Iphone</td>\n",
       "      <td>15promax</td>\n",
       "      <td>234567.0</td>\n",
       "      <td>233445.0</td>\n",
       "      <td>1500$</td>\n",
       "    </tr>\n",
       "    <tr>\n",
       "      <th>5</th>\n",
       "      <td>Samsung</td>\n",
       "      <td>A11</td>\n",
       "      <td>203322.0</td>\n",
       "      <td>454523.0</td>\n",
       "      <td>700$</td>\n",
       "    </tr>\n",
       "    <tr>\n",
       "      <th>7</th>\n",
       "      <td>Motorola</td>\n",
       "      <td>edge+</td>\n",
       "      <td>234323.0</td>\n",
       "      <td>23454.0</td>\n",
       "      <td>700$</td>\n",
       "    </tr>\n",
       "    <tr>\n",
       "      <th>9</th>\n",
       "      <td>Iphone</td>\n",
       "      <td>15promax</td>\n",
       "      <td>234567.0</td>\n",
       "      <td>233445.0</td>\n",
       "      <td>1500$</td>\n",
       "    </tr>\n",
       "    <tr>\n",
       "      <th>11</th>\n",
       "      <td>Samsung</td>\n",
       "      <td>A12</td>\n",
       "      <td>432354.0</td>\n",
       "      <td>233234.0</td>\n",
       "      <td>600$</td>\n",
       "    </tr>\n",
       "    <tr>\n",
       "      <th>13</th>\n",
       "      <td>vivo</td>\n",
       "      <td>Y20</td>\n",
       "      <td>234334.0</td>\n",
       "      <td>234323.0</td>\n",
       "      <td>20$</td>\n",
       "    </tr>\n",
       "    <tr>\n",
       "      <th>14</th>\n",
       "      <td>Iphone</td>\n",
       "      <td>15promax</td>\n",
       "      <td>234567.0</td>\n",
       "      <td>233445.0</td>\n",
       "      <td>1500$</td>\n",
       "    </tr>\n",
       "  </tbody>\n",
       "</table>\n",
       "</div>"
      ],
      "text/plain": [
       "    Comapnay     model  memory(kb)      imei  price\n",
       "0    Samsung       A11    203322.0  454523.0   700$\n",
       "1    Samsung       A12    432354.0  233234.0   600$\n",
       "3       vivo       Y20    234334.0  234323.0    20$\n",
       "4     Iphone  15promax    234567.0  233445.0  1500$\n",
       "5    Samsung       A11    203322.0  454523.0   700$\n",
       "7   Motorola     edge+    234323.0   23454.0   700$\n",
       "9     Iphone  15promax    234567.0  233445.0  1500$\n",
       "11   Samsung       A12    432354.0  233234.0   600$\n",
       "13      vivo       Y20    234334.0  234323.0    20$\n",
       "14    Iphone  15promax    234567.0  233445.0  1500$"
      ]
     },
     "execution_count": 23,
     "metadata": {},
     "output_type": "execute_result"
    }
   ],
   "source": [
    "missed_data"
   ]
  },
  {
   "cell_type": "markdown",
   "id": "5f131e83-a6e1-4b20-92f7-6a08e248b67c",
   "metadata": {},
   "source": [
    "Now we can see here it's removed permanently the NaN values from the data so to go in the old \n",
    "form we have to load the file again"
   ]
  },
  {
   "cell_type": "markdown",
   "id": "975b2871-abca-4c3e-8ff2-a9a7274d9d80",
   "metadata": {},
   "source": [
    "# Add Remove Data"
   ]
  },
  {
   "cell_type": "code",
   "execution_count": 26,
   "id": "0ee7094a-3668-4042-b5ec-2fba480b33f4",
   "metadata": {},
   "outputs": [],
   "source": [
    "# in this lecture we will lean these below concepts let's see \n",
    "# how to add a new column in the dataframe with Series\n",
    "# how to add a new column in dataframe with python list \n",
    "# and what's the difference between the adding new column with series and list\n",
    "# how to add column with existing column\n",
    "# how to add column with single value either it could be any datatype \n",
    "# how to remove column from the dataframe \n",
    "# let's start"
   ]
  },
  {
   "cell_type": "code",
   "execution_count": 27,
   "id": "7653594d-c32b-4157-bf66-0493001a0c96",
   "metadata": {},
   "outputs": [],
   "source": [
    "# how to add  new column with series let's see"
   ]
  },
  {
   "cell_type": "code",
   "execution_count": 28,
   "id": "66eccad0-1e06-4278-b269-11345e0d4bab",
   "metadata": {},
   "outputs": [],
   "source": [
    "battries = pd.Series([1,3,3,4])\n",
    "phones['Battery'] = battries"
   ]
  },
  {
   "cell_type": "code",
   "execution_count": 29,
   "id": "e94a73b5-c5ec-4d50-9cd0-cbf477abdd52",
   "metadata": {},
   "outputs": [
    {
     "data": {
      "text/html": [
       "<div>\n",
       "<style scoped>\n",
       "    .dataframe tbody tr th:only-of-type {\n",
       "        vertical-align: middle;\n",
       "    }\n",
       "\n",
       "    .dataframe tbody tr th {\n",
       "        vertical-align: top;\n",
       "    }\n",
       "\n",
       "    .dataframe thead th {\n",
       "        text-align: right;\n",
       "    }\n",
       "</style>\n",
       "<table border=\"1\" class=\"dataframe\">\n",
       "  <thead>\n",
       "    <tr style=\"text-align: right;\">\n",
       "      <th></th>\n",
       "      <th>Comapnay</th>\n",
       "      <th>model</th>\n",
       "      <th>memory(kb)</th>\n",
       "      <th>imei</th>\n",
       "      <th>price</th>\n",
       "      <th>Battery</th>\n",
       "    </tr>\n",
       "  </thead>\n",
       "  <tbody>\n",
       "    <tr>\n",
       "      <th>0</th>\n",
       "      <td>Samsung</td>\n",
       "      <td>A11</td>\n",
       "      <td>203322</td>\n",
       "      <td>454523</td>\n",
       "      <td>700$</td>\n",
       "      <td>1.0</td>\n",
       "    </tr>\n",
       "    <tr>\n",
       "      <th>1</th>\n",
       "      <td>Samsung</td>\n",
       "      <td>A12</td>\n",
       "      <td>432354</td>\n",
       "      <td>233234</td>\n",
       "      <td>600$</td>\n",
       "      <td>3.0</td>\n",
       "    </tr>\n",
       "    <tr>\n",
       "      <th>2</th>\n",
       "      <td>Motorola</td>\n",
       "      <td>edge+</td>\n",
       "      <td>234323</td>\n",
       "      <td>23454</td>\n",
       "      <td>700$</td>\n",
       "      <td>3.0</td>\n",
       "    </tr>\n",
       "    <tr>\n",
       "      <th>3</th>\n",
       "      <td>vivo</td>\n",
       "      <td>Y20</td>\n",
       "      <td>234334</td>\n",
       "      <td>234323</td>\n",
       "      <td>20$</td>\n",
       "      <td>4.0</td>\n",
       "    </tr>\n",
       "    <tr>\n",
       "      <th>4</th>\n",
       "      <td>Iphone</td>\n",
       "      <td>15promax</td>\n",
       "      <td>234567</td>\n",
       "      <td>233445</td>\n",
       "      <td>1500$</td>\n",
       "      <td>NaN</td>\n",
       "    </tr>\n",
       "  </tbody>\n",
       "</table>\n",
       "</div>"
      ],
      "text/plain": [
       "   Comapnay     model  memory(kb)    imei  price  Battery\n",
       "0   Samsung       A11      203322  454523   700$      1.0\n",
       "1   Samsung       A12      432354  233234   600$      3.0\n",
       "2  Motorola     edge+      234323   23454   700$      3.0\n",
       "3      vivo       Y20      234334  234323    20$      4.0\n",
       "4    Iphone  15promax      234567  233445  1500$      NaN"
      ]
     },
     "execution_count": 29,
     "metadata": {},
     "output_type": "execute_result"
    }
   ],
   "source": [
    "phones"
   ]
  },
  {
   "cell_type": "markdown",
   "id": "30f7d93f-0615-4725-b4d2-42b80460608e",
   "metadata": {},
   "source": [
    "As we can see it's added the new column in the dataframe named Battery and \n",
    "it's put automatically the NaN in the missing values \n",
    "so here is the difference we can also create column python list but with python list \n",
    "we have to give the values according the whole index of the dataframe if missing one\n",
    "value it will give error let's see"
   ]
  },
  {
   "cell_type": "code",
   "execution_count": 32,
   "id": "6bed7fe5-87bb-4370-8e93-d25ef80af179",
   "metadata": {},
   "outputs": [
    {
     "ename": "ValueError",
     "evalue": "Length of values (4) does not match length of index (5)",
     "output_type": "error",
     "traceback": [
      "\u001b[1;31m---------------------------------------------------------------------------\u001b[0m",
      "\u001b[1;31mValueError\u001b[0m                                Traceback (most recent call last)",
      "Cell \u001b[1;32mIn[32], line 2\u001b[0m\n\u001b[0;32m      1\u001b[0m ringtones \u001b[38;5;241m=\u001b[39m [\u001b[38;5;241m1\u001b[39m,\u001b[38;5;241m2\u001b[39m,\u001b[38;5;241m3\u001b[39m,\u001b[38;5;241m4\u001b[39m]\n\u001b[1;32m----> 2\u001b[0m phones[\u001b[38;5;124m'\u001b[39m\u001b[38;5;124mRingtones\u001b[39m\u001b[38;5;124m'\u001b[39m] \u001b[38;5;241m=\u001b[39m ringtones\n",
      "File \u001b[1;32m~\\Desktop\\ML_Projects\\venv\\lib\\site-packages\\pandas\\core\\frame.py:3950\u001b[0m, in \u001b[0;36mDataFrame.__setitem__\u001b[1;34m(self, key, value)\u001b[0m\n\u001b[0;32m   3947\u001b[0m     \u001b[38;5;28mself\u001b[39m\u001b[38;5;241m.\u001b[39m_setitem_array([key], value)\n\u001b[0;32m   3948\u001b[0m \u001b[38;5;28;01melse\u001b[39;00m:\n\u001b[0;32m   3949\u001b[0m     \u001b[38;5;66;03m# set column\u001b[39;00m\n\u001b[1;32m-> 3950\u001b[0m     \u001b[38;5;28;43mself\u001b[39;49m\u001b[38;5;241;43m.\u001b[39;49m\u001b[43m_set_item\u001b[49m\u001b[43m(\u001b[49m\u001b[43mkey\u001b[49m\u001b[43m,\u001b[49m\u001b[43m \u001b[49m\u001b[43mvalue\u001b[49m\u001b[43m)\u001b[49m\n",
      "File \u001b[1;32m~\\Desktop\\ML_Projects\\venv\\lib\\site-packages\\pandas\\core\\frame.py:4143\u001b[0m, in \u001b[0;36mDataFrame._set_item\u001b[1;34m(self, key, value)\u001b[0m\n\u001b[0;32m   4133\u001b[0m \u001b[38;5;28;01mdef\u001b[39;00m \u001b[38;5;21m_set_item\u001b[39m(\u001b[38;5;28mself\u001b[39m, key, value) \u001b[38;5;241m-\u001b[39m\u001b[38;5;241m>\u001b[39m \u001b[38;5;28;01mNone\u001b[39;00m:\n\u001b[0;32m   4134\u001b[0m \u001b[38;5;250m    \u001b[39m\u001b[38;5;124;03m\"\"\"\u001b[39;00m\n\u001b[0;32m   4135\u001b[0m \u001b[38;5;124;03m    Add series to DataFrame in specified column.\u001b[39;00m\n\u001b[0;32m   4136\u001b[0m \n\u001b[1;32m   (...)\u001b[0m\n\u001b[0;32m   4141\u001b[0m \u001b[38;5;124;03m    ensure homogeneity.\u001b[39;00m\n\u001b[0;32m   4142\u001b[0m \u001b[38;5;124;03m    \"\"\"\u001b[39;00m\n\u001b[1;32m-> 4143\u001b[0m     value \u001b[38;5;241m=\u001b[39m \u001b[38;5;28;43mself\u001b[39;49m\u001b[38;5;241;43m.\u001b[39;49m\u001b[43m_sanitize_column\u001b[49m\u001b[43m(\u001b[49m\u001b[43mvalue\u001b[49m\u001b[43m)\u001b[49m\n\u001b[0;32m   4145\u001b[0m     \u001b[38;5;28;01mif\u001b[39;00m (\n\u001b[0;32m   4146\u001b[0m         key \u001b[38;5;129;01min\u001b[39;00m \u001b[38;5;28mself\u001b[39m\u001b[38;5;241m.\u001b[39mcolumns\n\u001b[0;32m   4147\u001b[0m         \u001b[38;5;129;01mand\u001b[39;00m value\u001b[38;5;241m.\u001b[39mndim \u001b[38;5;241m==\u001b[39m \u001b[38;5;241m1\u001b[39m\n\u001b[0;32m   4148\u001b[0m         \u001b[38;5;129;01mand\u001b[39;00m \u001b[38;5;129;01mnot\u001b[39;00m is_extension_array_dtype(value)\n\u001b[0;32m   4149\u001b[0m     ):\n\u001b[0;32m   4150\u001b[0m         \u001b[38;5;66;03m# broadcast across multiple columns if necessary\u001b[39;00m\n\u001b[0;32m   4151\u001b[0m         \u001b[38;5;28;01mif\u001b[39;00m \u001b[38;5;129;01mnot\u001b[39;00m \u001b[38;5;28mself\u001b[39m\u001b[38;5;241m.\u001b[39mcolumns\u001b[38;5;241m.\u001b[39mis_unique \u001b[38;5;129;01mor\u001b[39;00m \u001b[38;5;28misinstance\u001b[39m(\u001b[38;5;28mself\u001b[39m\u001b[38;5;241m.\u001b[39mcolumns, MultiIndex):\n",
      "File \u001b[1;32m~\\Desktop\\ML_Projects\\venv\\lib\\site-packages\\pandas\\core\\frame.py:4870\u001b[0m, in \u001b[0;36mDataFrame._sanitize_column\u001b[1;34m(self, value)\u001b[0m\n\u001b[0;32m   4867\u001b[0m     \u001b[38;5;28;01mreturn\u001b[39;00m _reindex_for_setitem(Series(value), \u001b[38;5;28mself\u001b[39m\u001b[38;5;241m.\u001b[39mindex)\n\u001b[0;32m   4869\u001b[0m \u001b[38;5;28;01mif\u001b[39;00m is_list_like(value):\n\u001b[1;32m-> 4870\u001b[0m     \u001b[43mcom\u001b[49m\u001b[38;5;241;43m.\u001b[39;49m\u001b[43mrequire_length_match\u001b[49m\u001b[43m(\u001b[49m\u001b[43mvalue\u001b[49m\u001b[43m,\u001b[49m\u001b[43m \u001b[49m\u001b[38;5;28;43mself\u001b[39;49m\u001b[38;5;241;43m.\u001b[39;49m\u001b[43mindex\u001b[49m\u001b[43m)\u001b[49m\n\u001b[0;32m   4871\u001b[0m \u001b[38;5;28;01mreturn\u001b[39;00m sanitize_array(value, \u001b[38;5;28mself\u001b[39m\u001b[38;5;241m.\u001b[39mindex, copy\u001b[38;5;241m=\u001b[39m\u001b[38;5;28;01mTrue\u001b[39;00m, allow_2d\u001b[38;5;241m=\u001b[39m\u001b[38;5;28;01mTrue\u001b[39;00m)\n",
      "File \u001b[1;32m~\\Desktop\\ML_Projects\\venv\\lib\\site-packages\\pandas\\core\\common.py:576\u001b[0m, in \u001b[0;36mrequire_length_match\u001b[1;34m(data, index)\u001b[0m\n\u001b[0;32m    572\u001b[0m \u001b[38;5;250m\u001b[39m\u001b[38;5;124;03m\"\"\"\u001b[39;00m\n\u001b[0;32m    573\u001b[0m \u001b[38;5;124;03mCheck the length of data matches the length of the index.\u001b[39;00m\n\u001b[0;32m    574\u001b[0m \u001b[38;5;124;03m\"\"\"\u001b[39;00m\n\u001b[0;32m    575\u001b[0m \u001b[38;5;28;01mif\u001b[39;00m \u001b[38;5;28mlen\u001b[39m(data) \u001b[38;5;241m!=\u001b[39m \u001b[38;5;28mlen\u001b[39m(index):\n\u001b[1;32m--> 576\u001b[0m     \u001b[38;5;28;01mraise\u001b[39;00m \u001b[38;5;167;01mValueError\u001b[39;00m(\n\u001b[0;32m    577\u001b[0m         \u001b[38;5;124m\"\u001b[39m\u001b[38;5;124mLength of values \u001b[39m\u001b[38;5;124m\"\u001b[39m\n\u001b[0;32m    578\u001b[0m         \u001b[38;5;124mf\u001b[39m\u001b[38;5;124m\"\u001b[39m\u001b[38;5;124m(\u001b[39m\u001b[38;5;132;01m{\u001b[39;00m\u001b[38;5;28mlen\u001b[39m(data)\u001b[38;5;132;01m}\u001b[39;00m\u001b[38;5;124m) \u001b[39m\u001b[38;5;124m\"\u001b[39m\n\u001b[0;32m    579\u001b[0m         \u001b[38;5;124m\"\u001b[39m\u001b[38;5;124mdoes not match length of index \u001b[39m\u001b[38;5;124m\"\u001b[39m\n\u001b[0;32m    580\u001b[0m         \u001b[38;5;124mf\u001b[39m\u001b[38;5;124m\"\u001b[39m\u001b[38;5;124m(\u001b[39m\u001b[38;5;132;01m{\u001b[39;00m\u001b[38;5;28mlen\u001b[39m(index)\u001b[38;5;132;01m}\u001b[39;00m\u001b[38;5;124m)\u001b[39m\u001b[38;5;124m\"\u001b[39m\n\u001b[0;32m    581\u001b[0m     )\n",
      "\u001b[1;31mValueError\u001b[0m: Length of values (4) does not match length of index (5)"
     ]
    }
   ],
   "source": [
    "ringtones = [1,2,3,4]\n",
    "phones['Ringtones'] = ringtones"
   ]
  },
  {
   "cell_type": "markdown",
   "id": "8f72ba34-60e1-469e-b48a-c1dd6fd63132",
   "metadata": {},
   "source": [
    "As we can see it's showing error cause here our dataframe index is 5 and we gave 4 values \n",
    "so we have to give the 5 values as index but series can handle the error "
   ]
  },
  {
   "cell_type": "code",
   "execution_count": 33,
   "id": "4624dfe1-c870-4767-9236-ea6ae4fb06d5",
   "metadata": {},
   "outputs": [],
   "source": [
    "ringtones = [1,2,3,4,5]\n",
    "phones['Ringtones'] = ringtones"
   ]
  },
  {
   "cell_type": "code",
   "execution_count": 34,
   "id": "1b7eac83-560b-4653-a422-fd6330e114aa",
   "metadata": {},
   "outputs": [
    {
     "data": {
      "text/html": [
       "<div>\n",
       "<style scoped>\n",
       "    .dataframe tbody tr th:only-of-type {\n",
       "        vertical-align: middle;\n",
       "    }\n",
       "\n",
       "    .dataframe tbody tr th {\n",
       "        vertical-align: top;\n",
       "    }\n",
       "\n",
       "    .dataframe thead th {\n",
       "        text-align: right;\n",
       "    }\n",
       "</style>\n",
       "<table border=\"1\" class=\"dataframe\">\n",
       "  <thead>\n",
       "    <tr style=\"text-align: right;\">\n",
       "      <th></th>\n",
       "      <th>Comapnay</th>\n",
       "      <th>model</th>\n",
       "      <th>memory(kb)</th>\n",
       "      <th>imei</th>\n",
       "      <th>price</th>\n",
       "      <th>Battery</th>\n",
       "      <th>Ringtones</th>\n",
       "    </tr>\n",
       "  </thead>\n",
       "  <tbody>\n",
       "    <tr>\n",
       "      <th>0</th>\n",
       "      <td>Samsung</td>\n",
       "      <td>A11</td>\n",
       "      <td>203322</td>\n",
       "      <td>454523</td>\n",
       "      <td>700$</td>\n",
       "      <td>1.0</td>\n",
       "      <td>1</td>\n",
       "    </tr>\n",
       "    <tr>\n",
       "      <th>1</th>\n",
       "      <td>Samsung</td>\n",
       "      <td>A12</td>\n",
       "      <td>432354</td>\n",
       "      <td>233234</td>\n",
       "      <td>600$</td>\n",
       "      <td>3.0</td>\n",
       "      <td>2</td>\n",
       "    </tr>\n",
       "    <tr>\n",
       "      <th>2</th>\n",
       "      <td>Motorola</td>\n",
       "      <td>edge+</td>\n",
       "      <td>234323</td>\n",
       "      <td>23454</td>\n",
       "      <td>700$</td>\n",
       "      <td>3.0</td>\n",
       "      <td>3</td>\n",
       "    </tr>\n",
       "    <tr>\n",
       "      <th>3</th>\n",
       "      <td>vivo</td>\n",
       "      <td>Y20</td>\n",
       "      <td>234334</td>\n",
       "      <td>234323</td>\n",
       "      <td>20$</td>\n",
       "      <td>4.0</td>\n",
       "      <td>4</td>\n",
       "    </tr>\n",
       "    <tr>\n",
       "      <th>4</th>\n",
       "      <td>Iphone</td>\n",
       "      <td>15promax</td>\n",
       "      <td>234567</td>\n",
       "      <td>233445</td>\n",
       "      <td>1500$</td>\n",
       "      <td>NaN</td>\n",
       "      <td>5</td>\n",
       "    </tr>\n",
       "  </tbody>\n",
       "</table>\n",
       "</div>"
      ],
      "text/plain": [
       "   Comapnay     model  memory(kb)    imei  price  Battery  Ringtones\n",
       "0   Samsung       A11      203322  454523   700$      1.0          1\n",
       "1   Samsung       A12      432354  233234   600$      3.0          2\n",
       "2  Motorola     edge+      234323   23454   700$      3.0          3\n",
       "3      vivo       Y20      234334  234323    20$      4.0          4\n",
       "4    Iphone  15promax      234567  233445  1500$      NaN          5"
      ]
     },
     "execution_count": 34,
     "metadata": {},
     "output_type": "execute_result"
    }
   ],
   "source": [
    "phones"
   ]
  },
  {
   "cell_type": "markdown",
   "id": "8cd33c91-a4f1-4a80-9e7f-9bdc384837a9",
   "metadata": {},
   "source": [
    "as we can see it added the new column in the dataframe as we gave the values in the list as index "
   ]
  },
  {
   "cell_type": "code",
   "execution_count": 35,
   "id": "b77069a2-726e-4eeb-bc66-9201847b086a",
   "metadata": {},
   "outputs": [],
   "source": [
    "# let's create a column with existing column by taking product of two columns "
   ]
  },
  {
   "cell_type": "code",
   "execution_count": 36,
   "id": "f68842f0-3c76-4f95-b478-09dfeebff633",
   "metadata": {},
   "outputs": [],
   "source": [
    "phones['product'] = phones['Battery']*phones['Ringtones']"
   ]
  },
  {
   "cell_type": "code",
   "execution_count": 37,
   "id": "679d8dd4-c4b0-4cf8-85c2-249ce13a6712",
   "metadata": {},
   "outputs": [
    {
     "data": {
      "text/html": [
       "<div>\n",
       "<style scoped>\n",
       "    .dataframe tbody tr th:only-of-type {\n",
       "        vertical-align: middle;\n",
       "    }\n",
       "\n",
       "    .dataframe tbody tr th {\n",
       "        vertical-align: top;\n",
       "    }\n",
       "\n",
       "    .dataframe thead th {\n",
       "        text-align: right;\n",
       "    }\n",
       "</style>\n",
       "<table border=\"1\" class=\"dataframe\">\n",
       "  <thead>\n",
       "    <tr style=\"text-align: right;\">\n",
       "      <th></th>\n",
       "      <th>Comapnay</th>\n",
       "      <th>model</th>\n",
       "      <th>memory(kb)</th>\n",
       "      <th>imei</th>\n",
       "      <th>price</th>\n",
       "      <th>Battery</th>\n",
       "      <th>Ringtones</th>\n",
       "      <th>product</th>\n",
       "    </tr>\n",
       "  </thead>\n",
       "  <tbody>\n",
       "    <tr>\n",
       "      <th>0</th>\n",
       "      <td>Samsung</td>\n",
       "      <td>A11</td>\n",
       "      <td>203322</td>\n",
       "      <td>454523</td>\n",
       "      <td>700$</td>\n",
       "      <td>1.0</td>\n",
       "      <td>1</td>\n",
       "      <td>1.0</td>\n",
       "    </tr>\n",
       "    <tr>\n",
       "      <th>1</th>\n",
       "      <td>Samsung</td>\n",
       "      <td>A12</td>\n",
       "      <td>432354</td>\n",
       "      <td>233234</td>\n",
       "      <td>600$</td>\n",
       "      <td>3.0</td>\n",
       "      <td>2</td>\n",
       "      <td>6.0</td>\n",
       "    </tr>\n",
       "    <tr>\n",
       "      <th>2</th>\n",
       "      <td>Motorola</td>\n",
       "      <td>edge+</td>\n",
       "      <td>234323</td>\n",
       "      <td>23454</td>\n",
       "      <td>700$</td>\n",
       "      <td>3.0</td>\n",
       "      <td>3</td>\n",
       "      <td>9.0</td>\n",
       "    </tr>\n",
       "    <tr>\n",
       "      <th>3</th>\n",
       "      <td>vivo</td>\n",
       "      <td>Y20</td>\n",
       "      <td>234334</td>\n",
       "      <td>234323</td>\n",
       "      <td>20$</td>\n",
       "      <td>4.0</td>\n",
       "      <td>4</td>\n",
       "      <td>16.0</td>\n",
       "    </tr>\n",
       "    <tr>\n",
       "      <th>4</th>\n",
       "      <td>Iphone</td>\n",
       "      <td>15promax</td>\n",
       "      <td>234567</td>\n",
       "      <td>233445</td>\n",
       "      <td>1500$</td>\n",
       "      <td>NaN</td>\n",
       "      <td>5</td>\n",
       "      <td>NaN</td>\n",
       "    </tr>\n",
       "  </tbody>\n",
       "</table>\n",
       "</div>"
      ],
      "text/plain": [
       "   Comapnay     model  memory(kb)    imei  price  Battery  Ringtones  product\n",
       "0   Samsung       A11      203322  454523   700$      1.0          1      1.0\n",
       "1   Samsung       A12      432354  233234   600$      3.0          2      6.0\n",
       "2  Motorola     edge+      234323   23454   700$      3.0          3      9.0\n",
       "3      vivo       Y20      234334  234323    20$      4.0          4     16.0\n",
       "4    Iphone  15promax      234567  233445  1500$      NaN          5      NaN"
      ]
     },
     "execution_count": 37,
     "metadata": {},
     "output_type": "execute_result"
    }
   ],
   "source": [
    "phones"
   ]
  },
  {
   "cell_type": "markdown",
   "id": "905faa75-1573-4f57-bbbc-8b990a401ef3",
   "metadata": {},
   "source": [
    "here we can see it's showing the product column which is created with the existing columns "
   ]
  },
  {
   "cell_type": "code",
   "execution_count": 38,
   "id": "db5bc7db-3d87-4aba-83d9-e1139ffa3200",
   "metadata": {},
   "outputs": [],
   "source": [
    "# now how to create column with single values "
   ]
  },
  {
   "cell_type": "code",
   "execution_count": 39,
   "id": "2734bacd-298e-4dcf-9728-277342f85aea",
   "metadata": {},
   "outputs": [],
   "source": [
    "phones['New_col'] = 3"
   ]
  },
  {
   "cell_type": "code",
   "execution_count": 40,
   "id": "929660ad-7fd8-4da4-a2ff-0a133b3f0e91",
   "metadata": {},
   "outputs": [
    {
     "data": {
      "text/html": [
       "<div>\n",
       "<style scoped>\n",
       "    .dataframe tbody tr th:only-of-type {\n",
       "        vertical-align: middle;\n",
       "    }\n",
       "\n",
       "    .dataframe tbody tr th {\n",
       "        vertical-align: top;\n",
       "    }\n",
       "\n",
       "    .dataframe thead th {\n",
       "        text-align: right;\n",
       "    }\n",
       "</style>\n",
       "<table border=\"1\" class=\"dataframe\">\n",
       "  <thead>\n",
       "    <tr style=\"text-align: right;\">\n",
       "      <th></th>\n",
       "      <th>Comapnay</th>\n",
       "      <th>model</th>\n",
       "      <th>memory(kb)</th>\n",
       "      <th>imei</th>\n",
       "      <th>price</th>\n",
       "      <th>Battery</th>\n",
       "      <th>Ringtones</th>\n",
       "      <th>product</th>\n",
       "      <th>New_col</th>\n",
       "    </tr>\n",
       "  </thead>\n",
       "  <tbody>\n",
       "    <tr>\n",
       "      <th>0</th>\n",
       "      <td>Samsung</td>\n",
       "      <td>A11</td>\n",
       "      <td>203322</td>\n",
       "      <td>454523</td>\n",
       "      <td>700$</td>\n",
       "      <td>1.0</td>\n",
       "      <td>1</td>\n",
       "      <td>1.0</td>\n",
       "      <td>3</td>\n",
       "    </tr>\n",
       "    <tr>\n",
       "      <th>1</th>\n",
       "      <td>Samsung</td>\n",
       "      <td>A12</td>\n",
       "      <td>432354</td>\n",
       "      <td>233234</td>\n",
       "      <td>600$</td>\n",
       "      <td>3.0</td>\n",
       "      <td>2</td>\n",
       "      <td>6.0</td>\n",
       "      <td>3</td>\n",
       "    </tr>\n",
       "    <tr>\n",
       "      <th>2</th>\n",
       "      <td>Motorola</td>\n",
       "      <td>edge+</td>\n",
       "      <td>234323</td>\n",
       "      <td>23454</td>\n",
       "      <td>700$</td>\n",
       "      <td>3.0</td>\n",
       "      <td>3</td>\n",
       "      <td>9.0</td>\n",
       "      <td>3</td>\n",
       "    </tr>\n",
       "    <tr>\n",
       "      <th>3</th>\n",
       "      <td>vivo</td>\n",
       "      <td>Y20</td>\n",
       "      <td>234334</td>\n",
       "      <td>234323</td>\n",
       "      <td>20$</td>\n",
       "      <td>4.0</td>\n",
       "      <td>4</td>\n",
       "      <td>16.0</td>\n",
       "      <td>3</td>\n",
       "    </tr>\n",
       "    <tr>\n",
       "      <th>4</th>\n",
       "      <td>Iphone</td>\n",
       "      <td>15promax</td>\n",
       "      <td>234567</td>\n",
       "      <td>233445</td>\n",
       "      <td>1500$</td>\n",
       "      <td>NaN</td>\n",
       "      <td>5</td>\n",
       "      <td>NaN</td>\n",
       "      <td>3</td>\n",
       "    </tr>\n",
       "  </tbody>\n",
       "</table>\n",
       "</div>"
      ],
      "text/plain": [
       "   Comapnay     model  memory(kb)    imei  price  Battery  Ringtones  product  \\\n",
       "0   Samsung       A11      203322  454523   700$      1.0          1      1.0   \n",
       "1   Samsung       A12      432354  233234   600$      3.0          2      6.0   \n",
       "2  Motorola     edge+      234323   23454   700$      3.0          3      9.0   \n",
       "3      vivo       Y20      234334  234323    20$      4.0          4     16.0   \n",
       "4    Iphone  15promax      234567  233445  1500$      NaN          5      NaN   \n",
       "\n",
       "   New_col  \n",
       "0        3  \n",
       "1        3  \n",
       "2        3  \n",
       "3        3  \n",
       "4        3  "
      ]
     },
     "execution_count": 40,
     "metadata": {},
     "output_type": "execute_result"
    }
   ],
   "source": [
    "phones"
   ]
  },
  {
   "cell_type": "markdown",
   "id": "74e976d1-77ca-40e6-b2ff-68f34c0f3c36",
   "metadata": {},
   "source": [
    "here we can see the new adding column with single value"
   ]
  },
  {
   "cell_type": "code",
   "execution_count": 41,
   "id": "4d538557-3aac-467b-be3f-53d927e83cd8",
   "metadata": {},
   "outputs": [],
   "source": [
    "# one more example with another dtype \n",
    "phones['string'] = 'Dead_phones' "
   ]
  },
  {
   "cell_type": "code",
   "execution_count": 42,
   "id": "80cb7c15-ae05-4893-ad6f-e289edbc7746",
   "metadata": {},
   "outputs": [
    {
     "data": {
      "text/html": [
       "<div>\n",
       "<style scoped>\n",
       "    .dataframe tbody tr th:only-of-type {\n",
       "        vertical-align: middle;\n",
       "    }\n",
       "\n",
       "    .dataframe tbody tr th {\n",
       "        vertical-align: top;\n",
       "    }\n",
       "\n",
       "    .dataframe thead th {\n",
       "        text-align: right;\n",
       "    }\n",
       "</style>\n",
       "<table border=\"1\" class=\"dataframe\">\n",
       "  <thead>\n",
       "    <tr style=\"text-align: right;\">\n",
       "      <th></th>\n",
       "      <th>Comapnay</th>\n",
       "      <th>model</th>\n",
       "      <th>memory(kb)</th>\n",
       "      <th>imei</th>\n",
       "      <th>price</th>\n",
       "      <th>Battery</th>\n",
       "      <th>Ringtones</th>\n",
       "      <th>product</th>\n",
       "      <th>New_col</th>\n",
       "      <th>string</th>\n",
       "    </tr>\n",
       "  </thead>\n",
       "  <tbody>\n",
       "    <tr>\n",
       "      <th>0</th>\n",
       "      <td>Samsung</td>\n",
       "      <td>A11</td>\n",
       "      <td>203322</td>\n",
       "      <td>454523</td>\n",
       "      <td>700$</td>\n",
       "      <td>1.0</td>\n",
       "      <td>1</td>\n",
       "      <td>1.0</td>\n",
       "      <td>3</td>\n",
       "      <td>Dead_phones</td>\n",
       "    </tr>\n",
       "    <tr>\n",
       "      <th>1</th>\n",
       "      <td>Samsung</td>\n",
       "      <td>A12</td>\n",
       "      <td>432354</td>\n",
       "      <td>233234</td>\n",
       "      <td>600$</td>\n",
       "      <td>3.0</td>\n",
       "      <td>2</td>\n",
       "      <td>6.0</td>\n",
       "      <td>3</td>\n",
       "      <td>Dead_phones</td>\n",
       "    </tr>\n",
       "    <tr>\n",
       "      <th>2</th>\n",
       "      <td>Motorola</td>\n",
       "      <td>edge+</td>\n",
       "      <td>234323</td>\n",
       "      <td>23454</td>\n",
       "      <td>700$</td>\n",
       "      <td>3.0</td>\n",
       "      <td>3</td>\n",
       "      <td>9.0</td>\n",
       "      <td>3</td>\n",
       "      <td>Dead_phones</td>\n",
       "    </tr>\n",
       "    <tr>\n",
       "      <th>3</th>\n",
       "      <td>vivo</td>\n",
       "      <td>Y20</td>\n",
       "      <td>234334</td>\n",
       "      <td>234323</td>\n",
       "      <td>20$</td>\n",
       "      <td>4.0</td>\n",
       "      <td>4</td>\n",
       "      <td>16.0</td>\n",
       "      <td>3</td>\n",
       "      <td>Dead_phones</td>\n",
       "    </tr>\n",
       "    <tr>\n",
       "      <th>4</th>\n",
       "      <td>Iphone</td>\n",
       "      <td>15promax</td>\n",
       "      <td>234567</td>\n",
       "      <td>233445</td>\n",
       "      <td>1500$</td>\n",
       "      <td>NaN</td>\n",
       "      <td>5</td>\n",
       "      <td>NaN</td>\n",
       "      <td>3</td>\n",
       "      <td>Dead_phones</td>\n",
       "    </tr>\n",
       "  </tbody>\n",
       "</table>\n",
       "</div>"
      ],
      "text/plain": [
       "   Comapnay     model  memory(kb)    imei  price  Battery  Ringtones  product  \\\n",
       "0   Samsung       A11      203322  454523   700$      1.0          1      1.0   \n",
       "1   Samsung       A12      432354  233234   600$      3.0          2      6.0   \n",
       "2  Motorola     edge+      234323   23454   700$      3.0          3      9.0   \n",
       "3      vivo       Y20      234334  234323    20$      4.0          4     16.0   \n",
       "4    Iphone  15promax      234567  233445  1500$      NaN          5      NaN   \n",
       "\n",
       "   New_col       string  \n",
       "0        3  Dead_phones  \n",
       "1        3  Dead_phones  \n",
       "2        3  Dead_phones  \n",
       "3        3  Dead_phones  \n",
       "4        3  Dead_phones  "
      ]
     },
     "execution_count": 42,
     "metadata": {},
     "output_type": "execute_result"
    }
   ],
   "source": [
    "phones"
   ]
  },
  {
   "cell_type": "markdown",
   "id": "f974aa99-6b47-486d-9de1-b2521de2b913",
   "metadata": {},
   "source": [
    "here we can add any datatype single values "
   ]
  },
  {
   "cell_type": "code",
   "execution_count": 43,
   "id": "fbed226e-bf3f-474a-9b1a-e23690a0ceb3",
   "metadata": {},
   "outputs": [],
   "source": [
    "# at last how to remove the column specific "
   ]
  },
  {
   "cell_type": "code",
   "execution_count": 45,
   "id": "3cd760d8-dea3-4bc1-83d3-70f7e13c2d55",
   "metadata": {},
   "outputs": [
    {
     "data": {
      "text/html": [
       "<div>\n",
       "<style scoped>\n",
       "    .dataframe tbody tr th:only-of-type {\n",
       "        vertical-align: middle;\n",
       "    }\n",
       "\n",
       "    .dataframe tbody tr th {\n",
       "        vertical-align: top;\n",
       "    }\n",
       "\n",
       "    .dataframe thead th {\n",
       "        text-align: right;\n",
       "    }\n",
       "</style>\n",
       "<table border=\"1\" class=\"dataframe\">\n",
       "  <thead>\n",
       "    <tr style=\"text-align: right;\">\n",
       "      <th></th>\n",
       "      <th>Comapnay</th>\n",
       "      <th>model</th>\n",
       "      <th>memory(kb)</th>\n",
       "      <th>imei</th>\n",
       "      <th>price</th>\n",
       "      <th>Battery</th>\n",
       "      <th>Ringtones</th>\n",
       "      <th>product</th>\n",
       "      <th>string</th>\n",
       "    </tr>\n",
       "  </thead>\n",
       "  <tbody>\n",
       "    <tr>\n",
       "      <th>0</th>\n",
       "      <td>Samsung</td>\n",
       "      <td>A11</td>\n",
       "      <td>203322</td>\n",
       "      <td>454523</td>\n",
       "      <td>700$</td>\n",
       "      <td>1.0</td>\n",
       "      <td>1</td>\n",
       "      <td>1.0</td>\n",
       "      <td>Dead_phones</td>\n",
       "    </tr>\n",
       "    <tr>\n",
       "      <th>1</th>\n",
       "      <td>Samsung</td>\n",
       "      <td>A12</td>\n",
       "      <td>432354</td>\n",
       "      <td>233234</td>\n",
       "      <td>600$</td>\n",
       "      <td>3.0</td>\n",
       "      <td>2</td>\n",
       "      <td>6.0</td>\n",
       "      <td>Dead_phones</td>\n",
       "    </tr>\n",
       "    <tr>\n",
       "      <th>2</th>\n",
       "      <td>Motorola</td>\n",
       "      <td>edge+</td>\n",
       "      <td>234323</td>\n",
       "      <td>23454</td>\n",
       "      <td>700$</td>\n",
       "      <td>3.0</td>\n",
       "      <td>3</td>\n",
       "      <td>9.0</td>\n",
       "      <td>Dead_phones</td>\n",
       "    </tr>\n",
       "    <tr>\n",
       "      <th>3</th>\n",
       "      <td>vivo</td>\n",
       "      <td>Y20</td>\n",
       "      <td>234334</td>\n",
       "      <td>234323</td>\n",
       "      <td>20$</td>\n",
       "      <td>4.0</td>\n",
       "      <td>4</td>\n",
       "      <td>16.0</td>\n",
       "      <td>Dead_phones</td>\n",
       "    </tr>\n",
       "    <tr>\n",
       "      <th>4</th>\n",
       "      <td>Iphone</td>\n",
       "      <td>15promax</td>\n",
       "      <td>234567</td>\n",
       "      <td>233445</td>\n",
       "      <td>1500$</td>\n",
       "      <td>NaN</td>\n",
       "      <td>5</td>\n",
       "      <td>NaN</td>\n",
       "      <td>Dead_phones</td>\n",
       "    </tr>\n",
       "  </tbody>\n",
       "</table>\n",
       "</div>"
      ],
      "text/plain": [
       "   Comapnay     model  memory(kb)    imei  price  Battery  Ringtones  product  \\\n",
       "0   Samsung       A11      203322  454523   700$      1.0          1      1.0   \n",
       "1   Samsung       A12      432354  233234   600$      3.0          2      6.0   \n",
       "2  Motorola     edge+      234323   23454   700$      3.0          3      9.0   \n",
       "3      vivo       Y20      234334  234323    20$      4.0          4     16.0   \n",
       "4    Iphone  15promax      234567  233445  1500$      NaN          5      NaN   \n",
       "\n",
       "        string  \n",
       "0  Dead_phones  \n",
       "1  Dead_phones  \n",
       "2  Dead_phones  \n",
       "3  Dead_phones  \n",
       "4  Dead_phones  "
      ]
     },
     "execution_count": 45,
     "metadata": {},
     "output_type": "execute_result"
    }
   ],
   "source": [
    "phones.drop('New_col',axis=1)"
   ]
  },
  {
   "cell_type": "markdown",
   "id": "81375acf-312a-4e57-8fd1-cbfe5e89fa36",
   "metadata": {},
   "source": [
    "here we can see it's drop the specific column which we named in the process to make it permanent \n",
    "we have to use inplace=True either we can assign the values "
   ]
  },
  {
   "cell_type": "code",
   "execution_count": 46,
   "id": "5b847a5b-b14d-4b86-b667-c0478e7dd796",
   "metadata": {},
   "outputs": [
    {
     "data": {
      "text/html": [
       "<div>\n",
       "<style scoped>\n",
       "    .dataframe tbody tr th:only-of-type {\n",
       "        vertical-align: middle;\n",
       "    }\n",
       "\n",
       "    .dataframe tbody tr th {\n",
       "        vertical-align: top;\n",
       "    }\n",
       "\n",
       "    .dataframe thead th {\n",
       "        text-align: right;\n",
       "    }\n",
       "</style>\n",
       "<table border=\"1\" class=\"dataframe\">\n",
       "  <thead>\n",
       "    <tr style=\"text-align: right;\">\n",
       "      <th></th>\n",
       "      <th>Comapnay</th>\n",
       "      <th>model</th>\n",
       "      <th>memory(kb)</th>\n",
       "      <th>imei</th>\n",
       "      <th>price</th>\n",
       "      <th>Battery</th>\n",
       "      <th>Ringtones</th>\n",
       "      <th>product</th>\n",
       "      <th>New_col</th>\n",
       "      <th>string</th>\n",
       "    </tr>\n",
       "  </thead>\n",
       "  <tbody>\n",
       "    <tr>\n",
       "      <th>0</th>\n",
       "      <td>Samsung</td>\n",
       "      <td>A11</td>\n",
       "      <td>203322</td>\n",
       "      <td>454523</td>\n",
       "      <td>700$</td>\n",
       "      <td>1.0</td>\n",
       "      <td>1</td>\n",
       "      <td>1.0</td>\n",
       "      <td>3</td>\n",
       "      <td>Dead_phones</td>\n",
       "    </tr>\n",
       "    <tr>\n",
       "      <th>1</th>\n",
       "      <td>Samsung</td>\n",
       "      <td>A12</td>\n",
       "      <td>432354</td>\n",
       "      <td>233234</td>\n",
       "      <td>600$</td>\n",
       "      <td>3.0</td>\n",
       "      <td>2</td>\n",
       "      <td>6.0</td>\n",
       "      <td>3</td>\n",
       "      <td>Dead_phones</td>\n",
       "    </tr>\n",
       "    <tr>\n",
       "      <th>2</th>\n",
       "      <td>Motorola</td>\n",
       "      <td>edge+</td>\n",
       "      <td>234323</td>\n",
       "      <td>23454</td>\n",
       "      <td>700$</td>\n",
       "      <td>3.0</td>\n",
       "      <td>3</td>\n",
       "      <td>9.0</td>\n",
       "      <td>3</td>\n",
       "      <td>Dead_phones</td>\n",
       "    </tr>\n",
       "    <tr>\n",
       "      <th>3</th>\n",
       "      <td>vivo</td>\n",
       "      <td>Y20</td>\n",
       "      <td>234334</td>\n",
       "      <td>234323</td>\n",
       "      <td>20$</td>\n",
       "      <td>4.0</td>\n",
       "      <td>4</td>\n",
       "      <td>16.0</td>\n",
       "      <td>3</td>\n",
       "      <td>Dead_phones</td>\n",
       "    </tr>\n",
       "    <tr>\n",
       "      <th>4</th>\n",
       "      <td>Iphone</td>\n",
       "      <td>15promax</td>\n",
       "      <td>234567</td>\n",
       "      <td>233445</td>\n",
       "      <td>1500$</td>\n",
       "      <td>NaN</td>\n",
       "      <td>5</td>\n",
       "      <td>NaN</td>\n",
       "      <td>3</td>\n",
       "      <td>Dead_phones</td>\n",
       "    </tr>\n",
       "  </tbody>\n",
       "</table>\n",
       "</div>"
      ],
      "text/plain": [
       "   Comapnay     model  memory(kb)    imei  price  Battery  Ringtones  product  \\\n",
       "0   Samsung       A11      203322  454523   700$      1.0          1      1.0   \n",
       "1   Samsung       A12      432354  233234   600$      3.0          2      6.0   \n",
       "2  Motorola     edge+      234323   23454   700$      3.0          3      9.0   \n",
       "3      vivo       Y20      234334  234323    20$      4.0          4     16.0   \n",
       "4    Iphone  15promax      234567  233445  1500$      NaN          5      NaN   \n",
       "\n",
       "   New_col       string  \n",
       "0        3  Dead_phones  \n",
       "1        3  Dead_phones  \n",
       "2        3  Dead_phones  \n",
       "3        3  Dead_phones  \n",
       "4        3  Dead_phones  "
      ]
     },
     "execution_count": 46,
     "metadata": {},
     "output_type": "execute_result"
    }
   ],
   "source": [
    "phones"
   ]
  },
  {
   "cell_type": "code",
   "execution_count": 47,
   "id": "cebd295b-ec4c-4be0-8e29-8fa51d619f44",
   "metadata": {},
   "outputs": [],
   "source": [
    "phones.drop('New_col',axis=1,inplace=True) # axis = 1 mean we discussed before \n",
    "# axis = 1 is column and axis = 0 is row"
   ]
  },
  {
   "cell_type": "code",
   "execution_count": 48,
   "id": "8f4c4e90-b0f1-42d4-9260-5e8ffbc51ab0",
   "metadata": {},
   "outputs": [
    {
     "data": {
      "text/html": [
       "<div>\n",
       "<style scoped>\n",
       "    .dataframe tbody tr th:only-of-type {\n",
       "        vertical-align: middle;\n",
       "    }\n",
       "\n",
       "    .dataframe tbody tr th {\n",
       "        vertical-align: top;\n",
       "    }\n",
       "\n",
       "    .dataframe thead th {\n",
       "        text-align: right;\n",
       "    }\n",
       "</style>\n",
       "<table border=\"1\" class=\"dataframe\">\n",
       "  <thead>\n",
       "    <tr style=\"text-align: right;\">\n",
       "      <th></th>\n",
       "      <th>Comapnay</th>\n",
       "      <th>model</th>\n",
       "      <th>memory(kb)</th>\n",
       "      <th>imei</th>\n",
       "      <th>price</th>\n",
       "      <th>Battery</th>\n",
       "      <th>Ringtones</th>\n",
       "      <th>product</th>\n",
       "      <th>string</th>\n",
       "    </tr>\n",
       "  </thead>\n",
       "  <tbody>\n",
       "    <tr>\n",
       "      <th>0</th>\n",
       "      <td>Samsung</td>\n",
       "      <td>A11</td>\n",
       "      <td>203322</td>\n",
       "      <td>454523</td>\n",
       "      <td>700$</td>\n",
       "      <td>1.0</td>\n",
       "      <td>1</td>\n",
       "      <td>1.0</td>\n",
       "      <td>Dead_phones</td>\n",
       "    </tr>\n",
       "    <tr>\n",
       "      <th>1</th>\n",
       "      <td>Samsung</td>\n",
       "      <td>A12</td>\n",
       "      <td>432354</td>\n",
       "      <td>233234</td>\n",
       "      <td>600$</td>\n",
       "      <td>3.0</td>\n",
       "      <td>2</td>\n",
       "      <td>6.0</td>\n",
       "      <td>Dead_phones</td>\n",
       "    </tr>\n",
       "    <tr>\n",
       "      <th>2</th>\n",
       "      <td>Motorola</td>\n",
       "      <td>edge+</td>\n",
       "      <td>234323</td>\n",
       "      <td>23454</td>\n",
       "      <td>700$</td>\n",
       "      <td>3.0</td>\n",
       "      <td>3</td>\n",
       "      <td>9.0</td>\n",
       "      <td>Dead_phones</td>\n",
       "    </tr>\n",
       "    <tr>\n",
       "      <th>3</th>\n",
       "      <td>vivo</td>\n",
       "      <td>Y20</td>\n",
       "      <td>234334</td>\n",
       "      <td>234323</td>\n",
       "      <td>20$</td>\n",
       "      <td>4.0</td>\n",
       "      <td>4</td>\n",
       "      <td>16.0</td>\n",
       "      <td>Dead_phones</td>\n",
       "    </tr>\n",
       "    <tr>\n",
       "      <th>4</th>\n",
       "      <td>Iphone</td>\n",
       "      <td>15promax</td>\n",
       "      <td>234567</td>\n",
       "      <td>233445</td>\n",
       "      <td>1500$</td>\n",
       "      <td>NaN</td>\n",
       "      <td>5</td>\n",
       "      <td>NaN</td>\n",
       "      <td>Dead_phones</td>\n",
       "    </tr>\n",
       "  </tbody>\n",
       "</table>\n",
       "</div>"
      ],
      "text/plain": [
       "   Comapnay     model  memory(kb)    imei  price  Battery  Ringtones  product  \\\n",
       "0   Samsung       A11      203322  454523   700$      1.0          1      1.0   \n",
       "1   Samsung       A12      432354  233234   600$      3.0          2      6.0   \n",
       "2  Motorola     edge+      234323   23454   700$      3.0          3      9.0   \n",
       "3      vivo       Y20      234334  234323    20$      4.0          4     16.0   \n",
       "4    Iphone  15promax      234567  233445  1500$      NaN          5      NaN   \n",
       "\n",
       "        string  \n",
       "0  Dead_phones  \n",
       "1  Dead_phones  \n",
       "2  Dead_phones  \n",
       "3  Dead_phones  \n",
       "4  Dead_phones  "
      ]
     },
     "execution_count": 48,
     "metadata": {},
     "output_type": "execute_result"
    }
   ],
   "source": [
    "phones"
   ]
  },
  {
   "cell_type": "markdown",
   "id": "9def116b-af01-4a3a-9a8f-0e913058d050",
   "metadata": {},
   "source": [
    "# Manipulating Data"
   ]
  },
  {
   "cell_type": "code",
   "execution_count": 49,
   "id": "db5f576d-c596-448e-839e-71b1408fb297",
   "metadata": {},
   "outputs": [],
   "source": [
    "# in this lecture we will learn these below things let's see \n",
    "# how to shuffle data \n",
    "# how to reset data \n",
    "# how to apply the function on the data let's see "
   ]
  },
  {
   "cell_type": "code",
   "execution_count": 51,
   "id": "769983a0-5c64-4a99-9d5a-b9df6fdb6207",
   "metadata": {},
   "outputs": [
    {
     "data": {
      "text/html": [
       "<div>\n",
       "<style scoped>\n",
       "    .dataframe tbody tr th:only-of-type {\n",
       "        vertical-align: middle;\n",
       "    }\n",
       "\n",
       "    .dataframe tbody tr th {\n",
       "        vertical-align: top;\n",
       "    }\n",
       "\n",
       "    .dataframe thead th {\n",
       "        text-align: right;\n",
       "    }\n",
       "</style>\n",
       "<table border=\"1\" class=\"dataframe\">\n",
       "  <thead>\n",
       "    <tr style=\"text-align: right;\">\n",
       "      <th></th>\n",
       "      <th>Comapnay</th>\n",
       "      <th>model</th>\n",
       "      <th>memory(kb)</th>\n",
       "      <th>imei</th>\n",
       "      <th>price</th>\n",
       "      <th>Battery</th>\n",
       "      <th>Ringtones</th>\n",
       "      <th>product</th>\n",
       "      <th>string</th>\n",
       "    </tr>\n",
       "  </thead>\n",
       "  <tbody>\n",
       "    <tr>\n",
       "      <th>1</th>\n",
       "      <td>Samsung</td>\n",
       "      <td>A12</td>\n",
       "      <td>432354</td>\n",
       "      <td>233234</td>\n",
       "      <td>600$</td>\n",
       "      <td>3.0</td>\n",
       "      <td>2</td>\n",
       "      <td>6.0</td>\n",
       "      <td>Dead_phones</td>\n",
       "    </tr>\n",
       "    <tr>\n",
       "      <th>2</th>\n",
       "      <td>Motorola</td>\n",
       "      <td>edge+</td>\n",
       "      <td>234323</td>\n",
       "      <td>23454</td>\n",
       "      <td>700$</td>\n",
       "      <td>3.0</td>\n",
       "      <td>3</td>\n",
       "      <td>9.0</td>\n",
       "      <td>Dead_phones</td>\n",
       "    </tr>\n",
       "    <tr>\n",
       "      <th>3</th>\n",
       "      <td>vivo</td>\n",
       "      <td>Y20</td>\n",
       "      <td>234334</td>\n",
       "      <td>234323</td>\n",
       "      <td>20$</td>\n",
       "      <td>4.0</td>\n",
       "      <td>4</td>\n",
       "      <td>16.0</td>\n",
       "      <td>Dead_phones</td>\n",
       "    </tr>\n",
       "    <tr>\n",
       "      <th>0</th>\n",
       "      <td>Samsung</td>\n",
       "      <td>A11</td>\n",
       "      <td>203322</td>\n",
       "      <td>454523</td>\n",
       "      <td>700$</td>\n",
       "      <td>1.0</td>\n",
       "      <td>1</td>\n",
       "      <td>1.0</td>\n",
       "      <td>Dead_phones</td>\n",
       "    </tr>\n",
       "    <tr>\n",
       "      <th>4</th>\n",
       "      <td>Iphone</td>\n",
       "      <td>15promax</td>\n",
       "      <td>234567</td>\n",
       "      <td>233445</td>\n",
       "      <td>1500$</td>\n",
       "      <td>NaN</td>\n",
       "      <td>5</td>\n",
       "      <td>NaN</td>\n",
       "      <td>Dead_phones</td>\n",
       "    </tr>\n",
       "  </tbody>\n",
       "</table>\n",
       "</div>"
      ],
      "text/plain": [
       "   Comapnay     model  memory(kb)    imei  price  Battery  Ringtones  product  \\\n",
       "1   Samsung       A12      432354  233234   600$      3.0          2      6.0   \n",
       "2  Motorola     edge+      234323   23454   700$      3.0          3      9.0   \n",
       "3      vivo       Y20      234334  234323    20$      4.0          4     16.0   \n",
       "0   Samsung       A11      203322  454523   700$      1.0          1      1.0   \n",
       "4    Iphone  15promax      234567  233445  1500$      NaN          5      NaN   \n",
       "\n",
       "        string  \n",
       "1  Dead_phones  \n",
       "2  Dead_phones  \n",
       "3  Dead_phones  \n",
       "0  Dead_phones  \n",
       "4  Dead_phones  "
      ]
     },
     "execution_count": 51,
     "metadata": {},
     "output_type": "execute_result"
    }
   ],
   "source": [
    "# how to shuffle data\n",
    "phones.sample(frac=1)"
   ]
  },
  {
   "cell_type": "markdown",
   "id": "ebeed850-6382-416d-a93f-a23a5e126ceb",
   "metadata": {},
   "source": [
    "This is how we can shuffle data by using sample function and frac=1 in the paranthesis is the\n",
    "percentage of the data to shuffle for example if we have 1 million rows so our computer will take \n",
    "time to excute so we can select data by giving frac"
   ]
  },
  {
   "cell_type": "code",
   "execution_count": 52,
   "id": "069eef5d-c841-41d3-888d-df8c1e11b3d4",
   "metadata": {},
   "outputs": [],
   "source": [
    "# now how to reset data into original condition\n",
    "phones.reset_index(drop=True,inplace=True)"
   ]
  },
  {
   "cell_type": "code",
   "execution_count": 53,
   "id": "25066db9-4a13-428b-8d9d-aa4a5a7a1ea1",
   "metadata": {},
   "outputs": [
    {
     "data": {
      "text/html": [
       "<div>\n",
       "<style scoped>\n",
       "    .dataframe tbody tr th:only-of-type {\n",
       "        vertical-align: middle;\n",
       "    }\n",
       "\n",
       "    .dataframe tbody tr th {\n",
       "        vertical-align: top;\n",
       "    }\n",
       "\n",
       "    .dataframe thead th {\n",
       "        text-align: right;\n",
       "    }\n",
       "</style>\n",
       "<table border=\"1\" class=\"dataframe\">\n",
       "  <thead>\n",
       "    <tr style=\"text-align: right;\">\n",
       "      <th></th>\n",
       "      <th>Comapnay</th>\n",
       "      <th>model</th>\n",
       "      <th>memory(kb)</th>\n",
       "      <th>imei</th>\n",
       "      <th>price</th>\n",
       "      <th>Battery</th>\n",
       "      <th>Ringtones</th>\n",
       "      <th>product</th>\n",
       "      <th>string</th>\n",
       "    </tr>\n",
       "  </thead>\n",
       "  <tbody>\n",
       "    <tr>\n",
       "      <th>0</th>\n",
       "      <td>Samsung</td>\n",
       "      <td>A11</td>\n",
       "      <td>203322</td>\n",
       "      <td>454523</td>\n",
       "      <td>700$</td>\n",
       "      <td>1.0</td>\n",
       "      <td>1</td>\n",
       "      <td>1.0</td>\n",
       "      <td>Dead_phones</td>\n",
       "    </tr>\n",
       "    <tr>\n",
       "      <th>1</th>\n",
       "      <td>Samsung</td>\n",
       "      <td>A12</td>\n",
       "      <td>432354</td>\n",
       "      <td>233234</td>\n",
       "      <td>600$</td>\n",
       "      <td>3.0</td>\n",
       "      <td>2</td>\n",
       "      <td>6.0</td>\n",
       "      <td>Dead_phones</td>\n",
       "    </tr>\n",
       "    <tr>\n",
       "      <th>2</th>\n",
       "      <td>Motorola</td>\n",
       "      <td>edge+</td>\n",
       "      <td>234323</td>\n",
       "      <td>23454</td>\n",
       "      <td>700$</td>\n",
       "      <td>3.0</td>\n",
       "      <td>3</td>\n",
       "      <td>9.0</td>\n",
       "      <td>Dead_phones</td>\n",
       "    </tr>\n",
       "    <tr>\n",
       "      <th>3</th>\n",
       "      <td>vivo</td>\n",
       "      <td>Y20</td>\n",
       "      <td>234334</td>\n",
       "      <td>234323</td>\n",
       "      <td>20$</td>\n",
       "      <td>4.0</td>\n",
       "      <td>4</td>\n",
       "      <td>16.0</td>\n",
       "      <td>Dead_phones</td>\n",
       "    </tr>\n",
       "    <tr>\n",
       "      <th>4</th>\n",
       "      <td>Iphone</td>\n",
       "      <td>15promax</td>\n",
       "      <td>234567</td>\n",
       "      <td>233445</td>\n",
       "      <td>1500$</td>\n",
       "      <td>NaN</td>\n",
       "      <td>5</td>\n",
       "      <td>NaN</td>\n",
       "      <td>Dead_phones</td>\n",
       "    </tr>\n",
       "  </tbody>\n",
       "</table>\n",
       "</div>"
      ],
      "text/plain": [
       "   Comapnay     model  memory(kb)    imei  price  Battery  Ringtones  product  \\\n",
       "0   Samsung       A11      203322  454523   700$      1.0          1      1.0   \n",
       "1   Samsung       A12      432354  233234   600$      3.0          2      6.0   \n",
       "2  Motorola     edge+      234323   23454   700$      3.0          3      9.0   \n",
       "3      vivo       Y20      234334  234323    20$      4.0          4     16.0   \n",
       "4    Iphone  15promax      234567  233445  1500$      NaN          5      NaN   \n",
       "\n",
       "        string  \n",
       "0  Dead_phones  \n",
       "1  Dead_phones  \n",
       "2  Dead_phones  \n",
       "3  Dead_phones  \n",
       "4  Dead_phones  "
      ]
     },
     "execution_count": 53,
     "metadata": {},
     "output_type": "execute_result"
    }
   ],
   "source": [
    "phones"
   ]
  },
  {
   "cell_type": "markdown",
   "id": "c69f0d10-ddf1-4537-927c-9614a4a8b374",
   "metadata": {},
   "source": [
    "as we can see it's reset the data with reset_index function and drop=True we use because if we do not\n",
    "use the drop=True it's generate the extra index which we can remove after but to remvoe before we use thsi "
   ]
  },
  {
   "cell_type": "code",
   "execution_count": 54,
   "id": "f905dd76-b915-4475-8df8-a4bd6b036c0f",
   "metadata": {},
   "outputs": [],
   "source": [
    "# as last how to apply a function let's convert kb into mb by doing dividing it\n",
    "# on thousand let's see"
   ]
  },
  {
   "cell_type": "code",
   "execution_count": 55,
   "id": "c1b21117-a4a9-4dc7-8841-e4392fdcdc95",
   "metadata": {},
   "outputs": [],
   "source": [
    "memory = phones['memory(kb)'].apply(lambda x:x/1000)\n",
    "phones['memory(mb)'] = memory"
   ]
  },
  {
   "cell_type": "code",
   "execution_count": 56,
   "id": "ef76964c-cd75-48ef-8d2d-4ee7cec217fd",
   "metadata": {},
   "outputs": [
    {
     "data": {
      "text/html": [
       "<div>\n",
       "<style scoped>\n",
       "    .dataframe tbody tr th:only-of-type {\n",
       "        vertical-align: middle;\n",
       "    }\n",
       "\n",
       "    .dataframe tbody tr th {\n",
       "        vertical-align: top;\n",
       "    }\n",
       "\n",
       "    .dataframe thead th {\n",
       "        text-align: right;\n",
       "    }\n",
       "</style>\n",
       "<table border=\"1\" class=\"dataframe\">\n",
       "  <thead>\n",
       "    <tr style=\"text-align: right;\">\n",
       "      <th></th>\n",
       "      <th>Comapnay</th>\n",
       "      <th>model</th>\n",
       "      <th>memory(kb)</th>\n",
       "      <th>imei</th>\n",
       "      <th>price</th>\n",
       "      <th>Battery</th>\n",
       "      <th>Ringtones</th>\n",
       "      <th>product</th>\n",
       "      <th>string</th>\n",
       "      <th>memory(mb)</th>\n",
       "    </tr>\n",
       "  </thead>\n",
       "  <tbody>\n",
       "    <tr>\n",
       "      <th>0</th>\n",
       "      <td>Samsung</td>\n",
       "      <td>A11</td>\n",
       "      <td>203322</td>\n",
       "      <td>454523</td>\n",
       "      <td>700$</td>\n",
       "      <td>1.0</td>\n",
       "      <td>1</td>\n",
       "      <td>1.0</td>\n",
       "      <td>Dead_phones</td>\n",
       "      <td>203.322</td>\n",
       "    </tr>\n",
       "    <tr>\n",
       "      <th>1</th>\n",
       "      <td>Samsung</td>\n",
       "      <td>A12</td>\n",
       "      <td>432354</td>\n",
       "      <td>233234</td>\n",
       "      <td>600$</td>\n",
       "      <td>3.0</td>\n",
       "      <td>2</td>\n",
       "      <td>6.0</td>\n",
       "      <td>Dead_phones</td>\n",
       "      <td>432.354</td>\n",
       "    </tr>\n",
       "    <tr>\n",
       "      <th>2</th>\n",
       "      <td>Motorola</td>\n",
       "      <td>edge+</td>\n",
       "      <td>234323</td>\n",
       "      <td>23454</td>\n",
       "      <td>700$</td>\n",
       "      <td>3.0</td>\n",
       "      <td>3</td>\n",
       "      <td>9.0</td>\n",
       "      <td>Dead_phones</td>\n",
       "      <td>234.323</td>\n",
       "    </tr>\n",
       "    <tr>\n",
       "      <th>3</th>\n",
       "      <td>vivo</td>\n",
       "      <td>Y20</td>\n",
       "      <td>234334</td>\n",
       "      <td>234323</td>\n",
       "      <td>20$</td>\n",
       "      <td>4.0</td>\n",
       "      <td>4</td>\n",
       "      <td>16.0</td>\n",
       "      <td>Dead_phones</td>\n",
       "      <td>234.334</td>\n",
       "    </tr>\n",
       "    <tr>\n",
       "      <th>4</th>\n",
       "      <td>Iphone</td>\n",
       "      <td>15promax</td>\n",
       "      <td>234567</td>\n",
       "      <td>233445</td>\n",
       "      <td>1500$</td>\n",
       "      <td>NaN</td>\n",
       "      <td>5</td>\n",
       "      <td>NaN</td>\n",
       "      <td>Dead_phones</td>\n",
       "      <td>234.567</td>\n",
       "    </tr>\n",
       "  </tbody>\n",
       "</table>\n",
       "</div>"
      ],
      "text/plain": [
       "   Comapnay     model  memory(kb)    imei  price  Battery  Ringtones  product  \\\n",
       "0   Samsung       A11      203322  454523   700$      1.0          1      1.0   \n",
       "1   Samsung       A12      432354  233234   600$      3.0          2      6.0   \n",
       "2  Motorola     edge+      234323   23454   700$      3.0          3      9.0   \n",
       "3      vivo       Y20      234334  234323    20$      4.0          4     16.0   \n",
       "4    Iphone  15promax      234567  233445  1500$      NaN          5      NaN   \n",
       "\n",
       "        string  memory(mb)  \n",
       "0  Dead_phones     203.322  \n",
       "1  Dead_phones     432.354  \n",
       "2  Dead_phones     234.323  \n",
       "3  Dead_phones     234.334  \n",
       "4  Dead_phones     234.567  "
      ]
     },
     "execution_count": 56,
     "metadata": {},
     "output_type": "execute_result"
    }
   ],
   "source": [
    "phones"
   ]
  },
  {
   "cell_type": "markdown",
   "id": "aba916c5-a5a1-41c4-baee-23f29a83a1b9",
   "metadata": {},
   "source": [
    "as we can see we have applied a function on it lambda func"
   ]
  },
  {
   "cell_type": "markdown",
   "id": "0e03a133-a2ed-4437-9358-e752ddc78cea",
   "metadata": {},
   "source": [
    "# NumPy Array Section"
   ]
  },
  {
   "cell_type": "code",
   "execution_count": 2,
   "id": "5e967b96-d2e2-4b31-8c60-95cf7a367aaa",
   "metadata": {},
   "outputs": [],
   "source": [
    "# Numpy \n",
    "# Numpy is use as a binary 0,1 to identify image base data \n",
    "# and it's written in C and pandas written in Numpy "
   ]
  },
  {
   "cell_type": "markdown",
   "id": "afd79a61-c046-4f98-9961-f375e9ae6aaf",
   "metadata": {},
   "source": [
    "# Numpy array "
   ]
  },
  {
   "cell_type": "code",
   "execution_count": 3,
   "id": "60b5814d-2e34-4575-99e9-234d5413085c",
   "metadata": {},
   "outputs": [],
   "source": [
    "# in this lecture we will learn about the how to make 1-D,2-D,3-D array \n",
    "# let's start "
   ]
  },
  {
   "cell_type": "code",
   "execution_count": 4,
   "id": "1e596a7b-d415-4771-8e6a-b02833248657",
   "metadata": {},
   "outputs": [],
   "source": [
    "import numpy as np"
   ]
  },
  {
   "cell_type": "code",
   "execution_count": 5,
   "id": "499e4064-c2da-4f94-ae9c-0c7509681d5c",
   "metadata": {},
   "outputs": [],
   "source": [
    "a1d = np.array([1,3,4,5])"
   ]
  },
  {
   "cell_type": "code",
   "execution_count": 6,
   "id": "73808af8-c25f-4e1f-957a-d93d9bb25d03",
   "metadata": {},
   "outputs": [
    {
     "data": {
      "text/plain": [
       "array([1, 3, 4, 5])"
      ]
     },
     "execution_count": 6,
     "metadata": {},
     "output_type": "execute_result"
    }
   ],
   "source": [
    "a1d"
   ]
  },
  {
   "cell_type": "markdown",
   "id": "cbd22f97-b697-4928-821e-7302837c94d8",
   "metadata": {},
   "source": [
    "like this how we created numpy array with 1-Dimension which is going in only one direction "
   ]
  },
  {
   "cell_type": "code",
   "execution_count": 7,
   "id": "0330bd60-7234-424f-b8dc-6c4920ce205b",
   "metadata": {},
   "outputs": [],
   "source": [
    "a2d = np.array([[2,3,4,4],[2,3,4,4]])"
   ]
  },
  {
   "cell_type": "code",
   "execution_count": 8,
   "id": "e6240a88-2914-43c5-8755-5fae8db93c40",
   "metadata": {},
   "outputs": [
    {
     "data": {
      "text/plain": [
       "array([[2, 3, 4, 4],\n",
       "       [2, 3, 4, 4]])"
      ]
     },
     "execution_count": 8,
     "metadata": {},
     "output_type": "execute_result"
    }
   ],
   "source": [
    "a2d"
   ]
  },
  {
   "cell_type": "markdown",
   "id": "d6b21337-db8c-4bd2-859d-cf467d09d8f9",
   "metadata": {},
   "source": [
    "this is how we made 2-Dimension array with twice 1-D "
   ]
  },
  {
   "cell_type": "code",
   "execution_count": 12,
   "id": "9b28a1e1-edfe-4a57-9a28-8400e23b3164",
   "metadata": {},
   "outputs": [],
   "source": [
    "a3d = np.array([[[2,3,4,4],[2,3,4,4]],[[2,3,4,4],[2,3,4,4]]])"
   ]
  },
  {
   "cell_type": "code",
   "execution_count": 13,
   "id": "662a847c-c531-4b4e-acc9-22214cad5477",
   "metadata": {},
   "outputs": [
    {
     "data": {
      "text/plain": [
       "array([[[2, 3, 4, 4],\n",
       "        [2, 3, 4, 4]],\n",
       "\n",
       "       [[2, 3, 4, 4],\n",
       "        [2, 3, 4, 4]]])"
      ]
     },
     "execution_count": 13,
     "metadata": {},
     "output_type": "execute_result"
    }
   ],
   "source": [
    "a3d"
   ]
  },
  {
   "cell_type": "markdown",
   "id": "d64e4c2f-d2a5-4cea-a4e8-c6061d83254c",
   "metadata": {},
   "source": [
    "this is how we created the 3-Dimension array by twice 2-D "
   ]
  },
  {
   "cell_type": "markdown",
   "id": "fc230153-5e45-4d14-9d76-e987a451981f",
   "metadata": {},
   "source": [
    "# Shape of array"
   ]
  },
  {
   "cell_type": "code",
   "execution_count": 14,
   "id": "aa886cc9-18b2-4e5f-bd20-e627607aa0fb",
   "metadata": {},
   "outputs": [],
   "source": [
    "# in this lecture we will learn about the 3-Dimensions arrays alternate names let's see "
   ]
  },
  {
   "cell_type": "code",
   "execution_count": 15,
   "id": "b9e05c24-de82-4ea8-955e-b820270b4b1a",
   "metadata": {},
   "outputs": [
    {
     "data": {
      "text/plain": [
       "array([1, 3, 4, 5])"
      ]
     },
     "execution_count": 15,
     "metadata": {},
     "output_type": "execute_result"
    }
   ],
   "source": [
    "a1d = np.array([1,3,4,5])\n",
    "a1d"
   ]
  },
  {
   "cell_type": "markdown",
   "id": "988fdcd1-3463-45c6-8b4d-6585658b3a3d",
   "metadata": {},
   "source": [
    "this is 1-D array is also known as vector"
   ]
  },
  {
   "cell_type": "code",
   "execution_count": 16,
   "id": "4fdafd3a-c5ca-4d99-b450-7f2edcaff292",
   "metadata": {},
   "outputs": [
    {
     "data": {
      "text/plain": [
       "array([[2, 3, 4, 4],\n",
       "       [2, 3, 4, 4]])"
      ]
     },
     "execution_count": 16,
     "metadata": {},
     "output_type": "execute_result"
    }
   ],
   "source": [
    "a2d = np.array([[2,3,4,4],[2,3,4,4]])\n",
    "a2d"
   ]
  },
  {
   "cell_type": "markdown",
   "id": "56506804-25fd-49e1-a1fd-5a0584def631",
   "metadata": {},
   "source": [
    "this is 2-D array with twice vector this also known as Matrix."
   ]
  },
  {
   "cell_type": "code",
   "execution_count": 17,
   "id": "d0733729-0c2b-409f-98e6-68a307fd994a",
   "metadata": {},
   "outputs": [
    {
     "data": {
      "text/plain": [
       "array([[[2, 3, 4, 4],\n",
       "        [2, 3, 4, 4]],\n",
       "\n",
       "       [[2, 3, 4, 4],\n",
       "        [2, 3, 4, 4]]])"
      ]
     },
     "execution_count": 17,
     "metadata": {},
     "output_type": "execute_result"
    }
   ],
   "source": [
    "a3d = np.array([[[2,3,4,4],[2,3,4,4]],[[2,3,4,4],[2,3,4,4]]])\n",
    "a3d"
   ]
  },
  {
   "cell_type": "markdown",
   "id": "9496dada-9a01-4526-a42f-5d443b911c78",
   "metadata": {},
   "source": [
    "this is 3-D array with twice 2-D array twice is also known as Matrix \n",
    "more than vector arrays is called matrix "
   ]
  },
  {
   "cell_type": "code",
   "execution_count": 18,
   "id": "6e989b1b-3793-449e-a2b5-4a42556f7833",
   "metadata": {},
   "outputs": [],
   "source": [
    "# let's see the shape of the all dimension arrays "
   ]
  },
  {
   "cell_type": "code",
   "execution_count": 20,
   "id": "ef914207-8e1a-48b3-a5a1-7df5f536c788",
   "metadata": {},
   "outputs": [
    {
     "data": {
      "text/plain": [
       "(2, 2, 4)"
      ]
     },
     "execution_count": 20,
     "metadata": {},
     "output_type": "execute_result"
    }
   ],
   "source": [
    "a3d.shape"
   ]
  },
  {
   "cell_type": "markdown",
   "id": "39b334f8-33e2-4a1c-b8ab-378cb2bd79c1",
   "metadata": {},
   "source": [
    "this is how is defined the shape of the matrix \n",
    "(2,2,4) = (number of Matrix,number of rows,number of columns) "
   ]
  },
  {
   "cell_type": "code",
   "execution_count": 22,
   "id": "a014d90b-5ad4-458b-8ddb-fb0ccf952177",
   "metadata": {},
   "outputs": [
    {
     "data": {
      "text/plain": [
       "(2, 4)"
      ]
     },
     "execution_count": 22,
     "metadata": {},
     "output_type": "execute_result"
    }
   ],
   "source": [
    "a2d.shape"
   ]
  },
  {
   "cell_type": "markdown",
   "id": "7f33f4b2-584a-45a2-a33d-dd5060c39c4c",
   "metadata": {},
   "source": [
    "it's telling the (2,4) = (number of rows,number of columns)"
   ]
  },
  {
   "cell_type": "code",
   "execution_count": 23,
   "id": "bb018ca7-7f7e-42fd-9332-342810c54532",
   "metadata": {},
   "outputs": [
    {
     "data": {
      "text/plain": [
       "(4,)"
      ]
     },
     "execution_count": 23,
     "metadata": {},
     "output_type": "execute_result"
    }
   ],
   "source": [
    "a1d.shape"
   ]
  },
  {
   "cell_type": "markdown",
   "id": "57e82807-c9dd-4f38-b678-4262b4d2df39",
   "metadata": {},
   "source": [
    "it's telling the (4,) = (number of columns only,)"
   ]
  },
  {
   "cell_type": "markdown",
   "id": "c0579934-4902-459c-a287-66182136bc3c",
   "metadata": {},
   "source": [
    "# Important function on array"
   ]
  },
  {
   "cell_type": "code",
   "execution_count": 24,
   "id": "af2440f6-b8b8-4224-8e30-6db35f9027c2",
   "metadata": {},
   "outputs": [],
   "source": [
    "# in this lecture we will learn about these below methods on arrays let's see"
   ]
  },
  {
   "cell_type": "code",
   "execution_count": 25,
   "id": "a650d9e7-1d68-4ae3-a264-98820e12b885",
   "metadata": {},
   "outputs": [],
   "source": [
    "# 1.ndim for checking the dimension of the array for example "
   ]
  },
  {
   "cell_type": "code",
   "execution_count": 26,
   "id": "4a0e5a68-29f5-4647-9275-bcb02119c6b0",
   "metadata": {},
   "outputs": [
    {
     "data": {
      "text/plain": [
       "1"
      ]
     },
     "execution_count": 26,
     "metadata": {},
     "output_type": "execute_result"
    }
   ],
   "source": [
    "a1d.ndim"
   ]
  },
  {
   "cell_type": "code",
   "execution_count": 27,
   "id": "85ad2e0a-bf83-49b1-bcc6-a6c3ac0b3c0f",
   "metadata": {},
   "outputs": [
    {
     "data": {
      "text/plain": [
       "2"
      ]
     },
     "execution_count": 27,
     "metadata": {},
     "output_type": "execute_result"
    }
   ],
   "source": [
    "a2d.ndim"
   ]
  },
  {
   "cell_type": "code",
   "execution_count": 28,
   "id": "c4046a1d-1509-45b9-a98a-8a9ee85495b2",
   "metadata": {},
   "outputs": [
    {
     "data": {
      "text/plain": [
       "3"
      ]
     },
     "execution_count": 28,
     "metadata": {},
     "output_type": "execute_result"
    }
   ],
   "source": [
    "a3d.ndim"
   ]
  },
  {
   "cell_type": "markdown",
   "id": "50b2e851-4f48-4e83-bac5-f4d37ed6d686",
   "metadata": {},
   "source": [
    "this is how it's telling the dimension of the arrays "
   ]
  },
  {
   "cell_type": "code",
   "execution_count": 29,
   "id": "71621f1e-5abe-4baa-bec9-77dfdcfabff8",
   "metadata": {},
   "outputs": [
    {
     "data": {
      "text/plain": [
       "array([[[2.2, 3. , 4. , 4. ],\n",
       "        [2. , 3. , 4. , 4. ]],\n",
       "\n",
       "       [[2. , 3. , 4. , 4. ],\n",
       "        [2. , 3. , 4. , 4. ]]])"
      ]
     },
     "execution_count": 29,
     "metadata": {},
     "output_type": "execute_result"
    }
   ],
   "source": [
    "# it's prefer the float values if the one entry in the matrix is float so it will convert all entries into \n",
    "# float values \n",
    "a3d = np.array([[[2.2,3,4,4],[2,3,4,4]],[[2,3,4,4],[2,3,4,4]]])\n",
    "a3d"
   ]
  },
  {
   "cell_type": "markdown",
   "id": "8a5ad427-5325-4483-b078-15c907bc1826",
   "metadata": {},
   "source": [
    "as we can see it converted all the other values into the float values casue it's prefer the float value"
   ]
  },
  {
   "cell_type": "code",
   "execution_count": 30,
   "id": "a0c7ad2a-1711-4475-9b57-f0502eef2444",
   "metadata": {},
   "outputs": [
    {
     "data": {
      "text/plain": [
       "dtype('float64')"
      ]
     },
     "execution_count": 30,
     "metadata": {},
     "output_type": "execute_result"
    }
   ],
   "source": [
    "a3d.dtype"
   ]
  },
  {
   "cell_type": "markdown",
   "id": "0dc6b3b0-78aa-4537-b8d2-f70bf305d657",
   "metadata": {},
   "source": [
    "it's telling the dtype is float "
   ]
  },
  {
   "cell_type": "code",
   "execution_count": 31,
   "id": "b4d8f8e4-d127-44de-89ad-f59af83b5767",
   "metadata": {},
   "outputs": [],
   "source": [
    "# let's see how to check the number of entries in the matrix "
   ]
  },
  {
   "cell_type": "code",
   "execution_count": 32,
   "id": "c06208eb-22ba-4ac9-b385-441e7aea12ce",
   "metadata": {},
   "outputs": [
    {
     "data": {
      "text/plain": [
       "16"
      ]
     },
     "execution_count": 32,
     "metadata": {},
     "output_type": "execute_result"
    }
   ],
   "source": [
    "a3d.size"
   ]
  },
  {
   "cell_type": "markdown",
   "id": "153b62f2-e8c1-461e-ac68-677466a60805",
   "metadata": {},
   "source": [
    "it's telling the number of entries in the matrix 3-D is = 16"
   ]
  },
  {
   "cell_type": "code",
   "execution_count": 33,
   "id": "1f3b8fbe-9e45-488f-9d5f-432cc3ea658a",
   "metadata": {},
   "outputs": [
    {
     "data": {
      "text/plain": [
       "numpy.ndarray"
      ]
     },
     "execution_count": 33,
     "metadata": {},
     "output_type": "execute_result"
    }
   ],
   "source": [
    "type(a3d)"
   ]
  },
  {
   "cell_type": "markdown",
   "id": "3c2597de-7a8b-4c9d-a109-41718dcc5fa7",
   "metadata": {},
   "source": [
    "this is how to check the type of the array"
   ]
  },
  {
   "cell_type": "markdown",
   "id": "11e6ddbd-49ec-4062-9067-491ae885d410",
   "metadata": {},
   "source": [
    "# Creating the Numpy array "
   ]
  },
  {
   "cell_type": "code",
   "execution_count": 34,
   "id": "f7d4fd94-98ff-4125-a10c-f51790500ccf",
   "metadata": {},
   "outputs": [],
   "source": [
    "# in this lecture we will create Numpy arrays with zeros,ones and random entries let's see how "
   ]
  },
  {
   "cell_type": "code",
   "execution_count": 35,
   "id": "2229f267-e320-4fb0-aa69-eda480faa0f9",
   "metadata": {},
   "outputs": [],
   "source": [
    "# first with zeros \n",
    "zeros = np.zeros((2,3)) # the argument in the zeros function is the shape of the matrix it could \n",
    "# be one dimension two dimension and three dimension "
   ]
  },
  {
   "cell_type": "code",
   "execution_count": 36,
   "id": "e9a450cf-c12a-45a8-b229-d2488aec9042",
   "metadata": {},
   "outputs": [
    {
     "data": {
      "text/plain": [
       "array([[0., 0., 0.],\n",
       "       [0., 0., 0.]])"
      ]
     },
     "execution_count": 36,
     "metadata": {},
     "output_type": "execute_result"
    }
   ],
   "source": [
    "zeros"
   ]
  },
  {
   "cell_type": "code",
   "execution_count": 37,
   "id": "6d44c7c9-3cc6-4469-acc5-d19ec3ec0405",
   "metadata": {},
   "outputs": [],
   "source": [
    "# now let's see ones "
   ]
  },
  {
   "cell_type": "code",
   "execution_count": 38,
   "id": "9539c280-f0b1-458c-8000-00a427dae71f",
   "metadata": {},
   "outputs": [],
   "source": [
    "ones = np.ones((2,4))"
   ]
  },
  {
   "cell_type": "code",
   "execution_count": 39,
   "id": "7afa2397-c6e3-4580-8355-5262802bff77",
   "metadata": {},
   "outputs": [
    {
     "data": {
      "text/plain": [
       "array([[1., 1., 1., 1.],\n",
       "       [1., 1., 1., 1.]])"
      ]
     },
     "execution_count": 39,
     "metadata": {},
     "output_type": "execute_result"
    }
   ],
   "source": [
    "ones"
   ]
  },
  {
   "cell_type": "markdown",
   "id": "d4682cba-9c2d-445d-8ff6-d2ca8fd36389",
   "metadata": {},
   "source": [
    "this is with ones and it gives float values as we discussed before it prefer the float value"
   ]
  },
  {
   "cell_type": "code",
   "execution_count": 40,
   "id": "dad2907b-ad8d-4be2-8d8f-f450f6b5f35c",
   "metadata": {},
   "outputs": [],
   "source": [
    "# now first we are going to create matrix with random number let's see first the \n",
    "# concept of the range "
   ]
  },
  {
   "cell_type": "code",
   "execution_count": 41,
   "id": "b3dbed52-9537-4cbc-8c14-98f9bb47279c",
   "metadata": {},
   "outputs": [],
   "source": [
    "range_array = np.arange(0,10,2) # the argument in the arange function is like \n",
    "# (0,10,2) = (start_point,end_point,step_size)"
   ]
  },
  {
   "cell_type": "code",
   "execution_count": 42,
   "id": "5c31a74a-b7ab-4ed4-96ab-a6007497be99",
   "metadata": {},
   "outputs": [
    {
     "data": {
      "text/plain": [
       "array([0, 2, 4, 6, 8])"
      ]
     },
     "execution_count": 42,
     "metadata": {},
     "output_type": "execute_result"
    }
   ],
   "source": [
    "range_array"
   ]
  },
  {
   "cell_type": "code",
   "execution_count": 43,
   "id": "23223683-ae56-454d-847e-7233572ec1a7",
   "metadata": {},
   "outputs": [],
   "source": [
    "# let's create the matrix with random numbers "
   ]
  },
  {
   "cell_type": "code",
   "execution_count": 47,
   "id": "f6060a91-d934-4dc8-b3c5-bdffd4a503eb",
   "metadata": {},
   "outputs": [],
   "source": [
    "random_array = np.random.randint(0,10,size=(2,3)) # manually set range to let choose pc numbers from the range\n",
    "#here is the argument sequence of random array\n",
    "# (start_point,end_point ,size_of_matrix)"
   ]
  },
  {
   "cell_type": "code",
   "execution_count": 48,
   "id": "8671dd4c-e23e-44d4-aa54-a0f9759c616d",
   "metadata": {},
   "outputs": [
    {
     "data": {
      "text/plain": [
       "array([[6, 9, 3],\n",
       "       [6, 8, 2]])"
      ]
     },
     "execution_count": 48,
     "metadata": {},
     "output_type": "execute_result"
    }
   ],
   "source": [
    "random_array"
   ]
  },
  {
   "cell_type": "markdown",
   "id": "4ffc3062-0d81-4c9f-8a68-c8710b088f78",
   "metadata": {},
   "source": [
    "here we have to give for sure the start_point and end_point cause we can't let choose the computer \n",
    "a range to select numbers for random matrix it will crash the pc so we have to give the range \n",
    "where from the pc with choose easily the numbers"
   ]
  },
  {
   "cell_type": "code",
   "execution_count": 49,
   "id": "8f5e47e6-0c6b-4687-95ac-72dc1aca7df5",
   "metadata": {},
   "outputs": [],
   "source": [
    "# let's create the random number without giving the start_point and end point "
   ]
  },
  {
   "cell_type": "code",
   "execution_count": 51,
   "id": "f24f6d08-ae50-40cb-8fbd-35c9b124826b",
   "metadata": {},
   "outputs": [],
   "source": [
    "rand_array = np.random.rand(2,3) # 0-1 to one range automatically "
   ]
  },
  {
   "cell_type": "code",
   "execution_count": 53,
   "id": "e0769a68-9e49-4aef-9439-6e1b0eaa5481",
   "metadata": {},
   "outputs": [
    {
     "data": {
      "text/plain": [
       "array([[0.81460311, 0.23635495, 0.77455858],\n",
       "       [0.23940157, 0.3432594 , 0.67425378]])"
      ]
     },
     "execution_count": 53,
     "metadata": {},
     "output_type": "execute_result"
    }
   ],
   "source": [
    "rand_array"
   ]
  },
  {
   "cell_type": "markdown",
   "id": "87faad62-1304-41b7-af91-6ab11c9f1234",
   "metadata": {},
   "source": [
    "here we can see it's generated the random number matrix but in this case here range set by default from 0-1\n",
    "so it's generated the matrix between 0-1 with the point values "
   ]
  },
  {
   "cell_type": "code",
   "execution_count": 55,
   "id": "76456366-78f1-430d-aca0-c8283f4a66fa",
   "metadata": {},
   "outputs": [],
   "source": [
    "# here is one more concept how to make the datframe with using Numpy array in pandas\n",
    "# as we know that pandas is written in Numpy so we can connect them like this"
   ]
  },
  {
   "cell_type": "code",
   "execution_count": 59,
   "id": "a4cc99a7-b1d6-442c-abbc-d8c92042f8e4",
   "metadata": {},
   "outputs": [],
   "source": [
    "import pandas as pd"
   ]
  },
  {
   "cell_type": "code",
   "execution_count": 60,
   "id": "02b4096f-c065-4c2b-8c3b-9398b04e0c75",
   "metadata": {},
   "outputs": [],
   "source": [
    "df = pd.DataFrame(a2d)"
   ]
  },
  {
   "cell_type": "code",
   "execution_count": 61,
   "id": "ba1326c1-9fab-4499-adf8-5f366d98813a",
   "metadata": {},
   "outputs": [
    {
     "data": {
      "text/html": [
       "<div>\n",
       "<style scoped>\n",
       "    .dataframe tbody tr th:only-of-type {\n",
       "        vertical-align: middle;\n",
       "    }\n",
       "\n",
       "    .dataframe tbody tr th {\n",
       "        vertical-align: top;\n",
       "    }\n",
       "\n",
       "    .dataframe thead th {\n",
       "        text-align: right;\n",
       "    }\n",
       "</style>\n",
       "<table border=\"1\" class=\"dataframe\">\n",
       "  <thead>\n",
       "    <tr style=\"text-align: right;\">\n",
       "      <th></th>\n",
       "      <th>0</th>\n",
       "      <th>1</th>\n",
       "      <th>2</th>\n",
       "      <th>3</th>\n",
       "    </tr>\n",
       "  </thead>\n",
       "  <tbody>\n",
       "    <tr>\n",
       "      <th>0</th>\n",
       "      <td>2</td>\n",
       "      <td>3</td>\n",
       "      <td>4</td>\n",
       "      <td>4</td>\n",
       "    </tr>\n",
       "    <tr>\n",
       "      <th>1</th>\n",
       "      <td>2</td>\n",
       "      <td>3</td>\n",
       "      <td>4</td>\n",
       "      <td>4</td>\n",
       "    </tr>\n",
       "  </tbody>\n",
       "</table>\n",
       "</div>"
      ],
      "text/plain": [
       "   0  1  2  3\n",
       "0  2  3  4  4\n",
       "1  2  3  4  4"
      ]
     },
     "execution_count": 61,
     "metadata": {},
     "output_type": "execute_result"
    }
   ],
   "source": [
    "df"
   ]
  },
  {
   "cell_type": "markdown",
   "id": "5dbae456-62e0-48e3-a2dc-709a6677de55",
   "metadata": {},
   "source": [
    "here how it's converted the Numpy array to the DataFrame now we can apply the machine learning models on it \n",
    "this was you can say the a little example of the machine learning model "
   ]
  },
  {
   "cell_type": "code",
   "execution_count": null,
   "id": "37c33dc8-dbc6-48ff-85d6-6eff302ea257",
   "metadata": {},
   "outputs": [],
   "source": []
  }
 ],
 "metadata": {
  "kernelspec": {
   "display_name": "Python 3 (ipykernel)",
   "language": "python",
   "name": "python3"
  },
  "language_info": {
   "codemirror_mode": {
    "name": "ipython",
    "version": 3
   },
   "file_extension": ".py",
   "mimetype": "text/x-python",
   "name": "python",
   "nbconvert_exporter": "python",
   "pygments_lexer": "ipython3",
   "version": "3.8.18"
  }
 },
 "nbformat": 4,
 "nbformat_minor": 5
}
